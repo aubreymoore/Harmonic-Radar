{
 "cells": [
  {
   "cell_type": "code",
   "execution_count": 1,
   "id": "f9c45c07-fe67-4f8e-9193-3342dfa3e60b",
   "metadata": {},
   "outputs": [],
   "source": [
    "from filesplit.split import Split\n",
    "from filesplit.merge import Merge\n",
    "import os\n",
    "import glob\n",
    "import pathlib"
   ]
  },
  {
   "cell_type": "code",
   "execution_count": 2,
   "id": "dfc7ea4c-7802-4322-832f-6e51fa87ae93",
   "metadata": {},
   "outputs": [
    {
     "name": "stdout",
     "output_type": "stream",
     "text": [
      "['FLY275.DAT', 'testmerge/FLY275.DAT']\n"
     ]
    }
   ],
   "source": [
    "# List files larger than 50 MB\n",
    "\n",
    "bigfiles = []\n",
    "for f in glob.glob('**', recursive=True):\n",
    "    if os.path.isfile(f):\n",
    "        if os.path.getsize(f) > 50e6:\n",
    "            bigfiles.append(f)\n",
    "print(bigfiles)"
   ]
  },
  {
   "cell_type": "markdown",
   "id": "369bf0b8-5a9d-428d-8f26-c8af3d57395e",
   "metadata": {},
   "source": [
    "Now that we have found files > 50 MB we need to:\n",
    "\n",
    "* add filenames to .gitignore if not already there\n",
    "* splits directories if not already there"
   ]
  },
  {
   "cell_type": "code",
   "execution_count": 3,
   "id": "a3c73bf0-bb04-4857-9f57-4334d10b32c4",
   "metadata": {},
   "outputs": [],
   "source": [
    "# Ensure .gitignore exists\n",
    "path = pathlib.Path('.gitignore')\n",
    "path.touch(exist_ok=True)\n",
    "\n",
    "# Read .gitignore text as a string\n",
    "with open(path,\"r\") as f:\n",
    "    string = f.read()\n",
    "\n",
    "# Add paths for big files to the string    \n",
    "for f in bigfiles:\n",
    "    if not f in string:\n",
    "        string += f'{f}\\n'\n",
    "\n",
    "# Overwrite .gitignore with modified string\n",
    "with open(path,\"w\") as f:\n",
    "    f.write(string)"
   ]
  },
  {
   "cell_type": "code",
   "execution_count": 6,
   "id": "2965570f-eec2-49b5-a14d-b7787bd9f62b",
   "metadata": {},
   "outputs": [],
   "source": [
    "for bigfile in bigfiles:\n",
    "    # Ensure outputdir exists\n",
    "    outputdir = pathlib.Path(bigfile + '_splits')\n",
    "    outputdir.mkdir(parents=True, exist_ok=True) \n",
    "    \n",
    "    # Create splits\n",
    "    split = Split(bigfile, outputdir)\n",
    "    split.bysize(50e6)"
   ]
  },
  {
   "cell_type": "code",
   "execution_count": 11,
   "id": "aeaccfd9-df56-47c6-882c-081392294abb",
   "metadata": {},
   "outputs": [],
   "source": [
    "def merge_splits(inputdir, outputdir, outputfilename):\n",
    "    \"\"\"\n",
    "    inputdir: directory contining splits created by the filesplit module\n",
    "    outputdir: directory into which the reassembled file will be placed\n",
    "    outputfilename: filename for the reassembled file\n",
    "    \"\"\"\n",
    "    # Ensure outputdir exists\n",
    "    pathlib.Path(outputdir).mkdir(parents=True, exist_ok=True) \n",
    "\n",
    "    # Reassemble splits\n",
    "    merge = Merge(inputdir='FLY275.DAT_splits', outputdir='testmerge', outputfilename='FLY275.DAT')\n",
    "    merge.merge()\n",
    "\n",
    "# merge_splits(inputdir='FLY275.DAT_splits', outputdir='testmerge', outputfilename='FLY275.DAT')"
   ]
  },
  {
   "cell_type": "code",
   "execution_count": 12,
   "id": "1cf5a77d-099d-4df9-85e0-3c62bd62f1ee",
   "metadata": {},
   "outputs": [],
   "source": [
    "for bigfile in bigfiles:\n",
    "    merge_splits(inputdir=bigfile+'_splits', outputdir='merged', outputfilename=bigfile)"
   ]
  },
  {
   "cell_type": "code",
   "execution_count": null,
   "id": "cd65609a-f2e2-4641-9131-e8d4c1ec91bb",
   "metadata": {},
   "outputs": [],
   "source": []
  }
 ],
 "metadata": {
  "kernelspec": {
   "display_name": "Python 3",
   "language": "python",
   "name": "python3"
  },
  "language_info": {
   "codemirror_mode": {
    "name": "ipython",
    "version": 3
   },
   "file_extension": ".py",
   "mimetype": "text/x-python",
   "name": "python",
   "nbconvert_exporter": "python",
   "pygments_lexer": "ipython3",
   "version": "3.8.8"
  }
 },
 "nbformat": 4,
 "nbformat_minor": 5
}
