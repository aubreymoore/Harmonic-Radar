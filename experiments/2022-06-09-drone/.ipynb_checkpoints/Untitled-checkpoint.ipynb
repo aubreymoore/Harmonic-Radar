{
 "cells": [
  {
   "cell_type": "code",
   "execution_count": 1,
   "id": "1aa77006-777e-468a-a9f9-dcdbceb05723",
   "metadata": {},
   "outputs": [],
   "source": [
    "import plotly.express as px\n",
    "import pandas as pd\n",
    "import scipy.io.wavfile\n",
    "import math\n",
    "import numpy as np\n",
    "import datetime"
   ]
  },
  {
   "cell_type": "markdown",
   "id": "086f1c67",
   "metadata": {},
   "source": [
    "# Process flight log\n",
    "\n",
    "![](DataCon.png)"
   ]
  },
  {
   "cell_type": "code",
   "execution_count": 2,
   "id": "df3ad126-57fb-4b78-a260-6f0cfc87d75a",
   "metadata": {},
   "outputs": [
    {
     "name": "stderr",
     "output_type": "stream",
     "text": [
      "<ipython-input-2-dbf350bb67d8>:1: DtypeWarning:\n",
      "\n",
      "Columns (49,50,96,137,138,139,140,141,142,143,144,145,146,205,207,209,210,211,1272) have mixed types. Specify dtype option on import or set low_memory=False.\n",
      "\n"
     ]
    },
    {
     "data": {
      "text/html": [
       "<div>\n",
       "<style scoped>\n",
       "    .dataframe tbody tr th:only-of-type {\n",
       "        vertical-align: middle;\n",
       "    }\n",
       "\n",
       "    .dataframe tbody tr th {\n",
       "        vertical-align: top;\n",
       "    }\n",
       "\n",
       "    .dataframe thead th {\n",
       "        text-align: right;\n",
       "    }\n",
       "</style>\n",
       "<table border=\"1\" class=\"dataframe\">\n",
       "  <thead>\n",
       "    <tr style=\"text-align: right;\">\n",
       "      <th></th>\n",
       "      <th>Clock:Tick#</th>\n",
       "      <th>Clock:offsetTime</th>\n",
       "      <th>IMU_ATTI(0):Longitude</th>\n",
       "      <th>IMU_ATTI(0):Latitude</th>\n",
       "      <th>IMU_ATTI(0):press:D</th>\n",
       "      <th>IMU_ATTI(0):alti:D</th>\n",
       "      <th>IMU_ATTI(0):relativeHeight:C</th>\n",
       "      <th>IMU_ATTI(0):absoluteHeight:C</th>\n",
       "      <th>IMU_ATTI(0):numSats</th>\n",
       "      <th>IMU_ATTI(0):roll:C</th>\n",
       "      <th>...</th>\n",
       "      <th>ahrs_data:ns_vgy:D</th>\n",
       "      <th>ahrs_data:ns_vgz:D</th>\n",
       "      <th>spray_sys_state:spray_mode:D</th>\n",
       "      <th>spray_sys_state:cap_percentage:D</th>\n",
       "      <th>spray_sys_state:total_flow:D</th>\n",
       "      <th>spray_sys_state:total_volume:D</th>\n",
       "      <th>spray_sys_state:cnt:D</th>\n",
       "      <th>Attribute|Value</th>\n",
       "      <th>ConvertDatV3</th>\n",
       "      <th>4.2.3</th>\n",
       "    </tr>\n",
       "  </thead>\n",
       "  <tbody>\n",
       "    <tr>\n",
       "      <th>0</th>\n",
       "      <td>0</td>\n",
       "      <td>-74.628</td>\n",
       "      <td>NaN</td>\n",
       "      <td>NaN</td>\n",
       "      <td>NaN</td>\n",
       "      <td>NaN</td>\n",
       "      <td>NaN</td>\n",
       "      <td>NaN</td>\n",
       "      <td>NaN</td>\n",
       "      <td>NaN</td>\n",
       "      <td>...</td>\n",
       "      <td>NaN</td>\n",
       "      <td>NaN</td>\n",
       "      <td>NaN</td>\n",
       "      <td>NaN</td>\n",
       "      <td>NaN</td>\n",
       "      <td>NaN</td>\n",
       "      <td>NaN</td>\n",
       "      <td>NaN</td>\n",
       "      <td>NaN</td>\n",
       "      <td>NaN</td>\n",
       "    </tr>\n",
       "    <tr>\n",
       "      <th>1</th>\n",
       "      <td>335826539</td>\n",
       "      <td>0.000</td>\n",
       "      <td>144.802802</td>\n",
       "      <td>13.431430</td>\n",
       "      <td>45.336920</td>\n",
       "      <td>45.390064</td>\n",
       "      <td>NaN</td>\n",
       "      <td>NaN</td>\n",
       "      <td>17.0</td>\n",
       "      <td>-1.034109</td>\n",
       "      <td>...</td>\n",
       "      <td>-0.001709</td>\n",
       "      <td>-0.020577</td>\n",
       "      <td>1.0</td>\n",
       "      <td>1.0</td>\n",
       "      <td>0.0</td>\n",
       "      <td>0.0</td>\n",
       "      <td>300.0</td>\n",
       "      <td>Firmware Date| Apr 23 2019</td>\n",
       "      <td>NaN</td>\n",
       "      <td>NaN</td>\n",
       "    </tr>\n",
       "    <tr>\n",
       "      <th>2</th>\n",
       "      <td>340326629</td>\n",
       "      <td>1.000</td>\n",
       "      <td>144.802802</td>\n",
       "      <td>13.431430</td>\n",
       "      <td>45.580017</td>\n",
       "      <td>45.407845</td>\n",
       "      <td>0.190983</td>\n",
       "      <td>NaN</td>\n",
       "      <td>17.0</td>\n",
       "      <td>-1.016373</td>\n",
       "      <td>...</td>\n",
       "      <td>-0.010358</td>\n",
       "      <td>-0.021834</td>\n",
       "      <td>1.0</td>\n",
       "      <td>1.0</td>\n",
       "      <td>0.0</td>\n",
       "      <td>0.0</td>\n",
       "      <td>304.0</td>\n",
       "      <td>ACType|UNKNOWN</td>\n",
       "      <td>NaN</td>\n",
       "      <td>NaN</td>\n",
       "    </tr>\n",
       "    <tr>\n",
       "      <th>3</th>\n",
       "      <td>344827307</td>\n",
       "      <td>2.000</td>\n",
       "      <td>144.802802</td>\n",
       "      <td>13.431430</td>\n",
       "      <td>45.418835</td>\n",
       "      <td>45.429535</td>\n",
       "      <td>0.029801</td>\n",
       "      <td>NaN</td>\n",
       "      <td>17.0</td>\n",
       "      <td>-1.053107</td>\n",
       "      <td>...</td>\n",
       "      <td>-0.012075</td>\n",
       "      <td>-0.017920</td>\n",
       "      <td>1.0</td>\n",
       "      <td>1.0</td>\n",
       "      <td>0.0</td>\n",
       "      <td>0.0</td>\n",
       "      <td>309.0</td>\n",
       "      <td>mcID(SN)|148DJ03537</td>\n",
       "      <td>NaN</td>\n",
       "      <td>NaN</td>\n",
       "    </tr>\n",
       "    <tr>\n",
       "      <th>4</th>\n",
       "      <td>349327553</td>\n",
       "      <td>3.000</td>\n",
       "      <td>144.802802</td>\n",
       "      <td>13.431430</td>\n",
       "      <td>45.442616</td>\n",
       "      <td>45.446170</td>\n",
       "      <td>0.053582</td>\n",
       "      <td>NaN</td>\n",
       "      <td>17.0</td>\n",
       "      <td>-1.067673</td>\n",
       "      <td>...</td>\n",
       "      <td>-0.012149</td>\n",
       "      <td>-0.031284</td>\n",
       "      <td>1.0</td>\n",
       "      <td>1.0</td>\n",
       "      <td>0.0</td>\n",
       "      <td>0.0</td>\n",
       "      <td>314.0</td>\n",
       "      <td>mcVer|v3.3.3.76</td>\n",
       "      <td>NaN</td>\n",
       "      <td>NaN</td>\n",
       "    </tr>\n",
       "    <tr>\n",
       "      <th>...</th>\n",
       "      <td>...</td>\n",
       "      <td>...</td>\n",
       "      <td>...</td>\n",
       "      <td>...</td>\n",
       "      <td>...</td>\n",
       "      <td>...</td>\n",
       "      <td>...</td>\n",
       "      <td>...</td>\n",
       "      <td>...</td>\n",
       "      <td>...</td>\n",
       "      <td>...</td>\n",
       "      <td>...</td>\n",
       "      <td>...</td>\n",
       "      <td>...</td>\n",
       "      <td>...</td>\n",
       "      <td>...</td>\n",
       "      <td>...</td>\n",
       "      <td>...</td>\n",
       "      <td>...</td>\n",
       "      <td>...</td>\n",
       "      <td>...</td>\n",
       "    </tr>\n",
       "    <tr>\n",
       "      <th>635</th>\n",
       "      <td>3189313494</td>\n",
       "      <td>634.108</td>\n",
       "      <td>144.802333</td>\n",
       "      <td>13.431330</td>\n",
       "      <td>47.861874</td>\n",
       "      <td>45.647217</td>\n",
       "      <td>3.622525</td>\n",
       "      <td>NaN</td>\n",
       "      <td>15.0</td>\n",
       "      <td>-2.600606</td>\n",
       "      <td>...</td>\n",
       "      <td>-0.388511</td>\n",
       "      <td>1.647127</td>\n",
       "      <td>1.0</td>\n",
       "      <td>1.0</td>\n",
       "      <td>0.0</td>\n",
       "      <td>0.0</td>\n",
       "      <td>3335.0</td>\n",
       "      <td>NaN</td>\n",
       "      <td>NaN</td>\n",
       "      <td>NaN</td>\n",
       "    </tr>\n",
       "    <tr>\n",
       "      <th>636</th>\n",
       "      <td>3193816471</td>\n",
       "      <td>635.109</td>\n",
       "      <td>144.802332</td>\n",
       "      <td>13.431330</td>\n",
       "      <td>46.691048</td>\n",
       "      <td>45.292015</td>\n",
       "      <td>2.451699</td>\n",
       "      <td>NaN</td>\n",
       "      <td>16.0</td>\n",
       "      <td>-2.814195</td>\n",
       "      <td>...</td>\n",
       "      <td>0.049051</td>\n",
       "      <td>0.121175</td>\n",
       "      <td>1.0</td>\n",
       "      <td>1.0</td>\n",
       "      <td>0.0</td>\n",
       "      <td>0.0</td>\n",
       "      <td>3339.0</td>\n",
       "      <td>NaN</td>\n",
       "      <td>NaN</td>\n",
       "      <td>NaN</td>\n",
       "    </tr>\n",
       "    <tr>\n",
       "      <th>637</th>\n",
       "      <td>3198316486</td>\n",
       "      <td>636.109</td>\n",
       "      <td>144.802333</td>\n",
       "      <td>13.431330</td>\n",
       "      <td>47.097862</td>\n",
       "      <td>44.907143</td>\n",
       "      <td>2.858513</td>\n",
       "      <td>NaN</td>\n",
       "      <td>16.0</td>\n",
       "      <td>-1.727692</td>\n",
       "      <td>...</td>\n",
       "      <td>0.096852</td>\n",
       "      <td>0.313633</td>\n",
       "      <td>1.0</td>\n",
       "      <td>1.0</td>\n",
       "      <td>0.0</td>\n",
       "      <td>0.0</td>\n",
       "      <td>3344.0</td>\n",
       "      <td>NaN</td>\n",
       "      <td>NaN</td>\n",
       "      <td>NaN</td>\n",
       "    </tr>\n",
       "    <tr>\n",
       "      <th>638</th>\n",
       "      <td>3202817543</td>\n",
       "      <td>637.109</td>\n",
       "      <td>144.802334</td>\n",
       "      <td>13.431331</td>\n",
       "      <td>45.874443</td>\n",
       "      <td>44.422930</td>\n",
       "      <td>1.635094</td>\n",
       "      <td>NaN</td>\n",
       "      <td>16.0</td>\n",
       "      <td>-2.391983</td>\n",
       "      <td>...</td>\n",
       "      <td>0.326277</td>\n",
       "      <td>0.488941</td>\n",
       "      <td>1.0</td>\n",
       "      <td>1.0</td>\n",
       "      <td>0.0</td>\n",
       "      <td>0.0</td>\n",
       "      <td>3349.0</td>\n",
       "      <td>NaN</td>\n",
       "      <td>NaN</td>\n",
       "      <td>NaN</td>\n",
       "    </tr>\n",
       "    <tr>\n",
       "      <th>639</th>\n",
       "      <td>3207319748</td>\n",
       "      <td>638.110</td>\n",
       "      <td>144.802333</td>\n",
       "      <td>13.431330</td>\n",
       "      <td>44.963010</td>\n",
       "      <td>44.129303</td>\n",
       "      <td>0.723660</td>\n",
       "      <td>NaN</td>\n",
       "      <td>16.0</td>\n",
       "      <td>-0.561618</td>\n",
       "      <td>...</td>\n",
       "      <td>-0.066256</td>\n",
       "      <td>0.077156</td>\n",
       "      <td>1.0</td>\n",
       "      <td>1.0</td>\n",
       "      <td>0.0</td>\n",
       "      <td>0.0</td>\n",
       "      <td>3354.0</td>\n",
       "      <td>NaN</td>\n",
       "      <td>NaN</td>\n",
       "      <td>NaN</td>\n",
       "    </tr>\n",
       "  </tbody>\n",
       "</table>\n",
       "<p>640 rows × 1275 columns</p>\n",
       "</div>"
      ],
      "text/plain": [
       "     Clock:Tick#  Clock:offsetTime  IMU_ATTI(0):Longitude  \\\n",
       "0              0           -74.628                    NaN   \n",
       "1      335826539             0.000             144.802802   \n",
       "2      340326629             1.000             144.802802   \n",
       "3      344827307             2.000             144.802802   \n",
       "4      349327553             3.000             144.802802   \n",
       "..           ...               ...                    ...   \n",
       "635   3189313494           634.108             144.802333   \n",
       "636   3193816471           635.109             144.802332   \n",
       "637   3198316486           636.109             144.802333   \n",
       "638   3202817543           637.109             144.802334   \n",
       "639   3207319748           638.110             144.802333   \n",
       "\n",
       "     IMU_ATTI(0):Latitude  IMU_ATTI(0):press:D  IMU_ATTI(0):alti:D  \\\n",
       "0                     NaN                  NaN                 NaN   \n",
       "1               13.431430            45.336920           45.390064   \n",
       "2               13.431430            45.580017           45.407845   \n",
       "3               13.431430            45.418835           45.429535   \n",
       "4               13.431430            45.442616           45.446170   \n",
       "..                    ...                  ...                 ...   \n",
       "635             13.431330            47.861874           45.647217   \n",
       "636             13.431330            46.691048           45.292015   \n",
       "637             13.431330            47.097862           44.907143   \n",
       "638             13.431331            45.874443           44.422930   \n",
       "639             13.431330            44.963010           44.129303   \n",
       "\n",
       "     IMU_ATTI(0):relativeHeight:C  IMU_ATTI(0):absoluteHeight:C  \\\n",
       "0                             NaN                           NaN   \n",
       "1                             NaN                           NaN   \n",
       "2                        0.190983                           NaN   \n",
       "3                        0.029801                           NaN   \n",
       "4                        0.053582                           NaN   \n",
       "..                            ...                           ...   \n",
       "635                      3.622525                           NaN   \n",
       "636                      2.451699                           NaN   \n",
       "637                      2.858513                           NaN   \n",
       "638                      1.635094                           NaN   \n",
       "639                      0.723660                           NaN   \n",
       "\n",
       "     IMU_ATTI(0):numSats  IMU_ATTI(0):roll:C  ...  ahrs_data:ns_vgy:D  \\\n",
       "0                    NaN                 NaN  ...                 NaN   \n",
       "1                   17.0           -1.034109  ...           -0.001709   \n",
       "2                   17.0           -1.016373  ...           -0.010358   \n",
       "3                   17.0           -1.053107  ...           -0.012075   \n",
       "4                   17.0           -1.067673  ...           -0.012149   \n",
       "..                   ...                 ...  ...                 ...   \n",
       "635                 15.0           -2.600606  ...           -0.388511   \n",
       "636                 16.0           -2.814195  ...            0.049051   \n",
       "637                 16.0           -1.727692  ...            0.096852   \n",
       "638                 16.0           -2.391983  ...            0.326277   \n",
       "639                 16.0           -0.561618  ...           -0.066256   \n",
       "\n",
       "     ahrs_data:ns_vgz:D  spray_sys_state:spray_mode:D  \\\n",
       "0                   NaN                           NaN   \n",
       "1             -0.020577                           1.0   \n",
       "2             -0.021834                           1.0   \n",
       "3             -0.017920                           1.0   \n",
       "4             -0.031284                           1.0   \n",
       "..                  ...                           ...   \n",
       "635            1.647127                           1.0   \n",
       "636            0.121175                           1.0   \n",
       "637            0.313633                           1.0   \n",
       "638            0.488941                           1.0   \n",
       "639            0.077156                           1.0   \n",
       "\n",
       "     spray_sys_state:cap_percentage:D  spray_sys_state:total_flow:D  \\\n",
       "0                                 NaN                           NaN   \n",
       "1                                 1.0                           0.0   \n",
       "2                                 1.0                           0.0   \n",
       "3                                 1.0                           0.0   \n",
       "4                                 1.0                           0.0   \n",
       "..                                ...                           ...   \n",
       "635                               1.0                           0.0   \n",
       "636                               1.0                           0.0   \n",
       "637                               1.0                           0.0   \n",
       "638                               1.0                           0.0   \n",
       "639                               1.0                           0.0   \n",
       "\n",
       "     spray_sys_state:total_volume:D  spray_sys_state:cnt:D  \\\n",
       "0                               NaN                    NaN   \n",
       "1                               0.0                  300.0   \n",
       "2                               0.0                  304.0   \n",
       "3                               0.0                  309.0   \n",
       "4                               0.0                  314.0   \n",
       "..                              ...                    ...   \n",
       "635                             0.0                 3335.0   \n",
       "636                             0.0                 3339.0   \n",
       "637                             0.0                 3344.0   \n",
       "638                             0.0                 3349.0   \n",
       "639                             0.0                 3354.0   \n",
       "\n",
       "                Attribute|Value  ConvertDatV3  4.2.3  \n",
       "0                           NaN           NaN    NaN  \n",
       "1    Firmware Date| Apr 23 2019           NaN    NaN  \n",
       "2                ACType|UNKNOWN           NaN    NaN  \n",
       "3           mcID(SN)|148DJ03537           NaN    NaN  \n",
       "4               mcVer|v3.3.3.76           NaN    NaN  \n",
       "..                          ...           ...    ...  \n",
       "635                         NaN           NaN    NaN  \n",
       "636                         NaN           NaN    NaN  \n",
       "637                         NaN           NaN    NaN  \n",
       "638                         NaN           NaN    NaN  \n",
       "639                         NaN           NaN    NaN  \n",
       "\n",
       "[640 rows x 1275 columns]"
      ]
     },
     "execution_count": 2,
     "metadata": {},
     "output_type": "execute_result"
    }
   ],
   "source": [
    "df = pd.read_csv('FLY275.csv')\n",
    "df"
   ]
  },
  {
   "cell_type": "code",
   "execution_count": 3,
   "id": "aef2d846",
   "metadata": {},
   "outputs": [
    {
     "name": "stdout",
     "output_type": "stream",
     "text": [
      "Clock:offsetTime\n",
      "SMART_BATT:goHomeTime\n",
      "SMART_BATT:landTime\n",
      "osd_data:flightTime\n",
      "device_change_times:BAT:D\n",
      "device_change_times:ESC:D\n",
      "device_change_times:SYS:D\n",
      "device_change_times:FMU:D\n",
      "device_change_times:MC:D\n",
      "device_change_times:IMU:D\n",
      "device_change_times:GPS:D\n",
      "device_change_times:GYRO:D\n",
      "device_change_times:ACC:D\n",
      "device_change_times:GYRO_ACC:D\n",
      "device_change_times:BARO:D\n",
      "device_change_times:COMPASS:D\n",
      "device_change_times:ULTR:D\n",
      "device_change_times:VO:D\n",
      "device_change_times:RADAR:D\n",
      "device_change_times:CAMERA:D\n",
      "device_change_times:GIMBAL:D\n",
      "device_change_times:TRANS:D\n",
      "device_change_times:LED:D\n",
      "device_change_times:PC:D\n",
      "device_change_times:RC:D\n",
      "device_change_times:BS:D\n",
      "device_change_times:SDK:D\n",
      "device_change_times:SPRAY:D\n",
      "device_change_times:TOF:D\n",
      "device_change_times:WRISTBAND:D\n",
      "device_change_times:HEADSET:D\n",
      "device_change_times:ALL:D\n",
      "BatteryInfo:R_time\n",
      "system_monitor:root_max_time:D\n",
      "system_monitor:root_average_time:D\n",
      "system_monitor:root_run_times:D\n",
      "system_monitor:wq_max_time:D\n",
      "system_monitor:wq_average_time:D\n",
      "system_monitor:wq_run_times:D\n",
      "system_monitor:task_eeprom_max_time:D\n",
      "system_monitor:task_eeprom_average_time:D\n",
      "system_monitor:task_eeprom_run_times:D\n",
      "system_monitor:tskd_max_time:D\n",
      "system_monitor:tskd_average_time:D\n",
      "system_monitor:tskd_run_times:D\n",
      "system_monitor:ctrl_max_time:D\n",
      "system_monitor:ctrl_average_time:D\n",
      "system_monitor:ctrl_run_times:D\n",
      "system_monitor:tska_max_time:D\n",
      "system_monitor:tska_average_time:D\n",
      "system_monitor:tska_run_times:D\n",
      "system_monitor:imu0_max_time:D\n",
      "system_monitor:imu0_average_time:D\n",
      "system_monitor:imu0_run_times:D\n"
     ]
    }
   ],
   "source": [
    "columns = list(df.columns)\n",
    "for column in columns:\n",
    "    if 'time'.lower() in column.lower():\n",
    "        print(column)"
   ]
  },
  {
   "cell_type": "code",
   "execution_count": 4,
   "id": "96b37fd2",
   "metadata": {},
   "outputs": [
    {
     "name": "stdout",
     "output_type": "stream",
     "text": [
      "500.050 : 50f03<fly-ctrl>calender_setup_time  [2022-6-9]9:43:46. last_type(7),updates(1)\n"
     ]
    }
   ],
   "source": [
    "# Read event log into a list of strings\n",
    "with open('FLY275.log.txt') as f:\n",
    "    lines = [line.rstrip() for line in f]\n",
    "for line in lines:\n",
    "    if 'calender_setup_time' in line.lower():\n",
    "        print(line)"
   ]
  },
  {
   "cell_type": "code",
   "execution_count": 19,
   "id": "ea670ab7",
   "metadata": {},
   "outputs": [
    {
     "data": {
      "text/html": [
       "<div>\n",
       "<style scoped>\n",
       "    .dataframe tbody tr th:only-of-type {\n",
       "        vertical-align: middle;\n",
       "    }\n",
       "\n",
       "    .dataframe tbody tr th {\n",
       "        vertical-align: top;\n",
       "    }\n",
       "\n",
       "    .dataframe thead th {\n",
       "        text-align: right;\n",
       "    }\n",
       "</style>\n",
       "<table border=\"1\" class=\"dataframe\">\n",
       "  <thead>\n",
       "    <tr style=\"text-align: right;\">\n",
       "      <th></th>\n",
       "      <th>timestamp</th>\n",
       "      <th>clock_ticks</th>\n",
       "      <th>clock_seconds</th>\n",
       "      <th>longitude</th>\n",
       "      <th>latitude</th>\n",
       "      <th>relative_height_meters</th>\n",
       "    </tr>\n",
       "  </thead>\n",
       "  <tbody>\n",
       "    <tr>\n",
       "      <th>0</th>\n",
       "      <td>2022-06-09 09:34:11</td>\n",
       "      <td>0</td>\n",
       "      <td>-74.628</td>\n",
       "      <td>NaN</td>\n",
       "      <td>NaN</td>\n",
       "      <td>NaN</td>\n",
       "    </tr>\n",
       "    <tr>\n",
       "      <th>1</th>\n",
       "      <td>2022-06-09 09:35:26</td>\n",
       "      <td>335826539</td>\n",
       "      <td>0.000</td>\n",
       "      <td>144.802802</td>\n",
       "      <td>13.431430</td>\n",
       "      <td>NaN</td>\n",
       "    </tr>\n",
       "    <tr>\n",
       "      <th>2</th>\n",
       "      <td>2022-06-09 09:35:27</td>\n",
       "      <td>340326629</td>\n",
       "      <td>1.000</td>\n",
       "      <td>144.802802</td>\n",
       "      <td>13.431430</td>\n",
       "      <td>0.190983</td>\n",
       "    </tr>\n",
       "    <tr>\n",
       "      <th>3</th>\n",
       "      <td>2022-06-09 09:35:28</td>\n",
       "      <td>344827307</td>\n",
       "      <td>2.000</td>\n",
       "      <td>144.802802</td>\n",
       "      <td>13.431430</td>\n",
       "      <td>0.029801</td>\n",
       "    </tr>\n",
       "    <tr>\n",
       "      <th>4</th>\n",
       "      <td>2022-06-09 09:35:29</td>\n",
       "      <td>349327553</td>\n",
       "      <td>3.000</td>\n",
       "      <td>144.802802</td>\n",
       "      <td>13.431430</td>\n",
       "      <td>0.053582</td>\n",
       "    </tr>\n",
       "    <tr>\n",
       "      <th>...</th>\n",
       "      <td>...</td>\n",
       "      <td>...</td>\n",
       "      <td>...</td>\n",
       "      <td>...</td>\n",
       "      <td>...</td>\n",
       "      <td>...</td>\n",
       "    </tr>\n",
       "    <tr>\n",
       "      <th>635</th>\n",
       "      <td>2022-06-09 09:46:00</td>\n",
       "      <td>3189313494</td>\n",
       "      <td>634.108</td>\n",
       "      <td>144.802333</td>\n",
       "      <td>13.431330</td>\n",
       "      <td>3.622525</td>\n",
       "    </tr>\n",
       "    <tr>\n",
       "      <th>636</th>\n",
       "      <td>2022-06-09 09:46:01</td>\n",
       "      <td>3193816471</td>\n",
       "      <td>635.109</td>\n",
       "      <td>144.802332</td>\n",
       "      <td>13.431330</td>\n",
       "      <td>2.451699</td>\n",
       "    </tr>\n",
       "    <tr>\n",
       "      <th>637</th>\n",
       "      <td>2022-06-09 09:46:02</td>\n",
       "      <td>3198316486</td>\n",
       "      <td>636.109</td>\n",
       "      <td>144.802333</td>\n",
       "      <td>13.431330</td>\n",
       "      <td>2.858513</td>\n",
       "    </tr>\n",
       "    <tr>\n",
       "      <th>638</th>\n",
       "      <td>2022-06-09 09:46:03</td>\n",
       "      <td>3202817543</td>\n",
       "      <td>637.109</td>\n",
       "      <td>144.802334</td>\n",
       "      <td>13.431331</td>\n",
       "      <td>1.635094</td>\n",
       "    </tr>\n",
       "    <tr>\n",
       "      <th>639</th>\n",
       "      <td>2022-06-09 09:46:04</td>\n",
       "      <td>3207319748</td>\n",
       "      <td>638.110</td>\n",
       "      <td>144.802333</td>\n",
       "      <td>13.431330</td>\n",
       "      <td>0.723660</td>\n",
       "    </tr>\n",
       "  </tbody>\n",
       "</table>\n",
       "<p>640 rows × 6 columns</p>\n",
       "</div>"
      ],
      "text/plain": [
       "              timestamp  clock_ticks  clock_seconds   longitude   latitude  \\\n",
       "0   2022-06-09 09:34:11            0        -74.628         NaN        NaN   \n",
       "1   2022-06-09 09:35:26    335826539          0.000  144.802802  13.431430   \n",
       "2   2022-06-09 09:35:27    340326629          1.000  144.802802  13.431430   \n",
       "3   2022-06-09 09:35:28    344827307          2.000  144.802802  13.431430   \n",
       "4   2022-06-09 09:35:29    349327553          3.000  144.802802  13.431430   \n",
       "..                  ...          ...            ...         ...        ...   \n",
       "635 2022-06-09 09:46:00   3189313494        634.108  144.802333  13.431330   \n",
       "636 2022-06-09 09:46:01   3193816471        635.109  144.802332  13.431330   \n",
       "637 2022-06-09 09:46:02   3198316486        636.109  144.802333  13.431330   \n",
       "638 2022-06-09 09:46:03   3202817543        637.109  144.802334  13.431331   \n",
       "639 2022-06-09 09:46:04   3207319748        638.110  144.802333  13.431330   \n",
       "\n",
       "     relative_height_meters  \n",
       "0                       NaN  \n",
       "1                       NaN  \n",
       "2                  0.190983  \n",
       "3                  0.029801  \n",
       "4                  0.053582  \n",
       "..                      ...  \n",
       "635                3.622525  \n",
       "636                2.451699  \n",
       "637                2.858513  \n",
       "638                1.635094  \n",
       "639                0.723660  \n",
       "\n",
       "[640 rows x 6 columns]"
      ]
     },
     "execution_count": 19,
     "metadata": {},
     "output_type": "execute_result"
    }
   ],
   "source": [
    "sync_ts = datetime.datetime.strptime('2022-06-09T09:43:46', '%Y-%m-%dT%H:%M:%S')\n",
    "sync_offset = 500.050\n",
    "\n",
    "def offset2ts(offset):\n",
    "    diff = offset - sync_offset\n",
    "    ts = sync_ts + datetime.timedelta(seconds=diff)\n",
    "    ts = pd.to_datetime(ts).round('1s')\n",
    "    return(ts)\n",
    "\n",
    "timestamp = []\n",
    "for i,r in df.iterrows():\n",
    "    timestamp.append(offset2ts(r['Clock:offsetTime']))\n",
    "df['timestamp'] = timestamp\n",
    "    \n",
    "df_flight = df[['timestamp','Clock:Tick#','Clock:offsetTime','IMU_ATTI(0):Longitude','IMU_ATTI(0):Latitude',\n",
    "                'IMU_ATTI(0):relativeHeight:C']] \n",
    "df_flight.columns = ['timestamp','clock_ticks','clock_seconds','longitude','latitude','relative_height_meters']\n",
    "df_flight"
   ]
  },
  {
   "cell_type": "code",
   "execution_count": 20,
   "id": "3b1c457e-ab90-4a6e-8ecf-a059fcd59ac8",
   "metadata": {},
   "outputs": [
    {
     "data": {
      "application/vnd.plotly.v1+json": {
       "config": {
        "plotlyServerURL": "https://plot.ly"
       },
       "data": [
        {
         "hoverlabel": {
          "namelength": 0
         },
         "hovertemplate": "timestamp=%{x}<br>relative_height_meters=%{y}",
         "legendgroup": "",
         "line": {
          "color": "#636efa",
          "dash": "solid"
         },
         "mode": "lines",
         "name": "",
         "showlegend": false,
         "type": "scatter",
         "x": [
          "2022-06-09T09:34:11",
          "2022-06-09T09:35:26",
          "2022-06-09T09:35:27",
          "2022-06-09T09:35:28",
          "2022-06-09T09:35:29",
          "2022-06-09T09:35:30",
          "2022-06-09T09:35:31",
          "2022-06-09T09:35:32",
          "2022-06-09T09:35:33",
          "2022-06-09T09:35:34",
          "2022-06-09T09:35:35",
          "2022-06-09T09:35:36",
          "2022-06-09T09:35:37",
          "2022-06-09T09:35:38",
          "2022-06-09T09:35:39",
          "2022-06-09T09:35:40",
          "2022-06-09T09:35:41",
          "2022-06-09T09:35:42",
          "2022-06-09T09:35:43",
          "2022-06-09T09:35:44",
          "2022-06-09T09:35:45",
          "2022-06-09T09:35:46",
          "2022-06-09T09:35:47",
          "2022-06-09T09:35:48",
          "2022-06-09T09:35:49",
          "2022-06-09T09:35:50",
          "2022-06-09T09:35:51",
          "2022-06-09T09:35:52",
          "2022-06-09T09:35:53",
          "2022-06-09T09:35:54",
          "2022-06-09T09:35:55",
          "2022-06-09T09:35:56",
          "2022-06-09T09:35:57",
          "2022-06-09T09:35:58",
          "2022-06-09T09:35:59",
          "2022-06-09T09:36:00",
          "2022-06-09T09:36:01",
          "2022-06-09T09:36:02",
          "2022-06-09T09:36:03",
          "2022-06-09T09:36:04",
          "2022-06-09T09:36:05",
          "2022-06-09T09:36:06",
          "2022-06-09T09:36:07",
          "2022-06-09T09:36:08",
          "2022-06-09T09:36:09",
          "2022-06-09T09:36:10",
          "2022-06-09T09:36:11",
          "2022-06-09T09:36:12",
          "2022-06-09T09:36:13",
          "2022-06-09T09:36:14",
          "2022-06-09T09:36:15",
          "2022-06-09T09:36:16",
          "2022-06-09T09:36:17",
          "2022-06-09T09:36:18",
          "2022-06-09T09:36:19",
          "2022-06-09T09:36:20",
          "2022-06-09T09:36:21",
          "2022-06-09T09:36:22",
          "2022-06-09T09:36:23",
          "2022-06-09T09:36:24",
          "2022-06-09T09:36:25",
          "2022-06-09T09:36:26",
          "2022-06-09T09:36:27",
          "2022-06-09T09:36:28",
          "2022-06-09T09:36:29",
          "2022-06-09T09:36:30",
          "2022-06-09T09:36:31",
          "2022-06-09T09:36:32",
          "2022-06-09T09:36:33",
          "2022-06-09T09:36:34",
          "2022-06-09T09:36:35",
          "2022-06-09T09:36:36",
          "2022-06-09T09:36:37",
          "2022-06-09T09:36:38",
          "2022-06-09T09:36:39",
          "2022-06-09T09:36:40",
          "2022-06-09T09:36:41",
          "2022-06-09T09:36:42",
          "2022-06-09T09:36:43",
          "2022-06-09T09:36:44",
          "2022-06-09T09:36:45",
          "2022-06-09T09:36:46",
          "2022-06-09T09:36:47",
          "2022-06-09T09:36:48",
          "2022-06-09T09:36:49",
          "2022-06-09T09:36:50",
          "2022-06-09T09:36:51",
          "2022-06-09T09:36:52",
          "2022-06-09T09:36:53",
          "2022-06-09T09:36:54",
          "2022-06-09T09:36:55",
          "2022-06-09T09:36:56",
          "2022-06-09T09:36:57",
          "2022-06-09T09:36:58",
          "2022-06-09T09:36:59",
          "2022-06-09T09:37:00",
          "2022-06-09T09:37:01",
          "2022-06-09T09:37:02",
          "2022-06-09T09:37:03",
          "2022-06-09T09:37:04",
          "2022-06-09T09:37:05",
          "2022-06-09T09:37:06",
          "2022-06-09T09:37:07",
          "2022-06-09T09:37:08",
          "2022-06-09T09:37:09",
          "2022-06-09T09:37:10",
          "2022-06-09T09:37:11",
          "2022-06-09T09:37:12",
          "2022-06-09T09:37:13",
          "2022-06-09T09:37:14",
          "2022-06-09T09:37:15",
          "2022-06-09T09:37:16",
          "2022-06-09T09:37:17",
          "2022-06-09T09:37:18",
          "2022-06-09T09:37:19",
          "2022-06-09T09:37:20",
          "2022-06-09T09:37:21",
          "2022-06-09T09:37:22",
          "2022-06-09T09:37:23",
          "2022-06-09T09:37:24",
          "2022-06-09T09:37:25",
          "2022-06-09T09:37:26",
          "2022-06-09T09:37:27",
          "2022-06-09T09:37:28",
          "2022-06-09T09:37:29",
          "2022-06-09T09:37:30",
          "2022-06-09T09:37:31",
          "2022-06-09T09:37:32",
          "2022-06-09T09:37:33",
          "2022-06-09T09:37:34",
          "2022-06-09T09:37:35",
          "2022-06-09T09:37:36",
          "2022-06-09T09:37:37",
          "2022-06-09T09:37:38",
          "2022-06-09T09:37:39",
          "2022-06-09T09:37:40",
          "2022-06-09T09:37:41",
          "2022-06-09T09:37:42",
          "2022-06-09T09:37:43",
          "2022-06-09T09:37:44",
          "2022-06-09T09:37:45",
          "2022-06-09T09:37:46",
          "2022-06-09T09:37:47",
          "2022-06-09T09:37:48",
          "2022-06-09T09:37:49",
          "2022-06-09T09:37:50",
          "2022-06-09T09:37:51",
          "2022-06-09T09:37:52",
          "2022-06-09T09:37:53",
          "2022-06-09T09:37:54",
          "2022-06-09T09:37:55",
          "2022-06-09T09:37:56",
          "2022-06-09T09:37:57",
          "2022-06-09T09:37:58",
          "2022-06-09T09:37:59",
          "2022-06-09T09:38:00",
          "2022-06-09T09:38:01",
          "2022-06-09T09:38:02",
          "2022-06-09T09:38:03",
          "2022-06-09T09:38:04",
          "2022-06-09T09:38:05",
          "2022-06-09T09:38:06",
          "2022-06-09T09:38:07",
          "2022-06-09T09:38:08",
          "2022-06-09T09:38:09",
          "2022-06-09T09:38:10",
          "2022-06-09T09:38:11",
          "2022-06-09T09:38:12",
          "2022-06-09T09:38:13",
          "2022-06-09T09:38:14",
          "2022-06-09T09:38:15",
          "2022-06-09T09:38:16",
          "2022-06-09T09:38:17",
          "2022-06-09T09:38:18",
          "2022-06-09T09:38:19",
          "2022-06-09T09:38:20",
          "2022-06-09T09:38:21",
          "2022-06-09T09:38:22",
          "2022-06-09T09:38:23",
          "2022-06-09T09:38:24",
          "2022-06-09T09:38:25",
          "2022-06-09T09:38:26",
          "2022-06-09T09:38:27",
          "2022-06-09T09:38:28",
          "2022-06-09T09:38:29",
          "2022-06-09T09:38:30",
          "2022-06-09T09:38:31",
          "2022-06-09T09:38:32",
          "2022-06-09T09:38:33",
          "2022-06-09T09:38:34",
          "2022-06-09T09:38:35",
          "2022-06-09T09:38:36",
          "2022-06-09T09:38:37",
          "2022-06-09T09:38:38",
          "2022-06-09T09:38:39",
          "2022-06-09T09:38:40",
          "2022-06-09T09:38:41",
          "2022-06-09T09:38:42",
          "2022-06-09T09:38:43",
          "2022-06-09T09:38:44",
          "2022-06-09T09:38:45",
          "2022-06-09T09:38:46",
          "2022-06-09T09:38:47",
          "2022-06-09T09:38:48",
          "2022-06-09T09:38:49",
          "2022-06-09T09:38:50",
          "2022-06-09T09:38:51",
          "2022-06-09T09:38:52",
          "2022-06-09T09:38:53",
          "2022-06-09T09:38:54",
          "2022-06-09T09:38:55",
          "2022-06-09T09:38:56",
          "2022-06-09T09:38:57",
          "2022-06-09T09:38:58",
          "2022-06-09T09:38:59",
          "2022-06-09T09:39:00",
          "2022-06-09T09:39:01",
          "2022-06-09T09:39:02",
          "2022-06-09T09:39:03",
          "2022-06-09T09:39:04",
          "2022-06-09T09:39:05",
          "2022-06-09T09:39:06",
          "2022-06-09T09:39:07",
          "2022-06-09T09:39:08",
          "2022-06-09T09:39:09",
          "2022-06-09T09:39:10",
          "2022-06-09T09:39:11",
          "2022-06-09T09:39:12",
          "2022-06-09T09:39:13",
          "2022-06-09T09:39:14",
          "2022-06-09T09:39:15",
          "2022-06-09T09:39:16",
          "2022-06-09T09:39:17",
          "2022-06-09T09:39:18",
          "2022-06-09T09:39:19",
          "2022-06-09T09:39:20",
          "2022-06-09T09:39:21",
          "2022-06-09T09:39:22",
          "2022-06-09T09:39:23",
          "2022-06-09T09:39:24",
          "2022-06-09T09:39:25",
          "2022-06-09T09:39:26",
          "2022-06-09T09:39:27",
          "2022-06-09T09:39:28",
          "2022-06-09T09:39:29",
          "2022-06-09T09:39:30",
          "2022-06-09T09:39:31",
          "2022-06-09T09:39:32",
          "2022-06-09T09:39:33",
          "2022-06-09T09:39:34",
          "2022-06-09T09:39:35",
          "2022-06-09T09:39:36",
          "2022-06-09T09:39:37",
          "2022-06-09T09:39:38",
          "2022-06-09T09:39:39",
          "2022-06-09T09:39:40",
          "2022-06-09T09:39:41",
          "2022-06-09T09:39:42",
          "2022-06-09T09:39:43",
          "2022-06-09T09:39:44",
          "2022-06-09T09:39:45",
          "2022-06-09T09:39:46",
          "2022-06-09T09:39:47",
          "2022-06-09T09:39:48",
          "2022-06-09T09:39:49",
          "2022-06-09T09:39:50",
          "2022-06-09T09:39:51",
          "2022-06-09T09:39:52",
          "2022-06-09T09:39:53",
          "2022-06-09T09:39:54",
          "2022-06-09T09:39:55",
          "2022-06-09T09:39:56",
          "2022-06-09T09:39:57",
          "2022-06-09T09:39:58",
          "2022-06-09T09:39:59",
          "2022-06-09T09:40:00",
          "2022-06-09T09:40:01",
          "2022-06-09T09:40:02",
          "2022-06-09T09:40:03",
          "2022-06-09T09:40:04",
          "2022-06-09T09:40:05",
          "2022-06-09T09:40:06",
          "2022-06-09T09:40:07",
          "2022-06-09T09:40:08",
          "2022-06-09T09:40:09",
          "2022-06-09T09:40:10",
          "2022-06-09T09:40:11",
          "2022-06-09T09:40:12",
          "2022-06-09T09:40:13",
          "2022-06-09T09:40:14",
          "2022-06-09T09:40:15",
          "2022-06-09T09:40:16",
          "2022-06-09T09:40:17",
          "2022-06-09T09:40:18",
          "2022-06-09T09:40:19",
          "2022-06-09T09:40:20",
          "2022-06-09T09:40:21",
          "2022-06-09T09:40:22",
          "2022-06-09T09:40:23",
          "2022-06-09T09:40:24",
          "2022-06-09T09:40:25",
          "2022-06-09T09:40:26",
          "2022-06-09T09:40:27",
          "2022-06-09T09:40:28",
          "2022-06-09T09:40:29",
          "2022-06-09T09:40:30",
          "2022-06-09T09:40:31",
          "2022-06-09T09:40:32",
          "2022-06-09T09:40:33",
          "2022-06-09T09:40:34",
          "2022-06-09T09:40:35",
          "2022-06-09T09:40:36",
          "2022-06-09T09:40:37",
          "2022-06-09T09:40:38",
          "2022-06-09T09:40:39",
          "2022-06-09T09:40:40",
          "2022-06-09T09:40:41",
          "2022-06-09T09:40:42",
          "2022-06-09T09:40:43",
          "2022-06-09T09:40:44",
          "2022-06-09T09:40:45",
          "2022-06-09T09:40:46",
          "2022-06-09T09:40:47",
          "2022-06-09T09:40:48",
          "2022-06-09T09:40:49",
          "2022-06-09T09:40:50",
          "2022-06-09T09:40:51",
          "2022-06-09T09:40:52",
          "2022-06-09T09:40:53",
          "2022-06-09T09:40:54",
          "2022-06-09T09:40:55",
          "2022-06-09T09:40:56",
          "2022-06-09T09:40:57",
          "2022-06-09T09:40:58",
          "2022-06-09T09:40:59",
          "2022-06-09T09:41:00",
          "2022-06-09T09:41:01",
          "2022-06-09T09:41:02",
          "2022-06-09T09:41:03",
          "2022-06-09T09:41:04",
          "2022-06-09T09:41:05",
          "2022-06-09T09:41:06",
          "2022-06-09T09:41:07",
          "2022-06-09T09:41:08",
          "2022-06-09T09:41:09",
          "2022-06-09T09:41:10",
          "2022-06-09T09:41:11",
          "2022-06-09T09:41:12",
          "2022-06-09T09:41:13",
          "2022-06-09T09:41:14",
          "2022-06-09T09:41:15",
          "2022-06-09T09:41:16",
          "2022-06-09T09:41:17",
          "2022-06-09T09:41:18",
          "2022-06-09T09:41:19",
          "2022-06-09T09:41:20",
          "2022-06-09T09:41:21",
          "2022-06-09T09:41:22",
          "2022-06-09T09:41:23",
          "2022-06-09T09:41:24",
          "2022-06-09T09:41:25",
          "2022-06-09T09:41:26",
          "2022-06-09T09:41:27",
          "2022-06-09T09:41:28",
          "2022-06-09T09:41:29",
          "2022-06-09T09:41:30",
          "2022-06-09T09:41:31",
          "2022-06-09T09:41:32",
          "2022-06-09T09:41:33",
          "2022-06-09T09:41:34",
          "2022-06-09T09:41:35",
          "2022-06-09T09:41:36",
          "2022-06-09T09:41:37",
          "2022-06-09T09:41:38",
          "2022-06-09T09:41:39",
          "2022-06-09T09:41:40",
          "2022-06-09T09:41:41",
          "2022-06-09T09:41:42",
          "2022-06-09T09:41:43",
          "2022-06-09T09:41:44",
          "2022-06-09T09:41:45",
          "2022-06-09T09:41:46",
          "2022-06-09T09:41:47",
          "2022-06-09T09:41:48",
          "2022-06-09T09:41:49",
          "2022-06-09T09:41:50",
          "2022-06-09T09:41:51",
          "2022-06-09T09:41:52",
          "2022-06-09T09:41:53",
          "2022-06-09T09:41:54",
          "2022-06-09T09:41:55",
          "2022-06-09T09:41:56",
          "2022-06-09T09:41:57",
          "2022-06-09T09:41:58",
          "2022-06-09T09:41:59",
          "2022-06-09T09:42:00",
          "2022-06-09T09:42:01",
          "2022-06-09T09:42:02",
          "2022-06-09T09:42:03",
          "2022-06-09T09:42:04",
          "2022-06-09T09:42:05",
          "2022-06-09T09:42:06",
          "2022-06-09T09:42:07",
          "2022-06-09T09:42:08",
          "2022-06-09T09:42:09",
          "2022-06-09T09:42:10",
          "2022-06-09T09:42:11",
          "2022-06-09T09:42:12",
          "2022-06-09T09:42:13",
          "2022-06-09T09:42:14",
          "2022-06-09T09:42:15",
          "2022-06-09T09:42:16",
          "2022-06-09T09:42:17",
          "2022-06-09T09:42:18",
          "2022-06-09T09:42:19",
          "2022-06-09T09:42:20",
          "2022-06-09T09:42:21",
          "2022-06-09T09:42:22",
          "2022-06-09T09:42:23",
          "2022-06-09T09:42:24",
          "2022-06-09T09:42:25",
          "2022-06-09T09:42:26",
          "2022-06-09T09:42:27",
          "2022-06-09T09:42:28",
          "2022-06-09T09:42:29",
          "2022-06-09T09:42:30",
          "2022-06-09T09:42:31",
          "2022-06-09T09:42:32",
          "2022-06-09T09:42:33",
          "2022-06-09T09:42:34",
          "2022-06-09T09:42:35",
          "2022-06-09T09:42:36",
          "2022-06-09T09:42:37",
          "2022-06-09T09:42:38",
          "2022-06-09T09:42:39",
          "2022-06-09T09:42:40",
          "2022-06-09T09:42:41",
          "2022-06-09T09:42:42",
          "2022-06-09T09:42:43",
          "2022-06-09T09:42:44",
          "2022-06-09T09:42:45",
          "2022-06-09T09:42:46",
          "2022-06-09T09:42:47",
          "2022-06-09T09:42:48",
          "2022-06-09T09:42:49",
          "2022-06-09T09:42:50",
          "2022-06-09T09:42:51",
          "2022-06-09T09:42:52",
          "2022-06-09T09:42:53",
          "2022-06-09T09:42:54",
          "2022-06-09T09:42:55",
          "2022-06-09T09:42:56",
          "2022-06-09T09:42:57",
          "2022-06-09T09:42:58",
          "2022-06-09T09:42:59",
          "2022-06-09T09:43:00",
          "2022-06-09T09:43:01",
          "2022-06-09T09:43:02",
          "2022-06-09T09:43:03",
          "2022-06-09T09:43:04",
          "2022-06-09T09:43:05",
          "2022-06-09T09:43:06",
          "2022-06-09T09:43:07",
          "2022-06-09T09:43:08",
          "2022-06-09T09:43:09",
          "2022-06-09T09:43:10",
          "2022-06-09T09:43:11",
          "2022-06-09T09:43:12",
          "2022-06-09T09:43:13",
          "2022-06-09T09:43:14",
          "2022-06-09T09:43:15",
          "2022-06-09T09:43:16",
          "2022-06-09T09:43:17",
          "2022-06-09T09:43:18",
          "2022-06-09T09:43:19",
          "2022-06-09T09:43:20",
          "2022-06-09T09:43:21",
          "2022-06-09T09:43:22",
          "2022-06-09T09:43:23",
          "2022-06-09T09:43:24",
          "2022-06-09T09:43:25",
          "2022-06-09T09:43:26",
          "2022-06-09T09:43:27",
          "2022-06-09T09:43:28",
          "2022-06-09T09:43:29",
          "2022-06-09T09:43:30",
          "2022-06-09T09:43:31",
          "2022-06-09T09:43:32",
          "2022-06-09T09:43:33",
          "2022-06-09T09:43:34",
          "2022-06-09T09:43:35",
          "2022-06-09T09:43:36",
          "2022-06-09T09:43:37",
          "2022-06-09T09:43:38",
          "2022-06-09T09:43:39",
          "2022-06-09T09:43:40",
          "2022-06-09T09:43:41",
          "2022-06-09T09:43:42",
          "2022-06-09T09:43:43",
          "2022-06-09T09:43:44",
          "2022-06-09T09:43:45",
          "2022-06-09T09:43:46",
          "2022-06-09T09:43:47",
          "2022-06-09T09:43:48",
          "2022-06-09T09:43:49",
          "2022-06-09T09:43:50",
          "2022-06-09T09:43:51",
          "2022-06-09T09:43:52",
          "2022-06-09T09:43:53",
          "2022-06-09T09:43:54",
          "2022-06-09T09:43:55",
          "2022-06-09T09:43:56",
          "2022-06-09T09:43:57",
          "2022-06-09T09:43:58",
          "2022-06-09T09:43:59",
          "2022-06-09T09:44:00",
          "2022-06-09T09:44:01",
          "2022-06-09T09:44:02",
          "2022-06-09T09:44:03",
          "2022-06-09T09:44:04",
          "2022-06-09T09:44:05",
          "2022-06-09T09:44:06",
          "2022-06-09T09:44:07",
          "2022-06-09T09:44:08",
          "2022-06-09T09:44:09",
          "2022-06-09T09:44:10",
          "2022-06-09T09:44:11",
          "2022-06-09T09:44:12",
          "2022-06-09T09:44:13",
          "2022-06-09T09:44:14",
          "2022-06-09T09:44:15",
          "2022-06-09T09:44:16",
          "2022-06-09T09:44:17",
          "2022-06-09T09:44:18",
          "2022-06-09T09:44:19",
          "2022-06-09T09:44:20",
          "2022-06-09T09:44:21",
          "2022-06-09T09:44:22",
          "2022-06-09T09:44:23",
          "2022-06-09T09:44:24",
          "2022-06-09T09:44:25",
          "2022-06-09T09:44:26",
          "2022-06-09T09:44:27",
          "2022-06-09T09:44:28",
          "2022-06-09T09:44:29",
          "2022-06-09T09:44:30",
          "2022-06-09T09:44:31",
          "2022-06-09T09:44:32",
          "2022-06-09T09:44:33",
          "2022-06-09T09:44:34",
          "2022-06-09T09:44:35",
          "2022-06-09T09:44:36",
          "2022-06-09T09:44:37",
          "2022-06-09T09:44:38",
          "2022-06-09T09:44:39",
          "2022-06-09T09:44:40",
          "2022-06-09T09:44:41",
          "2022-06-09T09:44:42",
          "2022-06-09T09:44:43",
          "2022-06-09T09:44:44",
          "2022-06-09T09:44:45",
          "2022-06-09T09:44:46",
          "2022-06-09T09:44:47",
          "2022-06-09T09:44:48",
          "2022-06-09T09:44:49",
          "2022-06-09T09:44:50",
          "2022-06-09T09:44:51",
          "2022-06-09T09:44:52",
          "2022-06-09T09:44:53",
          "2022-06-09T09:44:54",
          "2022-06-09T09:44:55",
          "2022-06-09T09:44:56",
          "2022-06-09T09:44:57",
          "2022-06-09T09:44:58",
          "2022-06-09T09:44:59",
          "2022-06-09T09:45:00",
          "2022-06-09T09:45:01",
          "2022-06-09T09:45:02",
          "2022-06-09T09:45:03",
          "2022-06-09T09:45:04",
          "2022-06-09T09:45:05",
          "2022-06-09T09:45:06",
          "2022-06-09T09:45:07",
          "2022-06-09T09:45:08",
          "2022-06-09T09:45:09",
          "2022-06-09T09:45:10",
          "2022-06-09T09:45:11",
          "2022-06-09T09:45:12",
          "2022-06-09T09:45:13",
          "2022-06-09T09:45:14",
          "2022-06-09T09:45:15",
          "2022-06-09T09:45:16",
          "2022-06-09T09:45:17",
          "2022-06-09T09:45:18",
          "2022-06-09T09:45:19",
          "2022-06-09T09:45:20",
          "2022-06-09T09:45:21",
          "2022-06-09T09:45:22",
          "2022-06-09T09:45:23",
          "2022-06-09T09:45:24",
          "2022-06-09T09:45:25",
          "2022-06-09T09:45:26",
          "2022-06-09T09:45:27",
          "2022-06-09T09:45:28",
          "2022-06-09T09:45:29",
          "2022-06-09T09:45:30",
          "2022-06-09T09:45:31",
          "2022-06-09T09:45:32",
          "2022-06-09T09:45:33",
          "2022-06-09T09:45:34",
          "2022-06-09T09:45:35",
          "2022-06-09T09:45:36",
          "2022-06-09T09:45:37",
          "2022-06-09T09:45:38",
          "2022-06-09T09:45:39",
          "2022-06-09T09:45:40",
          "2022-06-09T09:45:41",
          "2022-06-09T09:45:42",
          "2022-06-09T09:45:43",
          "2022-06-09T09:45:44",
          "2022-06-09T09:45:45",
          "2022-06-09T09:45:46",
          "2022-06-09T09:45:47",
          "2022-06-09T09:45:48",
          "2022-06-09T09:45:49",
          "2022-06-09T09:45:50",
          "2022-06-09T09:45:51",
          "2022-06-09T09:45:52",
          "2022-06-09T09:45:53",
          "2022-06-09T09:45:54",
          "2022-06-09T09:45:55",
          "2022-06-09T09:45:56",
          "2022-06-09T09:45:57",
          "2022-06-09T09:45:58",
          "2022-06-09T09:45:59",
          "2022-06-09T09:46:00",
          "2022-06-09T09:46:01",
          "2022-06-09T09:46:02",
          "2022-06-09T09:46:03",
          "2022-06-09T09:46:04"
         ],
         "xaxis": "x",
         "y": [
          null,
          null,
          0.1909830898437476,
          0.0298006862792945,
          0.0535815090332008,
          0.9889643520507788,
          2.114589962402341,
          3.211132320800779,
          4.014210018554685,
          4.547729763427732,
          5.422268185058591,
          6.307403835693357,
          6.957344326416013,
          8.323311123291013,
          8.812202724853513,
          9.37760952416992,
          10.27595165673828,
          10.59542492333984,
          11.16062954370117,
          11.2711108059082,
          11.024681362548826,
          11.396301540771482,
          11.47981670800781,
          11.405098232666012,
          11.112373623291012,
          11.90900829736328,
          12.139049801269527,
          11.267307552734373,
          10.96943310205078,
          11.4113695949707,
          11.675819668212888,
          11.638790401855466,
          11.131607326904296,
          11.636307033935545,
          11.6942065090332,
          11.842029842773435,
          11.675415310302732,
          12.296242031494138,
          12.589180263916012,
          12.20378902856445,
          11.276905331054683,
          11.224247249999998,
          11.575821194091796,
          11.298595699707027,
          11.23503139916992,
          10.80400112573242,
          11.421936306396482,
          11.210560116210935,
          11.437622341552732,
          11.18935039941406,
          11.85786846582031,
          11.260288509765624,
          11.294498714843748,
          10.54684093896484,
          10.76093700830078,
          10.803421291748045,
          10.740074428955076,
          10.903957638183591,
          10.956836971679683,
          10.700718197265624,
          10.695808681884763,
          10.851784023681638,
          10.68526867333984,
          11.060493740478512,
          10.901859554687498,
          11.253544124999998,
          11.858795437255855,
          12.522205624023435,
          11.129818233886716,
          11.222076687255855,
          11.287803921142576,
          11.380108150878904,
          11.321472439208982,
          11.10763195458984,
          11.64387920800781,
          11.7368090480957,
          11.644047054687498,
          11.976345333496091,
          13.87819317285156,
          15.954738888183591,
          18.52361324731445,
          21.309368404785157,
          24.467022213378904,
          26.704761776367185,
          28.66242626611328,
          29.53139904443359,
          30.25246838037109,
          31.02120617333984,
          31.01337841455078,
          30.752140316406248,
          30.68129375878906,
          30.626133236328123,
          30.557606014648435,
          30.652881893554685,
          31.424366268554685,
          31.120533260742185,
          31.51015881005859,
          31.481724056640623,
          30.59193066064453,
          29.854984554687498,
          27.92128399316406,
          26.158985409179685,
          24.59767559472656,
          22.552982601562498,
          20.72224071923828,
          19.02621105615234,
          17.551895412841795,
          15.950889858642576,
          13.787170681396482,
          11.567600521484373,
          10.632206234374998,
          9.746975216308591,
          8.661251339355466,
          7.675934109130857,
          6.695865902343748,
          5.808208736816404,
          5.948234829345701,
          5.6550143093261696,
          5.430458340087888,
          5.150406155029295,
          5.044700893798826,
          4.5558626979980446,
          3.993007931152341,
          3.9664080471191374,
          3.456241878906248,
          3.2157976955566383,
          3.038818630615232,
          2.95683315698242,
          2.7349016994628883,
          2.446800503173826,
          2.4283526271972637,
          3.007080349365232,
          2.639709743896482,
          2.9013026088867164,
          2.502342495361326,
          1.9658167690429664,
          1.2603533596191383,
          0.587311062255857,
          0.2226717800292945,
          -0.144611087402346,
          0.3468592495117164,
          -0.0415608554687523,
          0.003357204833982,
          0.111694607177732,
          -0.0600583225097679,
          -0.3242909580078148,
          -0.4167706638183617,
          -0.2661587863769554,
          -0.5594556003417992,
          -0.6889302402343773,
          -0.5198208957519554,
          -0.5145375400390648,
          -0.4088437229003929,
          -0.3956334262695336,
          -0.3824193149414086,
          -0.3850629001464867,
          -0.3559987216796898,
          -0.1525380283203148,
          -0.1234738498535179,
          0.0086443752441383,
          0.1539690822753883,
          0.288727077880857,
          0.4129183620605445,
          0.5767405361328102,
          0.4974711269531227,
          0.6718638271484352,
          0.6058085292968727,
          0.5635302395019508,
          0.4763338894042945,
          0.1830370754394508,
          0.3257220119628883,
          0.079986843505857,
          0.1539690822753883,
          0.2121012539062476,
          0.3177950710449195,
          0.2781603664550758,
          0.2147448391113258,
          0.2543795437011695,
          0.4102747768554664,
          0.3151514858398414,
          0.3177950710449195,
          0.1222613186035133,
          0.0562060207519508,
          -0.0151364475097679,
          -0.017780032714846,
          -0.1578213840332054,
          -0.0970494418945335,
          -0.2133137851562523,
          -0.239734378417971,
          -0.1498944431152367,
          -0.3057934909667992,
          -0.1974599033203148,
          -0.1604649692382835,
          -0.3480717807617211,
          0.003357204833982,
          -0.208026614746096,
          -0.4881131320800804,
          -0.3454281955566429,
          -0.2820126682128929,
          -0.2714421420898461,
          -0.2608754306640648,
          -0.4537617832031273,
          -0.0864789157714867,
          -0.2291676669921898,
          -0.0521313815917992,
          -0.1208302646484398,
          0.0060007900390601,
          -0.2714421420898461,
          -0.3639256625976586,
          -0.2027432590332054,
          -0.3718526035156273,
          -0.3559987216796898,
          -0.1023327976074242,
          0.0112841457519508,
          -0.1921727329101585,
          -0.0706250339355492,
          0.016571316162107,
          -0.1868893771972679,
          -0.0759122043457054,
          -0.1683919101562523,
          0.048279079833982,
          -0.1340405612792992,
          -0.0547711520996117,
          -0.1921727329101585,
          -0.0732686191406273,
          -0.3665654331054711,
          -0.4194142490234398,
          -0.4933964877929711,
          -0.8395421176757836,
          -0.6096608310546898,
          -0.6492955356445336,
          -0.5224644809570336,
          -0.4273411899414086,
          -0.5303914218750023,
          -0.6149441867675804,
          -0.7840535312500023,
          -0.7338483005371117,
          -0.7523457675781273,
          -0.8738934665527367,
          -0.8289715915527367,
          -0.6862866550292992,
          -0.7285649448242211,
          -0.5462453037109398,
          -0.5118939548339867,
          -0.6017338901367211,
          -0.5541722446289086,
          -0.6228711276855492,
          -0.6968571811523461,
          -0.9558026462402368,
          -0.8553959995117211,
          -0.9346654086914086,
          -0.9663731723632836,
          -0.8474690585937523,
          -0.7021405368652367,
          -0.8448254733886742,
          -0.834258761962893,
          -0.770843234619143,
          -0.6387250095214867,
          -0.725921359619143,
          -0.865966525634768,
          -0.6334416538085961,
          -0.5647389560546898,
          -0.4933964877929711,
          -0.7444188266601586,
          -0.5885197788085961,
          -0.4960400729980492,
          -0.4114873081054711,
          -0.6281544833984398,
          -0.4960400729980492,
          -0.7549893527832054,
          -0.8289715915527367,
          -0.4062001376953148,
          -0.5964467197265648,
          -0.7602727084960961,
          -0.6651494174804711,
          -0.7761265903320336,
          -0.7312085300292992,
          -0.8051907687988304,
          -0.7840535312500023,
          -0.9214551120605492,
          -1.0033642917480492,
          -0.9769436984863304,
          -0.9980809360351586,
          -1.1856839328613304,
          -0.757629123291018,
          -0.725921359619143,
          -0.4035603671875023,
          -0.4352681308593773,
          -0.5620991855468773,
          -0.9743001132812524,
          -0.7734830051269554,
          -0.7470624118652367,
          -0.802550998291018,
          -0.6228711276855492,
          -0.6228711276855492,
          0.4915118076171865,
          0.4915118076171865,
          0.4492335178222646,
          0.539073453124999,
          0.9274935581054676,
          3.461493954833984,
          3.6200213291015615,
          4.835410580810546,
          5.37434719580078,
          6.455043301757812,
          8.214793667968749,
          9.081420407470702,
          8.843383298095702,
          10.338679776367186,
          11.263415799316403,
          12.032470212158202,
          12.510829434570311,
          12.447356686767575,
          12.679637417968747,
          12.7849230625,
          12.263850674804686,
          11.523589596923827,
          11.032546506103516,
          11.64302395361328,
          11.793654904541016,
          12.250739560302732,
          11.265445218261718,
          12.11684750097656,
          11.567542538818358,
          11.292747006591796,
          11.438201413330075,
          11.575438962158202,
          11.55984066503906,
          11.758090481933593,
          11.861213193115232,
          12.046214566406247,
          12.069995389160155,
          11.914100156005858,
          11.694777951416016,
          11.840102658447265,
          11.752902493652345,
          12.188872800048827,
          12.244327054199218,
          12.400222287353516,
          12.125319943603516,
          12.249362454589845,
          12.167327389892575,
          12.317962155517575,
          12.058940396484374,
          12.79082439916992,
          12.55284832495117,
          12.11936901586914,
          12.328059659179686,
          11.76786755102539,
          12.15627621191406,
          12.44413708227539,
          11.91823910253906,
          11.73326824682617,
          11.728038296875,
          11.963393674072265,
          12.079692349609374,
          12.245986447509765,
          12.18772839086914,
          12.404162869628903,
          12.353686795410155,
          11.89390514868164,
          12.406527981933593,
          12.23244045751953,
          12.499431119140624,
          12.26695202368164,
          11.7655138828125,
          11.942443356689452,
          11.799647793945311,
          11.73640774267578,
          11.239745602783202,
          11.41422985571289,
          11.284339413818358,
          11.61665676611328,
          13.376105771240232,
          16.050212369140624,
          18.573562131103515,
          21.272029385742183,
          24.297831998046878,
          26.926982388671878,
          28.866633877929686,
          30.079455838378905,
          30.520602688964843,
          31.17037533300781,
          31.85966824072265,
          32.25374172705078,
          33.44551418798828,
          33.24722622412109,
          32.89050625341797,
          32.08203457373047,
          31.228251919921878,
          31.30475185888672,
          31.37763546484375,
          30.899592862304686,
          29.77205990332031,
          28.35103939550781,
          26.40441463964844,
          24.31744717138672,
          22.60323666113281,
          21.528293118652343,
          18.35753963964844,
          16.864638791259765,
          16.204535947021483,
          14.698787198242186,
          11.797534451660155,
          10.637534604248046,
          10.006049618896483,
          9.060176358398436,
          7.77601955908203,
          6.824790463623046,
          6.169532284912108,
          5.60667370336914,
          4.998889432128905,
          3.70418118017578,
          3.286612973388671,
          3.18894909399414,
          3.3341936923828115,
          3.239043698486327,
          3.5905032016601552,
          3.4637904025878896,
          3.204894528564452,
          2.8297610141601552,
          3.088813290771484,
          3.302867398437499,
          2.3912310458984365,
          2.6792483188476552,
          2.737376675781249,
          2.689830289062499,
          2.1376070834960927,
          1.7439226962890615,
          1.7571329929199209,
          2.452048764404296,
          2.016051755126952,
          2.7109827854003896,
          1.9948153354492175,
          1.9393458225097648,
          2.1243014194335927,
          2.6765627719726552,
          2.7136378146972646,
          2.164050564941405,
          2.245959744628905,
          2.6819186069335927,
          2.161376462158202,
          0.9432749606933584,
          1.2788271762695302,
          0.4201807834472646,
          0.5866465427246084,
          0.5179438449707021,
          0.687053189453124,
          0.8508791782226552,
          0.5681490756835927,
          0.7029070712890615,
          0.877299771484374,
          0.6500620700683584,
          0.6474184848632802,
          0.6421351291503896,
          0.4730257846679677,
          0.6632723666992177,
          0.6130671359863271,
          0.3726191379394521,
          0.3329844333496083,
          0.1215967990722646,
          -0.0607228420410166,
          -0.2298321865234385,
          -0.0924306057128916,
          -0.1637730739746103,
          -0.6420331142578135,
          -0.626179232421876,
          -0.4914212368164072,
          -0.562763705078126,
          -0.3355260036621104,
          -0.2034077785644541,
          -0.118855013671876,
          -0.1426358364257822,
          -0.2694668911132822,
          -0.0950741909179697,
          0.0026926853027333,
          0.0449709750976552,
          0.0423273898925771,
          -0.137348666015626,
          -0.0950741909179697,
          -0.3830876491699229,
          -0.4914212368164072,
          -0.6499600551757823,
          -0.6103253505859385,
          -0.9168362758789071,
          -1.1282200954589854,
          -1.165211214843751,
          -1.3211102626953135,
          -1.1731381557617198,
          -1.2761883876953135,
          -1.305256380859376,
          -1.4585118435058604,
          -1.4215169094238291,
          -1.1097226284179698,
          -1.0806584499511729,
          -0.945900454345704,
          -0.6420331142578135,
          -0.277393832031251,
          -0.1849103115234385,
          0.0661082126464833,
          0.0317568637695302,
          0.4175371982421865,
          0.2484278537597646,
          0.0713915683593739,
          -0.0580792568359385,
          0.0846056796874989,
          0.306560025390624,
          0.5020899631347646,
          0.5787196018066396,
          0.4888796665039052,
          0.5443682529296865,
          0.9988474704589834,
          1.2498659946289052,
          1.2974276401367175,
          0.7689661838378896,
          0.8825869418945302,
          1.0622629978027334,
          1.2736468173828115,
          1.495604977783202,
          1.4586100437011709,
          1.5458063937988271,
          1.471824155029296,
          1.490317807373046,
          1.725486264404296,
          1.7413401462402334,
          2.129760251220702,
          1.7756876804199209,
          1.6937785007324209,
          2.042563901123046,
          1.8496737338867175,
          1.9157328464355456,
          1.5933680393066396,
          1.8153223850097648,
          1.5484499790039052,
          1.4559702731933584,
          1.5299525119628896,
          1.366130337890624,
          1.4744639255371084,
          1.3053545810546865,
          1.3819842197265615,
          1.432189450439452,
          1.408408627685546,
          1.0543360568847646,
          1.046409115966796,
          1.0252718784179675,
          0.8297381259765615,
          0.877299771484374,
          0.7293314792480459,
          0.6949801303710927,
          0.7980303623046865,
          0.9275050021972646,
          1.0622629978027334,
          0.9697832919921864,
          1.4348292209472646,
          1.2419390537109365,
          1.3714136936035146,
          1.2630801059570302,
          1.3476328708496084,
          1.2340121127929675,
          1.4480433322753896,
          1.5088152744140615,
          1.4216189243164052,
          1.4638972141113271,
          1.4850344516601552,
          1.1864504672851552,
          1.1468157626953115,
          1.257792935546874,
          1.302714810546874,
          1.4586100437011709,
          1.366130337890624,
          1.3291354038085927,
          1.3185686923828115,
          1.1705965854492175,
          1.1864504672851552,
          1.1917376376953115,
          1.302714810546874,
          1.384623990234374,
          1.1494593479003896,
          1.0860438205566396,
          0.9354319431152334,
          1.0569796420898427,
          1.3582033969726552,
          1.3159251071777334,
          1.2762904025878896,
          1.2128748752441396,
          1.4559702731933584,
          1.4876780368652334,
          1.4674915151367216,
          1.4674915151367216,
          1.639240630126956,
          1.9536784963378933,
          4.474453337646487,
          5.460007079101565,
          7.148323424316409,
          8.514126189208987,
          8.236023314453128,
          8.256416686035159,
          9.101494200683597,
          9.621338255859378,
          10.119396574951177,
          11.406151183105472,
          11.628113158203128,
          11.1637386159668,
          11.108539946533206,
          11.424934752441407,
          9.976692564941407,
          9.257942564941407,
          9.32350195214844,
          9.14085806176758,
          8.970077879882815,
          8.180282958007815,
          8.155975707031253,
          6.697555907226565,
          5.67793310449219,
          5.229195006347659,
          5.364082701660159,
          5.240116484619144,
          5.377601988769534,
          5.7975505666503935,
          6.212196715332034,
          6.010994322753909,
          6.233143218017581,
          5.5938152150878935,
          6.016506560302737,
          5.715450652099612,
          5.659958250976565,
          5.686401732421878,
          5.662563689208987,
          5.6940044240722685,
          5.4851421193847685,
          4.964626677490237,
          4.6503032521972685,
          4.393951781250003,
          4.351868041015628,
          4.2146648244628935,
          3.6225246267089872,
          2.451698668457034,
          2.8585132436523466,
          1.6350940541992216,
          0.7236598806152372
         ],
         "yaxis": "y"
        }
       ],
       "layout": {
        "legend": {
         "tracegroupgap": 0
        },
        "margin": {
         "t": 60
        },
        "template": {
         "data": {
          "bar": [
           {
            "error_x": {
             "color": "#2a3f5f"
            },
            "error_y": {
             "color": "#2a3f5f"
            },
            "marker": {
             "line": {
              "color": "#E5ECF6",
              "width": 0.5
             }
            },
            "type": "bar"
           }
          ],
          "barpolar": [
           {
            "marker": {
             "line": {
              "color": "#E5ECF6",
              "width": 0.5
             }
            },
            "type": "barpolar"
           }
          ],
          "carpet": [
           {
            "aaxis": {
             "endlinecolor": "#2a3f5f",
             "gridcolor": "white",
             "linecolor": "white",
             "minorgridcolor": "white",
             "startlinecolor": "#2a3f5f"
            },
            "baxis": {
             "endlinecolor": "#2a3f5f",
             "gridcolor": "white",
             "linecolor": "white",
             "minorgridcolor": "white",
             "startlinecolor": "#2a3f5f"
            },
            "type": "carpet"
           }
          ],
          "choropleth": [
           {
            "colorbar": {
             "outlinewidth": 0,
             "ticks": ""
            },
            "type": "choropleth"
           }
          ],
          "contour": [
           {
            "colorbar": {
             "outlinewidth": 0,
             "ticks": ""
            },
            "colorscale": [
             [
              0,
              "#0d0887"
             ],
             [
              0.1111111111111111,
              "#46039f"
             ],
             [
              0.2222222222222222,
              "#7201a8"
             ],
             [
              0.3333333333333333,
              "#9c179e"
             ],
             [
              0.4444444444444444,
              "#bd3786"
             ],
             [
              0.5555555555555556,
              "#d8576b"
             ],
             [
              0.6666666666666666,
              "#ed7953"
             ],
             [
              0.7777777777777778,
              "#fb9f3a"
             ],
             [
              0.8888888888888888,
              "#fdca26"
             ],
             [
              1,
              "#f0f921"
             ]
            ],
            "type": "contour"
           }
          ],
          "contourcarpet": [
           {
            "colorbar": {
             "outlinewidth": 0,
             "ticks": ""
            },
            "type": "contourcarpet"
           }
          ],
          "heatmap": [
           {
            "colorbar": {
             "outlinewidth": 0,
             "ticks": ""
            },
            "colorscale": [
             [
              0,
              "#0d0887"
             ],
             [
              0.1111111111111111,
              "#46039f"
             ],
             [
              0.2222222222222222,
              "#7201a8"
             ],
             [
              0.3333333333333333,
              "#9c179e"
             ],
             [
              0.4444444444444444,
              "#bd3786"
             ],
             [
              0.5555555555555556,
              "#d8576b"
             ],
             [
              0.6666666666666666,
              "#ed7953"
             ],
             [
              0.7777777777777778,
              "#fb9f3a"
             ],
             [
              0.8888888888888888,
              "#fdca26"
             ],
             [
              1,
              "#f0f921"
             ]
            ],
            "type": "heatmap"
           }
          ],
          "heatmapgl": [
           {
            "colorbar": {
             "outlinewidth": 0,
             "ticks": ""
            },
            "colorscale": [
             [
              0,
              "#0d0887"
             ],
             [
              0.1111111111111111,
              "#46039f"
             ],
             [
              0.2222222222222222,
              "#7201a8"
             ],
             [
              0.3333333333333333,
              "#9c179e"
             ],
             [
              0.4444444444444444,
              "#bd3786"
             ],
             [
              0.5555555555555556,
              "#d8576b"
             ],
             [
              0.6666666666666666,
              "#ed7953"
             ],
             [
              0.7777777777777778,
              "#fb9f3a"
             ],
             [
              0.8888888888888888,
              "#fdca26"
             ],
             [
              1,
              "#f0f921"
             ]
            ],
            "type": "heatmapgl"
           }
          ],
          "histogram": [
           {
            "marker": {
             "colorbar": {
              "outlinewidth": 0,
              "ticks": ""
             }
            },
            "type": "histogram"
           }
          ],
          "histogram2d": [
           {
            "colorbar": {
             "outlinewidth": 0,
             "ticks": ""
            },
            "colorscale": [
             [
              0,
              "#0d0887"
             ],
             [
              0.1111111111111111,
              "#46039f"
             ],
             [
              0.2222222222222222,
              "#7201a8"
             ],
             [
              0.3333333333333333,
              "#9c179e"
             ],
             [
              0.4444444444444444,
              "#bd3786"
             ],
             [
              0.5555555555555556,
              "#d8576b"
             ],
             [
              0.6666666666666666,
              "#ed7953"
             ],
             [
              0.7777777777777778,
              "#fb9f3a"
             ],
             [
              0.8888888888888888,
              "#fdca26"
             ],
             [
              1,
              "#f0f921"
             ]
            ],
            "type": "histogram2d"
           }
          ],
          "histogram2dcontour": [
           {
            "colorbar": {
             "outlinewidth": 0,
             "ticks": ""
            },
            "colorscale": [
             [
              0,
              "#0d0887"
             ],
             [
              0.1111111111111111,
              "#46039f"
             ],
             [
              0.2222222222222222,
              "#7201a8"
             ],
             [
              0.3333333333333333,
              "#9c179e"
             ],
             [
              0.4444444444444444,
              "#bd3786"
             ],
             [
              0.5555555555555556,
              "#d8576b"
             ],
             [
              0.6666666666666666,
              "#ed7953"
             ],
             [
              0.7777777777777778,
              "#fb9f3a"
             ],
             [
              0.8888888888888888,
              "#fdca26"
             ],
             [
              1,
              "#f0f921"
             ]
            ],
            "type": "histogram2dcontour"
           }
          ],
          "mesh3d": [
           {
            "colorbar": {
             "outlinewidth": 0,
             "ticks": ""
            },
            "type": "mesh3d"
           }
          ],
          "parcoords": [
           {
            "line": {
             "colorbar": {
              "outlinewidth": 0,
              "ticks": ""
             }
            },
            "type": "parcoords"
           }
          ],
          "pie": [
           {
            "automargin": true,
            "type": "pie"
           }
          ],
          "scatter": [
           {
            "marker": {
             "colorbar": {
              "outlinewidth": 0,
              "ticks": ""
             }
            },
            "type": "scatter"
           }
          ],
          "scatter3d": [
           {
            "line": {
             "colorbar": {
              "outlinewidth": 0,
              "ticks": ""
             }
            },
            "marker": {
             "colorbar": {
              "outlinewidth": 0,
              "ticks": ""
             }
            },
            "type": "scatter3d"
           }
          ],
          "scattercarpet": [
           {
            "marker": {
             "colorbar": {
              "outlinewidth": 0,
              "ticks": ""
             }
            },
            "type": "scattercarpet"
           }
          ],
          "scattergeo": [
           {
            "marker": {
             "colorbar": {
              "outlinewidth": 0,
              "ticks": ""
             }
            },
            "type": "scattergeo"
           }
          ],
          "scattergl": [
           {
            "marker": {
             "colorbar": {
              "outlinewidth": 0,
              "ticks": ""
             }
            },
            "type": "scattergl"
           }
          ],
          "scattermapbox": [
           {
            "marker": {
             "colorbar": {
              "outlinewidth": 0,
              "ticks": ""
             }
            },
            "type": "scattermapbox"
           }
          ],
          "scatterpolar": [
           {
            "marker": {
             "colorbar": {
              "outlinewidth": 0,
              "ticks": ""
             }
            },
            "type": "scatterpolar"
           }
          ],
          "scatterpolargl": [
           {
            "marker": {
             "colorbar": {
              "outlinewidth": 0,
              "ticks": ""
             }
            },
            "type": "scatterpolargl"
           }
          ],
          "scatterternary": [
           {
            "marker": {
             "colorbar": {
              "outlinewidth": 0,
              "ticks": ""
             }
            },
            "type": "scatterternary"
           }
          ],
          "surface": [
           {
            "colorbar": {
             "outlinewidth": 0,
             "ticks": ""
            },
            "colorscale": [
             [
              0,
              "#0d0887"
             ],
             [
              0.1111111111111111,
              "#46039f"
             ],
             [
              0.2222222222222222,
              "#7201a8"
             ],
             [
              0.3333333333333333,
              "#9c179e"
             ],
             [
              0.4444444444444444,
              "#bd3786"
             ],
             [
              0.5555555555555556,
              "#d8576b"
             ],
             [
              0.6666666666666666,
              "#ed7953"
             ],
             [
              0.7777777777777778,
              "#fb9f3a"
             ],
             [
              0.8888888888888888,
              "#fdca26"
             ],
             [
              1,
              "#f0f921"
             ]
            ],
            "type": "surface"
           }
          ],
          "table": [
           {
            "cells": {
             "fill": {
              "color": "#EBF0F8"
             },
             "line": {
              "color": "white"
             }
            },
            "header": {
             "fill": {
              "color": "#C8D4E3"
             },
             "line": {
              "color": "white"
             }
            },
            "type": "table"
           }
          ]
         },
         "layout": {
          "annotationdefaults": {
           "arrowcolor": "#2a3f5f",
           "arrowhead": 0,
           "arrowwidth": 1
          },
          "coloraxis": {
           "colorbar": {
            "outlinewidth": 0,
            "ticks": ""
           }
          },
          "colorscale": {
           "diverging": [
            [
             0,
             "#8e0152"
            ],
            [
             0.1,
             "#c51b7d"
            ],
            [
             0.2,
             "#de77ae"
            ],
            [
             0.3,
             "#f1b6da"
            ],
            [
             0.4,
             "#fde0ef"
            ],
            [
             0.5,
             "#f7f7f7"
            ],
            [
             0.6,
             "#e6f5d0"
            ],
            [
             0.7,
             "#b8e186"
            ],
            [
             0.8,
             "#7fbc41"
            ],
            [
             0.9,
             "#4d9221"
            ],
            [
             1,
             "#276419"
            ]
           ],
           "sequential": [
            [
             0,
             "#0d0887"
            ],
            [
             0.1111111111111111,
             "#46039f"
            ],
            [
             0.2222222222222222,
             "#7201a8"
            ],
            [
             0.3333333333333333,
             "#9c179e"
            ],
            [
             0.4444444444444444,
             "#bd3786"
            ],
            [
             0.5555555555555556,
             "#d8576b"
            ],
            [
             0.6666666666666666,
             "#ed7953"
            ],
            [
             0.7777777777777778,
             "#fb9f3a"
            ],
            [
             0.8888888888888888,
             "#fdca26"
            ],
            [
             1,
             "#f0f921"
            ]
           ],
           "sequentialminus": [
            [
             0,
             "#0d0887"
            ],
            [
             0.1111111111111111,
             "#46039f"
            ],
            [
             0.2222222222222222,
             "#7201a8"
            ],
            [
             0.3333333333333333,
             "#9c179e"
            ],
            [
             0.4444444444444444,
             "#bd3786"
            ],
            [
             0.5555555555555556,
             "#d8576b"
            ],
            [
             0.6666666666666666,
             "#ed7953"
            ],
            [
             0.7777777777777778,
             "#fb9f3a"
            ],
            [
             0.8888888888888888,
             "#fdca26"
            ],
            [
             1,
             "#f0f921"
            ]
           ]
          },
          "colorway": [
           "#636efa",
           "#EF553B",
           "#00cc96",
           "#ab63fa",
           "#FFA15A",
           "#19d3f3",
           "#FF6692",
           "#B6E880",
           "#FF97FF",
           "#FECB52"
          ],
          "font": {
           "color": "#2a3f5f"
          },
          "geo": {
           "bgcolor": "white",
           "lakecolor": "white",
           "landcolor": "#E5ECF6",
           "showlakes": true,
           "showland": true,
           "subunitcolor": "white"
          },
          "hoverlabel": {
           "align": "left"
          },
          "hovermode": "closest",
          "mapbox": {
           "style": "light"
          },
          "paper_bgcolor": "white",
          "plot_bgcolor": "#E5ECF6",
          "polar": {
           "angularaxis": {
            "gridcolor": "white",
            "linecolor": "white",
            "ticks": ""
           },
           "bgcolor": "#E5ECF6",
           "radialaxis": {
            "gridcolor": "white",
            "linecolor": "white",
            "ticks": ""
           }
          },
          "scene": {
           "xaxis": {
            "backgroundcolor": "#E5ECF6",
            "gridcolor": "white",
            "gridwidth": 2,
            "linecolor": "white",
            "showbackground": true,
            "ticks": "",
            "zerolinecolor": "white"
           },
           "yaxis": {
            "backgroundcolor": "#E5ECF6",
            "gridcolor": "white",
            "gridwidth": 2,
            "linecolor": "white",
            "showbackground": true,
            "ticks": "",
            "zerolinecolor": "white"
           },
           "zaxis": {
            "backgroundcolor": "#E5ECF6",
            "gridcolor": "white",
            "gridwidth": 2,
            "linecolor": "white",
            "showbackground": true,
            "ticks": "",
            "zerolinecolor": "white"
           }
          },
          "shapedefaults": {
           "line": {
            "color": "#2a3f5f"
           }
          },
          "ternary": {
           "aaxis": {
            "gridcolor": "white",
            "linecolor": "white",
            "ticks": ""
           },
           "baxis": {
            "gridcolor": "white",
            "linecolor": "white",
            "ticks": ""
           },
           "bgcolor": "#E5ECF6",
           "caxis": {
            "gridcolor": "white",
            "linecolor": "white",
            "ticks": ""
           }
          },
          "title": {
           "x": 0.05
          },
          "xaxis": {
           "automargin": true,
           "gridcolor": "white",
           "linecolor": "white",
           "ticks": "",
           "title": {
            "standoff": 15
           },
           "zerolinecolor": "white",
           "zerolinewidth": 2
          },
          "yaxis": {
           "automargin": true,
           "gridcolor": "white",
           "linecolor": "white",
           "ticks": "",
           "title": {
            "standoff": 15
           },
           "zerolinecolor": "white",
           "zerolinewidth": 2
          }
         }
        },
        "xaxis": {
         "anchor": "y",
         "domain": [
          0,
          1
         ],
         "title": {
          "text": "timestamp"
         }
        },
        "yaxis": {
         "anchor": "x",
         "domain": [
          0,
          1
         ],
         "title": {
          "text": "relative_height_meters"
         }
        }
       }
      },
      "text/html": [
       "<div>\n",
       "        \n",
       "        \n",
       "            <div id=\"9e83ad84-440d-4522-8cce-adfb82a333ad\" class=\"plotly-graph-div\" style=\"height:525px; width:100%;\"></div>\n",
       "            <script type=\"text/javascript\">\n",
       "                require([\"plotly\"], function(Plotly) {\n",
       "                    window.PLOTLYENV=window.PLOTLYENV || {};\n",
       "                    \n",
       "                if (document.getElementById(\"9e83ad84-440d-4522-8cce-adfb82a333ad\")) {\n",
       "                    Plotly.newPlot(\n",
       "                        '9e83ad84-440d-4522-8cce-adfb82a333ad',\n",
       "                        [{\"hoverlabel\": {\"namelength\": 0}, \"hovertemplate\": \"timestamp=%{x}<br>relative_height_meters=%{y}\", \"legendgroup\": \"\", \"line\": {\"color\": \"#636efa\", \"dash\": \"solid\"}, \"mode\": \"lines\", \"name\": \"\", \"showlegend\": false, \"type\": \"scatter\", \"x\": [\"2022-06-09T09:34:11\", \"2022-06-09T09:35:26\", \"2022-06-09T09:35:27\", \"2022-06-09T09:35:28\", \"2022-06-09T09:35:29\", \"2022-06-09T09:35:30\", \"2022-06-09T09:35:31\", \"2022-06-09T09:35:32\", \"2022-06-09T09:35:33\", \"2022-06-09T09:35:34\", \"2022-06-09T09:35:35\", \"2022-06-09T09:35:36\", \"2022-06-09T09:35:37\", \"2022-06-09T09:35:38\", \"2022-06-09T09:35:39\", \"2022-06-09T09:35:40\", \"2022-06-09T09:35:41\", \"2022-06-09T09:35:42\", \"2022-06-09T09:35:43\", \"2022-06-09T09:35:44\", \"2022-06-09T09:35:45\", \"2022-06-09T09:35:46\", \"2022-06-09T09:35:47\", \"2022-06-09T09:35:48\", \"2022-06-09T09:35:49\", \"2022-06-09T09:35:50\", \"2022-06-09T09:35:51\", \"2022-06-09T09:35:52\", \"2022-06-09T09:35:53\", \"2022-06-09T09:35:54\", \"2022-06-09T09:35:55\", \"2022-06-09T09:35:56\", \"2022-06-09T09:35:57\", \"2022-06-09T09:35:58\", \"2022-06-09T09:35:59\", \"2022-06-09T09:36:00\", \"2022-06-09T09:36:01\", \"2022-06-09T09:36:02\", \"2022-06-09T09:36:03\", \"2022-06-09T09:36:04\", \"2022-06-09T09:36:05\", \"2022-06-09T09:36:06\", \"2022-06-09T09:36:07\", \"2022-06-09T09:36:08\", \"2022-06-09T09:36:09\", \"2022-06-09T09:36:10\", \"2022-06-09T09:36:11\", \"2022-06-09T09:36:12\", \"2022-06-09T09:36:13\", \"2022-06-09T09:36:14\", \"2022-06-09T09:36:15\", \"2022-06-09T09:36:16\", \"2022-06-09T09:36:17\", \"2022-06-09T09:36:18\", \"2022-06-09T09:36:19\", \"2022-06-09T09:36:20\", \"2022-06-09T09:36:21\", \"2022-06-09T09:36:22\", \"2022-06-09T09:36:23\", \"2022-06-09T09:36:24\", \"2022-06-09T09:36:25\", \"2022-06-09T09:36:26\", \"2022-06-09T09:36:27\", \"2022-06-09T09:36:28\", \"2022-06-09T09:36:29\", \"2022-06-09T09:36:30\", \"2022-06-09T09:36:31\", \"2022-06-09T09:36:32\", \"2022-06-09T09:36:33\", \"2022-06-09T09:36:34\", \"2022-06-09T09:36:35\", \"2022-06-09T09:36:36\", \"2022-06-09T09:36:37\", \"2022-06-09T09:36:38\", \"2022-06-09T09:36:39\", \"2022-06-09T09:36:40\", \"2022-06-09T09:36:41\", \"2022-06-09T09:36:42\", \"2022-06-09T09:36:43\", \"2022-06-09T09:36:44\", \"2022-06-09T09:36:45\", \"2022-06-09T09:36:46\", \"2022-06-09T09:36:47\", \"2022-06-09T09:36:48\", \"2022-06-09T09:36:49\", \"2022-06-09T09:36:50\", \"2022-06-09T09:36:51\", \"2022-06-09T09:36:52\", \"2022-06-09T09:36:53\", \"2022-06-09T09:36:54\", \"2022-06-09T09:36:55\", \"2022-06-09T09:36:56\", \"2022-06-09T09:36:57\", \"2022-06-09T09:36:58\", \"2022-06-09T09:36:59\", \"2022-06-09T09:37:00\", \"2022-06-09T09:37:01\", \"2022-06-09T09:37:02\", \"2022-06-09T09:37:03\", \"2022-06-09T09:37:04\", \"2022-06-09T09:37:05\", \"2022-06-09T09:37:06\", \"2022-06-09T09:37:07\", \"2022-06-09T09:37:08\", \"2022-06-09T09:37:09\", \"2022-06-09T09:37:10\", \"2022-06-09T09:37:11\", \"2022-06-09T09:37:12\", \"2022-06-09T09:37:13\", \"2022-06-09T09:37:14\", \"2022-06-09T09:37:15\", \"2022-06-09T09:37:16\", \"2022-06-09T09:37:17\", \"2022-06-09T09:37:18\", \"2022-06-09T09:37:19\", \"2022-06-09T09:37:20\", \"2022-06-09T09:37:21\", \"2022-06-09T09:37:22\", \"2022-06-09T09:37:23\", \"2022-06-09T09:37:24\", \"2022-06-09T09:37:25\", \"2022-06-09T09:37:26\", \"2022-06-09T09:37:27\", \"2022-06-09T09:37:28\", \"2022-06-09T09:37:29\", \"2022-06-09T09:37:30\", \"2022-06-09T09:37:31\", \"2022-06-09T09:37:32\", \"2022-06-09T09:37:33\", \"2022-06-09T09:37:34\", \"2022-06-09T09:37:35\", \"2022-06-09T09:37:36\", \"2022-06-09T09:37:37\", \"2022-06-09T09:37:38\", \"2022-06-09T09:37:39\", \"2022-06-09T09:37:40\", \"2022-06-09T09:37:41\", \"2022-06-09T09:37:42\", \"2022-06-09T09:37:43\", \"2022-06-09T09:37:44\", \"2022-06-09T09:37:45\", \"2022-06-09T09:37:46\", \"2022-06-09T09:37:47\", \"2022-06-09T09:37:48\", \"2022-06-09T09:37:49\", \"2022-06-09T09:37:50\", \"2022-06-09T09:37:51\", \"2022-06-09T09:37:52\", \"2022-06-09T09:37:53\", \"2022-06-09T09:37:54\", \"2022-06-09T09:37:55\", \"2022-06-09T09:37:56\", \"2022-06-09T09:37:57\", \"2022-06-09T09:37:58\", \"2022-06-09T09:37:59\", \"2022-06-09T09:38:00\", \"2022-06-09T09:38:01\", \"2022-06-09T09:38:02\", \"2022-06-09T09:38:03\", \"2022-06-09T09:38:04\", \"2022-06-09T09:38:05\", \"2022-06-09T09:38:06\", \"2022-06-09T09:38:07\", \"2022-06-09T09:38:08\", \"2022-06-09T09:38:09\", \"2022-06-09T09:38:10\", \"2022-06-09T09:38:11\", \"2022-06-09T09:38:12\", \"2022-06-09T09:38:13\", \"2022-06-09T09:38:14\", \"2022-06-09T09:38:15\", \"2022-06-09T09:38:16\", \"2022-06-09T09:38:17\", \"2022-06-09T09:38:18\", \"2022-06-09T09:38:19\", \"2022-06-09T09:38:20\", \"2022-06-09T09:38:21\", \"2022-06-09T09:38:22\", \"2022-06-09T09:38:23\", \"2022-06-09T09:38:24\", \"2022-06-09T09:38:25\", \"2022-06-09T09:38:26\", \"2022-06-09T09:38:27\", \"2022-06-09T09:38:28\", \"2022-06-09T09:38:29\", \"2022-06-09T09:38:30\", \"2022-06-09T09:38:31\", \"2022-06-09T09:38:32\", \"2022-06-09T09:38:33\", \"2022-06-09T09:38:34\", \"2022-06-09T09:38:35\", \"2022-06-09T09:38:36\", \"2022-06-09T09:38:37\", \"2022-06-09T09:38:38\", \"2022-06-09T09:38:39\", \"2022-06-09T09:38:40\", \"2022-06-09T09:38:41\", \"2022-06-09T09:38:42\", \"2022-06-09T09:38:43\", \"2022-06-09T09:38:44\", \"2022-06-09T09:38:45\", \"2022-06-09T09:38:46\", \"2022-06-09T09:38:47\", \"2022-06-09T09:38:48\", \"2022-06-09T09:38:49\", \"2022-06-09T09:38:50\", \"2022-06-09T09:38:51\", \"2022-06-09T09:38:52\", \"2022-06-09T09:38:53\", \"2022-06-09T09:38:54\", \"2022-06-09T09:38:55\", \"2022-06-09T09:38:56\", \"2022-06-09T09:38:57\", \"2022-06-09T09:38:58\", \"2022-06-09T09:38:59\", \"2022-06-09T09:39:00\", \"2022-06-09T09:39:01\", \"2022-06-09T09:39:02\", \"2022-06-09T09:39:03\", \"2022-06-09T09:39:04\", \"2022-06-09T09:39:05\", \"2022-06-09T09:39:06\", \"2022-06-09T09:39:07\", \"2022-06-09T09:39:08\", \"2022-06-09T09:39:09\", \"2022-06-09T09:39:10\", \"2022-06-09T09:39:11\", \"2022-06-09T09:39:12\", \"2022-06-09T09:39:13\", \"2022-06-09T09:39:14\", \"2022-06-09T09:39:15\", \"2022-06-09T09:39:16\", \"2022-06-09T09:39:17\", \"2022-06-09T09:39:18\", \"2022-06-09T09:39:19\", \"2022-06-09T09:39:20\", \"2022-06-09T09:39:21\", \"2022-06-09T09:39:22\", \"2022-06-09T09:39:23\", \"2022-06-09T09:39:24\", \"2022-06-09T09:39:25\", \"2022-06-09T09:39:26\", \"2022-06-09T09:39:27\", \"2022-06-09T09:39:28\", \"2022-06-09T09:39:29\", \"2022-06-09T09:39:30\", \"2022-06-09T09:39:31\", \"2022-06-09T09:39:32\", \"2022-06-09T09:39:33\", \"2022-06-09T09:39:34\", \"2022-06-09T09:39:35\", \"2022-06-09T09:39:36\", \"2022-06-09T09:39:37\", \"2022-06-09T09:39:38\", \"2022-06-09T09:39:39\", \"2022-06-09T09:39:40\", \"2022-06-09T09:39:41\", \"2022-06-09T09:39:42\", \"2022-06-09T09:39:43\", \"2022-06-09T09:39:44\", \"2022-06-09T09:39:45\", \"2022-06-09T09:39:46\", \"2022-06-09T09:39:47\", \"2022-06-09T09:39:48\", \"2022-06-09T09:39:49\", \"2022-06-09T09:39:50\", \"2022-06-09T09:39:51\", \"2022-06-09T09:39:52\", \"2022-06-09T09:39:53\", \"2022-06-09T09:39:54\", \"2022-06-09T09:39:55\", \"2022-06-09T09:39:56\", \"2022-06-09T09:39:57\", \"2022-06-09T09:39:58\", \"2022-06-09T09:39:59\", \"2022-06-09T09:40:00\", \"2022-06-09T09:40:01\", \"2022-06-09T09:40:02\", \"2022-06-09T09:40:03\", \"2022-06-09T09:40:04\", \"2022-06-09T09:40:05\", \"2022-06-09T09:40:06\", \"2022-06-09T09:40:07\", \"2022-06-09T09:40:08\", \"2022-06-09T09:40:09\", \"2022-06-09T09:40:10\", \"2022-06-09T09:40:11\", \"2022-06-09T09:40:12\", \"2022-06-09T09:40:13\", \"2022-06-09T09:40:14\", \"2022-06-09T09:40:15\", \"2022-06-09T09:40:16\", \"2022-06-09T09:40:17\", \"2022-06-09T09:40:18\", \"2022-06-09T09:40:19\", \"2022-06-09T09:40:20\", \"2022-06-09T09:40:21\", \"2022-06-09T09:40:22\", \"2022-06-09T09:40:23\", \"2022-06-09T09:40:24\", \"2022-06-09T09:40:25\", \"2022-06-09T09:40:26\", \"2022-06-09T09:40:27\", \"2022-06-09T09:40:28\", \"2022-06-09T09:40:29\", \"2022-06-09T09:40:30\", \"2022-06-09T09:40:31\", \"2022-06-09T09:40:32\", \"2022-06-09T09:40:33\", \"2022-06-09T09:40:34\", \"2022-06-09T09:40:35\", \"2022-06-09T09:40:36\", \"2022-06-09T09:40:37\", \"2022-06-09T09:40:38\", \"2022-06-09T09:40:39\", \"2022-06-09T09:40:40\", \"2022-06-09T09:40:41\", \"2022-06-09T09:40:42\", \"2022-06-09T09:40:43\", \"2022-06-09T09:40:44\", \"2022-06-09T09:40:45\", \"2022-06-09T09:40:46\", \"2022-06-09T09:40:47\", \"2022-06-09T09:40:48\", \"2022-06-09T09:40:49\", \"2022-06-09T09:40:50\", \"2022-06-09T09:40:51\", \"2022-06-09T09:40:52\", \"2022-06-09T09:40:53\", \"2022-06-09T09:40:54\", \"2022-06-09T09:40:55\", \"2022-06-09T09:40:56\", \"2022-06-09T09:40:57\", \"2022-06-09T09:40:58\", \"2022-06-09T09:40:59\", \"2022-06-09T09:41:00\", \"2022-06-09T09:41:01\", \"2022-06-09T09:41:02\", \"2022-06-09T09:41:03\", \"2022-06-09T09:41:04\", \"2022-06-09T09:41:05\", \"2022-06-09T09:41:06\", \"2022-06-09T09:41:07\", \"2022-06-09T09:41:08\", \"2022-06-09T09:41:09\", \"2022-06-09T09:41:10\", \"2022-06-09T09:41:11\", \"2022-06-09T09:41:12\", \"2022-06-09T09:41:13\", \"2022-06-09T09:41:14\", \"2022-06-09T09:41:15\", \"2022-06-09T09:41:16\", \"2022-06-09T09:41:17\", \"2022-06-09T09:41:18\", \"2022-06-09T09:41:19\", \"2022-06-09T09:41:20\", \"2022-06-09T09:41:21\", \"2022-06-09T09:41:22\", \"2022-06-09T09:41:23\", \"2022-06-09T09:41:24\", \"2022-06-09T09:41:25\", \"2022-06-09T09:41:26\", \"2022-06-09T09:41:27\", \"2022-06-09T09:41:28\", \"2022-06-09T09:41:29\", \"2022-06-09T09:41:30\", \"2022-06-09T09:41:31\", \"2022-06-09T09:41:32\", \"2022-06-09T09:41:33\", \"2022-06-09T09:41:34\", \"2022-06-09T09:41:35\", \"2022-06-09T09:41:36\", \"2022-06-09T09:41:37\", \"2022-06-09T09:41:38\", \"2022-06-09T09:41:39\", \"2022-06-09T09:41:40\", \"2022-06-09T09:41:41\", \"2022-06-09T09:41:42\", \"2022-06-09T09:41:43\", \"2022-06-09T09:41:44\", \"2022-06-09T09:41:45\", \"2022-06-09T09:41:46\", \"2022-06-09T09:41:47\", \"2022-06-09T09:41:48\", \"2022-06-09T09:41:49\", \"2022-06-09T09:41:50\", \"2022-06-09T09:41:51\", \"2022-06-09T09:41:52\", \"2022-06-09T09:41:53\", \"2022-06-09T09:41:54\", \"2022-06-09T09:41:55\", \"2022-06-09T09:41:56\", \"2022-06-09T09:41:57\", \"2022-06-09T09:41:58\", \"2022-06-09T09:41:59\", \"2022-06-09T09:42:00\", \"2022-06-09T09:42:01\", \"2022-06-09T09:42:02\", \"2022-06-09T09:42:03\", \"2022-06-09T09:42:04\", \"2022-06-09T09:42:05\", \"2022-06-09T09:42:06\", \"2022-06-09T09:42:07\", \"2022-06-09T09:42:08\", \"2022-06-09T09:42:09\", \"2022-06-09T09:42:10\", \"2022-06-09T09:42:11\", \"2022-06-09T09:42:12\", \"2022-06-09T09:42:13\", \"2022-06-09T09:42:14\", \"2022-06-09T09:42:15\", \"2022-06-09T09:42:16\", \"2022-06-09T09:42:17\", \"2022-06-09T09:42:18\", \"2022-06-09T09:42:19\", \"2022-06-09T09:42:20\", \"2022-06-09T09:42:21\", \"2022-06-09T09:42:22\", \"2022-06-09T09:42:23\", \"2022-06-09T09:42:24\", \"2022-06-09T09:42:25\", \"2022-06-09T09:42:26\", \"2022-06-09T09:42:27\", \"2022-06-09T09:42:28\", \"2022-06-09T09:42:29\", \"2022-06-09T09:42:30\", \"2022-06-09T09:42:31\", \"2022-06-09T09:42:32\", \"2022-06-09T09:42:33\", \"2022-06-09T09:42:34\", \"2022-06-09T09:42:35\", \"2022-06-09T09:42:36\", \"2022-06-09T09:42:37\", \"2022-06-09T09:42:38\", \"2022-06-09T09:42:39\", \"2022-06-09T09:42:40\", \"2022-06-09T09:42:41\", \"2022-06-09T09:42:42\", \"2022-06-09T09:42:43\", \"2022-06-09T09:42:44\", \"2022-06-09T09:42:45\", \"2022-06-09T09:42:46\", \"2022-06-09T09:42:47\", \"2022-06-09T09:42:48\", \"2022-06-09T09:42:49\", \"2022-06-09T09:42:50\", \"2022-06-09T09:42:51\", \"2022-06-09T09:42:52\", \"2022-06-09T09:42:53\", \"2022-06-09T09:42:54\", \"2022-06-09T09:42:55\", \"2022-06-09T09:42:56\", \"2022-06-09T09:42:57\", \"2022-06-09T09:42:58\", \"2022-06-09T09:42:59\", \"2022-06-09T09:43:00\", \"2022-06-09T09:43:01\", \"2022-06-09T09:43:02\", \"2022-06-09T09:43:03\", \"2022-06-09T09:43:04\", \"2022-06-09T09:43:05\", \"2022-06-09T09:43:06\", \"2022-06-09T09:43:07\", \"2022-06-09T09:43:08\", \"2022-06-09T09:43:09\", \"2022-06-09T09:43:10\", \"2022-06-09T09:43:11\", \"2022-06-09T09:43:12\", \"2022-06-09T09:43:13\", \"2022-06-09T09:43:14\", \"2022-06-09T09:43:15\", \"2022-06-09T09:43:16\", \"2022-06-09T09:43:17\", \"2022-06-09T09:43:18\", \"2022-06-09T09:43:19\", \"2022-06-09T09:43:20\", \"2022-06-09T09:43:21\", \"2022-06-09T09:43:22\", \"2022-06-09T09:43:23\", \"2022-06-09T09:43:24\", \"2022-06-09T09:43:25\", \"2022-06-09T09:43:26\", \"2022-06-09T09:43:27\", \"2022-06-09T09:43:28\", \"2022-06-09T09:43:29\", \"2022-06-09T09:43:30\", \"2022-06-09T09:43:31\", \"2022-06-09T09:43:32\", \"2022-06-09T09:43:33\", \"2022-06-09T09:43:34\", \"2022-06-09T09:43:35\", \"2022-06-09T09:43:36\", \"2022-06-09T09:43:37\", \"2022-06-09T09:43:38\", \"2022-06-09T09:43:39\", \"2022-06-09T09:43:40\", \"2022-06-09T09:43:41\", \"2022-06-09T09:43:42\", \"2022-06-09T09:43:43\", \"2022-06-09T09:43:44\", \"2022-06-09T09:43:45\", \"2022-06-09T09:43:46\", \"2022-06-09T09:43:47\", \"2022-06-09T09:43:48\", \"2022-06-09T09:43:49\", \"2022-06-09T09:43:50\", \"2022-06-09T09:43:51\", \"2022-06-09T09:43:52\", \"2022-06-09T09:43:53\", \"2022-06-09T09:43:54\", \"2022-06-09T09:43:55\", \"2022-06-09T09:43:56\", \"2022-06-09T09:43:57\", \"2022-06-09T09:43:58\", \"2022-06-09T09:43:59\", \"2022-06-09T09:44:00\", \"2022-06-09T09:44:01\", \"2022-06-09T09:44:02\", \"2022-06-09T09:44:03\", \"2022-06-09T09:44:04\", \"2022-06-09T09:44:05\", \"2022-06-09T09:44:06\", \"2022-06-09T09:44:07\", \"2022-06-09T09:44:08\", \"2022-06-09T09:44:09\", \"2022-06-09T09:44:10\", \"2022-06-09T09:44:11\", \"2022-06-09T09:44:12\", \"2022-06-09T09:44:13\", \"2022-06-09T09:44:14\", \"2022-06-09T09:44:15\", \"2022-06-09T09:44:16\", \"2022-06-09T09:44:17\", \"2022-06-09T09:44:18\", \"2022-06-09T09:44:19\", \"2022-06-09T09:44:20\", \"2022-06-09T09:44:21\", \"2022-06-09T09:44:22\", \"2022-06-09T09:44:23\", \"2022-06-09T09:44:24\", \"2022-06-09T09:44:25\", \"2022-06-09T09:44:26\", \"2022-06-09T09:44:27\", \"2022-06-09T09:44:28\", \"2022-06-09T09:44:29\", \"2022-06-09T09:44:30\", \"2022-06-09T09:44:31\", \"2022-06-09T09:44:32\", \"2022-06-09T09:44:33\", \"2022-06-09T09:44:34\", \"2022-06-09T09:44:35\", \"2022-06-09T09:44:36\", \"2022-06-09T09:44:37\", \"2022-06-09T09:44:38\", \"2022-06-09T09:44:39\", \"2022-06-09T09:44:40\", \"2022-06-09T09:44:41\", \"2022-06-09T09:44:42\", \"2022-06-09T09:44:43\", \"2022-06-09T09:44:44\", \"2022-06-09T09:44:45\", \"2022-06-09T09:44:46\", \"2022-06-09T09:44:47\", \"2022-06-09T09:44:48\", \"2022-06-09T09:44:49\", \"2022-06-09T09:44:50\", \"2022-06-09T09:44:51\", \"2022-06-09T09:44:52\", \"2022-06-09T09:44:53\", \"2022-06-09T09:44:54\", \"2022-06-09T09:44:55\", \"2022-06-09T09:44:56\", \"2022-06-09T09:44:57\", \"2022-06-09T09:44:58\", \"2022-06-09T09:44:59\", \"2022-06-09T09:45:00\", \"2022-06-09T09:45:01\", \"2022-06-09T09:45:02\", \"2022-06-09T09:45:03\", \"2022-06-09T09:45:04\", \"2022-06-09T09:45:05\", \"2022-06-09T09:45:06\", \"2022-06-09T09:45:07\", \"2022-06-09T09:45:08\", \"2022-06-09T09:45:09\", \"2022-06-09T09:45:10\", \"2022-06-09T09:45:11\", \"2022-06-09T09:45:12\", \"2022-06-09T09:45:13\", \"2022-06-09T09:45:14\", \"2022-06-09T09:45:15\", \"2022-06-09T09:45:16\", \"2022-06-09T09:45:17\", \"2022-06-09T09:45:18\", \"2022-06-09T09:45:19\", \"2022-06-09T09:45:20\", \"2022-06-09T09:45:21\", \"2022-06-09T09:45:22\", \"2022-06-09T09:45:23\", \"2022-06-09T09:45:24\", \"2022-06-09T09:45:25\", \"2022-06-09T09:45:26\", \"2022-06-09T09:45:27\", \"2022-06-09T09:45:28\", \"2022-06-09T09:45:29\", \"2022-06-09T09:45:30\", \"2022-06-09T09:45:31\", \"2022-06-09T09:45:32\", \"2022-06-09T09:45:33\", \"2022-06-09T09:45:34\", \"2022-06-09T09:45:35\", \"2022-06-09T09:45:36\", \"2022-06-09T09:45:37\", \"2022-06-09T09:45:38\", \"2022-06-09T09:45:39\", \"2022-06-09T09:45:40\", \"2022-06-09T09:45:41\", \"2022-06-09T09:45:42\", \"2022-06-09T09:45:43\", \"2022-06-09T09:45:44\", \"2022-06-09T09:45:45\", \"2022-06-09T09:45:46\", \"2022-06-09T09:45:47\", \"2022-06-09T09:45:48\", \"2022-06-09T09:45:49\", \"2022-06-09T09:45:50\", \"2022-06-09T09:45:51\", \"2022-06-09T09:45:52\", \"2022-06-09T09:45:53\", \"2022-06-09T09:45:54\", \"2022-06-09T09:45:55\", \"2022-06-09T09:45:56\", \"2022-06-09T09:45:57\", \"2022-06-09T09:45:58\", \"2022-06-09T09:45:59\", \"2022-06-09T09:46:00\", \"2022-06-09T09:46:01\", \"2022-06-09T09:46:02\", \"2022-06-09T09:46:03\", \"2022-06-09T09:46:04\"], \"xaxis\": \"x\", \"y\": [null, null, 0.1909830898437476, 0.0298006862792945, 0.0535815090332008, 0.9889643520507788, 2.114589962402341, 3.211132320800779, 4.014210018554685, 4.547729763427732, 5.422268185058591, 6.307403835693357, 6.957344326416013, 8.323311123291013, 8.812202724853513, 9.37760952416992, 10.27595165673828, 10.59542492333984, 11.16062954370117, 11.2711108059082, 11.024681362548826, 11.396301540771482, 11.47981670800781, 11.405098232666012, 11.112373623291012, 11.90900829736328, 12.139049801269527, 11.267307552734373, 10.96943310205078, 11.4113695949707, 11.675819668212888, 11.638790401855466, 11.131607326904296, 11.636307033935545, 11.6942065090332, 11.842029842773435, 11.675415310302732, 12.296242031494138, 12.589180263916012, 12.20378902856445, 11.276905331054683, 11.224247249999998, 11.575821194091796, 11.298595699707027, 11.23503139916992, 10.80400112573242, 11.421936306396482, 11.210560116210935, 11.437622341552732, 11.18935039941406, 11.85786846582031, 11.260288509765624, 11.294498714843748, 10.54684093896484, 10.76093700830078, 10.803421291748045, 10.740074428955076, 10.903957638183591, 10.956836971679683, 10.700718197265624, 10.695808681884763, 10.851784023681638, 10.68526867333984, 11.060493740478512, 10.901859554687498, 11.253544124999998, 11.858795437255855, 12.522205624023435, 11.129818233886716, 11.222076687255855, 11.287803921142576, 11.380108150878904, 11.321472439208982, 11.10763195458984, 11.64387920800781, 11.7368090480957, 11.644047054687498, 11.976345333496091, 13.87819317285156, 15.954738888183591, 18.52361324731445, 21.309368404785157, 24.467022213378904, 26.704761776367185, 28.66242626611328, 29.53139904443359, 30.25246838037109, 31.02120617333984, 31.01337841455078, 30.752140316406248, 30.68129375878906, 30.626133236328123, 30.557606014648435, 30.652881893554685, 31.424366268554685, 31.120533260742185, 31.51015881005859, 31.481724056640623, 30.59193066064453, 29.854984554687498, 27.92128399316406, 26.158985409179685, 24.59767559472656, 22.552982601562498, 20.72224071923828, 19.02621105615234, 17.551895412841795, 15.950889858642576, 13.787170681396482, 11.567600521484373, 10.632206234374998, 9.746975216308591, 8.661251339355466, 7.675934109130857, 6.695865902343748, 5.808208736816404, 5.948234829345701, 5.6550143093261696, 5.430458340087888, 5.150406155029295, 5.044700893798826, 4.5558626979980446, 3.993007931152341, 3.9664080471191374, 3.456241878906248, 3.2157976955566383, 3.038818630615232, 2.95683315698242, 2.7349016994628883, 2.446800503173826, 2.4283526271972637, 3.007080349365232, 2.639709743896482, 2.9013026088867164, 2.502342495361326, 1.9658167690429664, 1.2603533596191383, 0.587311062255857, 0.2226717800292945, -0.144611087402346, 0.3468592495117164, -0.0415608554687523, 0.003357204833982, 0.111694607177732, -0.0600583225097679, -0.3242909580078148, -0.4167706638183617, -0.2661587863769554, -0.5594556003417992, -0.6889302402343773, -0.5198208957519554, -0.5145375400390648, -0.4088437229003929, -0.3956334262695336, -0.3824193149414086, -0.3850629001464867, -0.3559987216796898, -0.1525380283203148, -0.1234738498535179, 0.0086443752441383, 0.1539690822753883, 0.288727077880857, 0.4129183620605445, 0.5767405361328102, 0.4974711269531227, 0.6718638271484352, 0.6058085292968727, 0.5635302395019508, 0.4763338894042945, 0.1830370754394508, 0.3257220119628883, 0.079986843505857, 0.1539690822753883, 0.2121012539062476, 0.3177950710449195, 0.2781603664550758, 0.2147448391113258, 0.2543795437011695, 0.4102747768554664, 0.3151514858398414, 0.3177950710449195, 0.1222613186035133, 0.0562060207519508, -0.0151364475097679, -0.017780032714846, -0.1578213840332054, -0.0970494418945335, -0.2133137851562523, -0.239734378417971, -0.1498944431152367, -0.3057934909667992, -0.1974599033203148, -0.1604649692382835, -0.3480717807617211, 0.003357204833982, -0.208026614746096, -0.4881131320800804, -0.3454281955566429, -0.2820126682128929, -0.2714421420898461, -0.2608754306640648, -0.4537617832031273, -0.0864789157714867, -0.2291676669921898, -0.0521313815917992, -0.1208302646484398, 0.0060007900390601, -0.2714421420898461, -0.3639256625976586, -0.2027432590332054, -0.3718526035156273, -0.3559987216796898, -0.1023327976074242, 0.0112841457519508, -0.1921727329101585, -0.0706250339355492, 0.016571316162107, -0.1868893771972679, -0.0759122043457054, -0.1683919101562523, 0.048279079833982, -0.1340405612792992, -0.0547711520996117, -0.1921727329101585, -0.0732686191406273, -0.3665654331054711, -0.4194142490234398, -0.4933964877929711, -0.8395421176757836, -0.6096608310546898, -0.6492955356445336, -0.5224644809570336, -0.4273411899414086, -0.5303914218750023, -0.6149441867675804, -0.7840535312500023, -0.7338483005371117, -0.7523457675781273, -0.8738934665527367, -0.8289715915527367, -0.6862866550292992, -0.7285649448242211, -0.5462453037109398, -0.5118939548339867, -0.6017338901367211, -0.5541722446289086, -0.6228711276855492, -0.6968571811523461, -0.9558026462402368, -0.8553959995117211, -0.9346654086914086, -0.9663731723632836, -0.8474690585937523, -0.7021405368652367, -0.8448254733886742, -0.834258761962893, -0.770843234619143, -0.6387250095214867, -0.725921359619143, -0.865966525634768, -0.6334416538085961, -0.5647389560546898, -0.4933964877929711, -0.7444188266601586, -0.5885197788085961, -0.4960400729980492, -0.4114873081054711, -0.6281544833984398, -0.4960400729980492, -0.7549893527832054, -0.8289715915527367, -0.4062001376953148, -0.5964467197265648, -0.7602727084960961, -0.6651494174804711, -0.7761265903320336, -0.7312085300292992, -0.8051907687988304, -0.7840535312500023, -0.9214551120605492, -1.0033642917480492, -0.9769436984863304, -0.9980809360351586, -1.1856839328613304, -0.757629123291018, -0.725921359619143, -0.4035603671875023, -0.4352681308593773, -0.5620991855468773, -0.9743001132812524, -0.7734830051269554, -0.7470624118652367, -0.802550998291018, -0.6228711276855492, -0.6228711276855492, 0.4915118076171865, 0.4915118076171865, 0.4492335178222646, 0.539073453124999, 0.9274935581054676, 3.461493954833984, 3.6200213291015615, 4.835410580810546, 5.37434719580078, 6.455043301757812, 8.214793667968749, 9.081420407470702, 8.843383298095702, 10.338679776367186, 11.263415799316403, 12.032470212158202, 12.510829434570311, 12.447356686767575, 12.679637417968747, 12.7849230625, 12.263850674804686, 11.523589596923827, 11.032546506103516, 11.64302395361328, 11.793654904541016, 12.250739560302732, 11.265445218261718, 12.11684750097656, 11.567542538818358, 11.292747006591796, 11.438201413330075, 11.575438962158202, 11.55984066503906, 11.758090481933593, 11.861213193115232, 12.046214566406247, 12.069995389160155, 11.914100156005858, 11.694777951416016, 11.840102658447265, 11.752902493652345, 12.188872800048827, 12.244327054199218, 12.400222287353516, 12.125319943603516, 12.249362454589845, 12.167327389892575, 12.317962155517575, 12.058940396484374, 12.79082439916992, 12.55284832495117, 12.11936901586914, 12.328059659179686, 11.76786755102539, 12.15627621191406, 12.44413708227539, 11.91823910253906, 11.73326824682617, 11.728038296875, 11.963393674072265, 12.079692349609374, 12.245986447509765, 12.18772839086914, 12.404162869628903, 12.353686795410155, 11.89390514868164, 12.406527981933593, 12.23244045751953, 12.499431119140624, 12.26695202368164, 11.7655138828125, 11.942443356689452, 11.799647793945311, 11.73640774267578, 11.239745602783202, 11.41422985571289, 11.284339413818358, 11.61665676611328, 13.376105771240232, 16.050212369140624, 18.573562131103515, 21.272029385742183, 24.297831998046878, 26.926982388671878, 28.866633877929686, 30.079455838378905, 30.520602688964843, 31.17037533300781, 31.85966824072265, 32.25374172705078, 33.44551418798828, 33.24722622412109, 32.89050625341797, 32.08203457373047, 31.228251919921878, 31.30475185888672, 31.37763546484375, 30.899592862304686, 29.77205990332031, 28.35103939550781, 26.40441463964844, 24.31744717138672, 22.60323666113281, 21.528293118652343, 18.35753963964844, 16.864638791259765, 16.204535947021483, 14.698787198242186, 11.797534451660155, 10.637534604248046, 10.006049618896483, 9.060176358398436, 7.77601955908203, 6.824790463623046, 6.169532284912108, 5.60667370336914, 4.998889432128905, 3.70418118017578, 3.286612973388671, 3.18894909399414, 3.3341936923828115, 3.239043698486327, 3.5905032016601552, 3.4637904025878896, 3.204894528564452, 2.8297610141601552, 3.088813290771484, 3.302867398437499, 2.3912310458984365, 2.6792483188476552, 2.737376675781249, 2.689830289062499, 2.1376070834960927, 1.7439226962890615, 1.7571329929199209, 2.452048764404296, 2.016051755126952, 2.7109827854003896, 1.9948153354492175, 1.9393458225097648, 2.1243014194335927, 2.6765627719726552, 2.7136378146972646, 2.164050564941405, 2.245959744628905, 2.6819186069335927, 2.161376462158202, 0.9432749606933584, 1.2788271762695302, 0.4201807834472646, 0.5866465427246084, 0.5179438449707021, 0.687053189453124, 0.8508791782226552, 0.5681490756835927, 0.7029070712890615, 0.877299771484374, 0.6500620700683584, 0.6474184848632802, 0.6421351291503896, 0.4730257846679677, 0.6632723666992177, 0.6130671359863271, 0.3726191379394521, 0.3329844333496083, 0.1215967990722646, -0.0607228420410166, -0.2298321865234385, -0.0924306057128916, -0.1637730739746103, -0.6420331142578135, -0.626179232421876, -0.4914212368164072, -0.562763705078126, -0.3355260036621104, -0.2034077785644541, -0.118855013671876, -0.1426358364257822, -0.2694668911132822, -0.0950741909179697, 0.0026926853027333, 0.0449709750976552, 0.0423273898925771, -0.137348666015626, -0.0950741909179697, -0.3830876491699229, -0.4914212368164072, -0.6499600551757823, -0.6103253505859385, -0.9168362758789071, -1.1282200954589854, -1.165211214843751, -1.3211102626953135, -1.1731381557617198, -1.2761883876953135, -1.305256380859376, -1.4585118435058604, -1.4215169094238291, -1.1097226284179698, -1.0806584499511729, -0.945900454345704, -0.6420331142578135, -0.277393832031251, -0.1849103115234385, 0.0661082126464833, 0.0317568637695302, 0.4175371982421865, 0.2484278537597646, 0.0713915683593739, -0.0580792568359385, 0.0846056796874989, 0.306560025390624, 0.5020899631347646, 0.5787196018066396, 0.4888796665039052, 0.5443682529296865, 0.9988474704589834, 1.2498659946289052, 1.2974276401367175, 0.7689661838378896, 0.8825869418945302, 1.0622629978027334, 1.2736468173828115, 1.495604977783202, 1.4586100437011709, 1.5458063937988271, 1.471824155029296, 1.490317807373046, 1.725486264404296, 1.7413401462402334, 2.129760251220702, 1.7756876804199209, 1.6937785007324209, 2.042563901123046, 1.8496737338867175, 1.9157328464355456, 1.5933680393066396, 1.8153223850097648, 1.5484499790039052, 1.4559702731933584, 1.5299525119628896, 1.366130337890624, 1.4744639255371084, 1.3053545810546865, 1.3819842197265615, 1.432189450439452, 1.408408627685546, 1.0543360568847646, 1.046409115966796, 1.0252718784179675, 0.8297381259765615, 0.877299771484374, 0.7293314792480459, 0.6949801303710927, 0.7980303623046865, 0.9275050021972646, 1.0622629978027334, 0.9697832919921864, 1.4348292209472646, 1.2419390537109365, 1.3714136936035146, 1.2630801059570302, 1.3476328708496084, 1.2340121127929675, 1.4480433322753896, 1.5088152744140615, 1.4216189243164052, 1.4638972141113271, 1.4850344516601552, 1.1864504672851552, 1.1468157626953115, 1.257792935546874, 1.302714810546874, 1.4586100437011709, 1.366130337890624, 1.3291354038085927, 1.3185686923828115, 1.1705965854492175, 1.1864504672851552, 1.1917376376953115, 1.302714810546874, 1.384623990234374, 1.1494593479003896, 1.0860438205566396, 0.9354319431152334, 1.0569796420898427, 1.3582033969726552, 1.3159251071777334, 1.2762904025878896, 1.2128748752441396, 1.4559702731933584, 1.4876780368652334, 1.4674915151367216, 1.4674915151367216, 1.639240630126956, 1.9536784963378933, 4.474453337646487, 5.460007079101565, 7.148323424316409, 8.514126189208987, 8.236023314453128, 8.256416686035159, 9.101494200683597, 9.621338255859378, 10.119396574951177, 11.406151183105472, 11.628113158203128, 11.1637386159668, 11.108539946533206, 11.424934752441407, 9.976692564941407, 9.257942564941407, 9.32350195214844, 9.14085806176758, 8.970077879882815, 8.180282958007815, 8.155975707031253, 6.697555907226565, 5.67793310449219, 5.229195006347659, 5.364082701660159, 5.240116484619144, 5.377601988769534, 5.7975505666503935, 6.212196715332034, 6.010994322753909, 6.233143218017581, 5.5938152150878935, 6.016506560302737, 5.715450652099612, 5.659958250976565, 5.686401732421878, 5.662563689208987, 5.6940044240722685, 5.4851421193847685, 4.964626677490237, 4.6503032521972685, 4.393951781250003, 4.351868041015628, 4.2146648244628935, 3.6225246267089872, 2.451698668457034, 2.8585132436523466, 1.6350940541992216, 0.7236598806152372], \"yaxis\": \"y\"}],\n",
       "                        {\"legend\": {\"tracegroupgap\": 0}, \"margin\": {\"t\": 60}, \"template\": {\"data\": {\"bar\": [{\"error_x\": {\"color\": \"#2a3f5f\"}, \"error_y\": {\"color\": \"#2a3f5f\"}, \"marker\": {\"line\": {\"color\": \"#E5ECF6\", \"width\": 0.5}}, \"type\": \"bar\"}], \"barpolar\": [{\"marker\": {\"line\": {\"color\": \"#E5ECF6\", \"width\": 0.5}}, \"type\": \"barpolar\"}], \"carpet\": [{\"aaxis\": {\"endlinecolor\": \"#2a3f5f\", \"gridcolor\": \"white\", \"linecolor\": \"white\", \"minorgridcolor\": \"white\", \"startlinecolor\": \"#2a3f5f\"}, \"baxis\": {\"endlinecolor\": \"#2a3f5f\", \"gridcolor\": \"white\", \"linecolor\": \"white\", \"minorgridcolor\": \"white\", \"startlinecolor\": \"#2a3f5f\"}, \"type\": \"carpet\"}], \"choropleth\": [{\"colorbar\": {\"outlinewidth\": 0, \"ticks\": \"\"}, \"type\": \"choropleth\"}], \"contour\": [{\"colorbar\": {\"outlinewidth\": 0, \"ticks\": \"\"}, \"colorscale\": [[0.0, \"#0d0887\"], [0.1111111111111111, \"#46039f\"], [0.2222222222222222, \"#7201a8\"], [0.3333333333333333, \"#9c179e\"], [0.4444444444444444, \"#bd3786\"], [0.5555555555555556, \"#d8576b\"], [0.6666666666666666, \"#ed7953\"], [0.7777777777777778, \"#fb9f3a\"], [0.8888888888888888, \"#fdca26\"], [1.0, \"#f0f921\"]], \"type\": \"contour\"}], \"contourcarpet\": [{\"colorbar\": {\"outlinewidth\": 0, \"ticks\": \"\"}, \"type\": \"contourcarpet\"}], \"heatmap\": [{\"colorbar\": {\"outlinewidth\": 0, \"ticks\": \"\"}, \"colorscale\": [[0.0, \"#0d0887\"], [0.1111111111111111, \"#46039f\"], [0.2222222222222222, \"#7201a8\"], [0.3333333333333333, \"#9c179e\"], [0.4444444444444444, \"#bd3786\"], [0.5555555555555556, \"#d8576b\"], [0.6666666666666666, \"#ed7953\"], [0.7777777777777778, \"#fb9f3a\"], [0.8888888888888888, \"#fdca26\"], [1.0, \"#f0f921\"]], \"type\": \"heatmap\"}], \"heatmapgl\": [{\"colorbar\": {\"outlinewidth\": 0, \"ticks\": \"\"}, \"colorscale\": [[0.0, \"#0d0887\"], [0.1111111111111111, \"#46039f\"], [0.2222222222222222, \"#7201a8\"], [0.3333333333333333, \"#9c179e\"], [0.4444444444444444, \"#bd3786\"], [0.5555555555555556, \"#d8576b\"], [0.6666666666666666, \"#ed7953\"], [0.7777777777777778, \"#fb9f3a\"], [0.8888888888888888, \"#fdca26\"], [1.0, \"#f0f921\"]], \"type\": \"heatmapgl\"}], \"histogram\": [{\"marker\": {\"colorbar\": {\"outlinewidth\": 0, \"ticks\": \"\"}}, \"type\": \"histogram\"}], \"histogram2d\": [{\"colorbar\": {\"outlinewidth\": 0, \"ticks\": \"\"}, \"colorscale\": [[0.0, \"#0d0887\"], [0.1111111111111111, \"#46039f\"], [0.2222222222222222, \"#7201a8\"], [0.3333333333333333, \"#9c179e\"], [0.4444444444444444, \"#bd3786\"], [0.5555555555555556, \"#d8576b\"], [0.6666666666666666, \"#ed7953\"], [0.7777777777777778, \"#fb9f3a\"], [0.8888888888888888, \"#fdca26\"], [1.0, \"#f0f921\"]], \"type\": \"histogram2d\"}], \"histogram2dcontour\": [{\"colorbar\": {\"outlinewidth\": 0, \"ticks\": \"\"}, \"colorscale\": [[0.0, \"#0d0887\"], [0.1111111111111111, \"#46039f\"], [0.2222222222222222, \"#7201a8\"], [0.3333333333333333, \"#9c179e\"], [0.4444444444444444, \"#bd3786\"], [0.5555555555555556, \"#d8576b\"], [0.6666666666666666, \"#ed7953\"], [0.7777777777777778, \"#fb9f3a\"], [0.8888888888888888, \"#fdca26\"], [1.0, \"#f0f921\"]], \"type\": \"histogram2dcontour\"}], \"mesh3d\": [{\"colorbar\": {\"outlinewidth\": 0, \"ticks\": \"\"}, \"type\": \"mesh3d\"}], \"parcoords\": [{\"line\": {\"colorbar\": {\"outlinewidth\": 0, \"ticks\": \"\"}}, \"type\": \"parcoords\"}], \"pie\": [{\"automargin\": true, \"type\": \"pie\"}], \"scatter\": [{\"marker\": {\"colorbar\": {\"outlinewidth\": 0, \"ticks\": \"\"}}, \"type\": \"scatter\"}], \"scatter3d\": [{\"line\": {\"colorbar\": {\"outlinewidth\": 0, \"ticks\": \"\"}}, \"marker\": {\"colorbar\": {\"outlinewidth\": 0, \"ticks\": \"\"}}, \"type\": \"scatter3d\"}], \"scattercarpet\": [{\"marker\": {\"colorbar\": {\"outlinewidth\": 0, \"ticks\": \"\"}}, \"type\": \"scattercarpet\"}], \"scattergeo\": [{\"marker\": {\"colorbar\": {\"outlinewidth\": 0, \"ticks\": \"\"}}, \"type\": \"scattergeo\"}], \"scattergl\": [{\"marker\": {\"colorbar\": {\"outlinewidth\": 0, \"ticks\": \"\"}}, \"type\": \"scattergl\"}], \"scattermapbox\": [{\"marker\": {\"colorbar\": {\"outlinewidth\": 0, \"ticks\": \"\"}}, \"type\": \"scattermapbox\"}], \"scatterpolar\": [{\"marker\": {\"colorbar\": {\"outlinewidth\": 0, \"ticks\": \"\"}}, \"type\": \"scatterpolar\"}], \"scatterpolargl\": [{\"marker\": {\"colorbar\": {\"outlinewidth\": 0, \"ticks\": \"\"}}, \"type\": \"scatterpolargl\"}], \"scatterternary\": [{\"marker\": {\"colorbar\": {\"outlinewidth\": 0, \"ticks\": \"\"}}, \"type\": \"scatterternary\"}], \"surface\": [{\"colorbar\": {\"outlinewidth\": 0, \"ticks\": \"\"}, \"colorscale\": [[0.0, \"#0d0887\"], [0.1111111111111111, \"#46039f\"], [0.2222222222222222, \"#7201a8\"], [0.3333333333333333, \"#9c179e\"], [0.4444444444444444, \"#bd3786\"], [0.5555555555555556, \"#d8576b\"], [0.6666666666666666, \"#ed7953\"], [0.7777777777777778, \"#fb9f3a\"], [0.8888888888888888, \"#fdca26\"], [1.0, \"#f0f921\"]], \"type\": \"surface\"}], \"table\": [{\"cells\": {\"fill\": {\"color\": \"#EBF0F8\"}, \"line\": {\"color\": \"white\"}}, \"header\": {\"fill\": {\"color\": \"#C8D4E3\"}, \"line\": {\"color\": \"white\"}}, \"type\": \"table\"}]}, \"layout\": {\"annotationdefaults\": {\"arrowcolor\": \"#2a3f5f\", \"arrowhead\": 0, \"arrowwidth\": 1}, \"coloraxis\": {\"colorbar\": {\"outlinewidth\": 0, \"ticks\": \"\"}}, \"colorscale\": {\"diverging\": [[0, \"#8e0152\"], [0.1, \"#c51b7d\"], [0.2, \"#de77ae\"], [0.3, \"#f1b6da\"], [0.4, \"#fde0ef\"], [0.5, \"#f7f7f7\"], [0.6, \"#e6f5d0\"], [0.7, \"#b8e186\"], [0.8, \"#7fbc41\"], [0.9, \"#4d9221\"], [1, \"#276419\"]], \"sequential\": [[0.0, \"#0d0887\"], [0.1111111111111111, \"#46039f\"], [0.2222222222222222, \"#7201a8\"], [0.3333333333333333, \"#9c179e\"], [0.4444444444444444, \"#bd3786\"], [0.5555555555555556, \"#d8576b\"], [0.6666666666666666, \"#ed7953\"], [0.7777777777777778, \"#fb9f3a\"], [0.8888888888888888, \"#fdca26\"], [1.0, \"#f0f921\"]], \"sequentialminus\": [[0.0, \"#0d0887\"], [0.1111111111111111, \"#46039f\"], [0.2222222222222222, \"#7201a8\"], [0.3333333333333333, \"#9c179e\"], [0.4444444444444444, \"#bd3786\"], [0.5555555555555556, \"#d8576b\"], [0.6666666666666666, \"#ed7953\"], [0.7777777777777778, \"#fb9f3a\"], [0.8888888888888888, \"#fdca26\"], [1.0, \"#f0f921\"]]}, \"colorway\": [\"#636efa\", \"#EF553B\", \"#00cc96\", \"#ab63fa\", \"#FFA15A\", \"#19d3f3\", \"#FF6692\", \"#B6E880\", \"#FF97FF\", \"#FECB52\"], \"font\": {\"color\": \"#2a3f5f\"}, \"geo\": {\"bgcolor\": \"white\", \"lakecolor\": \"white\", \"landcolor\": \"#E5ECF6\", \"showlakes\": true, \"showland\": true, \"subunitcolor\": \"white\"}, \"hoverlabel\": {\"align\": \"left\"}, \"hovermode\": \"closest\", \"mapbox\": {\"style\": \"light\"}, \"paper_bgcolor\": \"white\", \"plot_bgcolor\": \"#E5ECF6\", \"polar\": {\"angularaxis\": {\"gridcolor\": \"white\", \"linecolor\": \"white\", \"ticks\": \"\"}, \"bgcolor\": \"#E5ECF6\", \"radialaxis\": {\"gridcolor\": \"white\", \"linecolor\": \"white\", \"ticks\": \"\"}}, \"scene\": {\"xaxis\": {\"backgroundcolor\": \"#E5ECF6\", \"gridcolor\": \"white\", \"gridwidth\": 2, \"linecolor\": \"white\", \"showbackground\": true, \"ticks\": \"\", \"zerolinecolor\": \"white\"}, \"yaxis\": {\"backgroundcolor\": \"#E5ECF6\", \"gridcolor\": \"white\", \"gridwidth\": 2, \"linecolor\": \"white\", \"showbackground\": true, \"ticks\": \"\", \"zerolinecolor\": \"white\"}, \"zaxis\": {\"backgroundcolor\": \"#E5ECF6\", \"gridcolor\": \"white\", \"gridwidth\": 2, \"linecolor\": \"white\", \"showbackground\": true, \"ticks\": \"\", \"zerolinecolor\": \"white\"}}, \"shapedefaults\": {\"line\": {\"color\": \"#2a3f5f\"}}, \"ternary\": {\"aaxis\": {\"gridcolor\": \"white\", \"linecolor\": \"white\", \"ticks\": \"\"}, \"baxis\": {\"gridcolor\": \"white\", \"linecolor\": \"white\", \"ticks\": \"\"}, \"bgcolor\": \"#E5ECF6\", \"caxis\": {\"gridcolor\": \"white\", \"linecolor\": \"white\", \"ticks\": \"\"}}, \"title\": {\"x\": 0.05}, \"xaxis\": {\"automargin\": true, \"gridcolor\": \"white\", \"linecolor\": \"white\", \"ticks\": \"\", \"title\": {\"standoff\": 15}, \"zerolinecolor\": \"white\", \"zerolinewidth\": 2}, \"yaxis\": {\"automargin\": true, \"gridcolor\": \"white\", \"linecolor\": \"white\", \"ticks\": \"\", \"title\": {\"standoff\": 15}, \"zerolinecolor\": \"white\", \"zerolinewidth\": 2}}}, \"xaxis\": {\"anchor\": \"y\", \"domain\": [0.0, 1.0], \"title\": {\"text\": \"timestamp\"}}, \"yaxis\": {\"anchor\": \"x\", \"domain\": [0.0, 1.0], \"title\": {\"text\": \"relative_height_meters\"}}},\n",
       "                        {\"responsive\": true}\n",
       "                    ).then(function(){\n",
       "                            \n",
       "var gd = document.getElementById('9e83ad84-440d-4522-8cce-adfb82a333ad');\n",
       "var x = new MutationObserver(function (mutations, observer) {{\n",
       "        var display = window.getComputedStyle(gd).display;\n",
       "        if (!display || display === 'none') {{\n",
       "            console.log([gd, 'removed!']);\n",
       "            Plotly.purge(gd);\n",
       "            observer.disconnect();\n",
       "        }}\n",
       "}});\n",
       "\n",
       "// Listen for the removal of the full notebook cells\n",
       "var notebookContainer = gd.closest('#notebook-container');\n",
       "if (notebookContainer) {{\n",
       "    x.observe(notebookContainer, {childList: true});\n",
       "}}\n",
       "\n",
       "// Listen for the clearing of the current output cell\n",
       "var outputEl = gd.closest('.output');\n",
       "if (outputEl) {{\n",
       "    x.observe(outputEl, {childList: true});\n",
       "}}\n",
       "\n",
       "                        })\n",
       "                };\n",
       "                });\n",
       "            </script>\n",
       "        </div>"
      ]
     },
     "metadata": {},
     "output_type": "display_data"
    }
   ],
   "source": [
    "px.line(df_flight, \n",
    "        x=\"timestamp\", \n",
    "        y=\"relative_height_meters\")"
   ]
  },
  {
   "cell_type": "code",
   "execution_count": 7,
   "id": "2465d0e6",
   "metadata": {},
   "outputs": [
    {
     "name": "stdout",
     "output_type": "stream",
     "text": [
      "30.574 :    4782 [L-MIS]finished all actions, no rotation needed. [29.40]\n",
      "70.381 :    6693 [L-MIS]finished all actions, no rotation needed. [67.62]\n",
      "291.162 :   17285 [L-MIS]received mission length 7 from app\n",
      "323.813 :   18852 [L-MIS]finished all actions, no rotation needed. [28.74]\n",
      "363.511 :   20758 [L-MIS]finished all actions, no rotation needed. [66.84]\n"
     ]
    }
   ],
   "source": [
    "# Read event log into a list of strings\n",
    "with open('FLY275.log.txt') as f:\n",
    "    lines = [line.rstrip() for line in f]\n",
    "    \n",
    "# Print lines about the mission\n",
    "for line in lines:\n",
    "    if '[L-MIS]' in line:\n",
    "        if 'received mission' in line:\n",
    "            print(line)\n",
    "        if 'finished all actions' in line:\n",
    "            print(line)"
   ]
  },
  {
   "cell_type": "code",
   "execution_count": 8,
   "id": "d767f1e2",
   "metadata": {},
   "outputs": [
    {
     "name": "stdout",
     "output_type": "stream",
     "text": [
      "500.050 : 50f03<fly-ctrl>calender_setup_time  [2022-6-9]9:43:46. last_type(7),updates(1)\n"
     ]
    }
   ],
   "source": [
    "for line in lines:\n",
    "    if 'calender_setup_time' in line.lower():\n",
    "        print(line)"
   ]
  },
  {
   "cell_type": "code",
   "execution_count": 9,
   "id": "32d3244b",
   "metadata": {},
   "outputs": [
    {
     "name": "stdout",
     "output_type": "stream",
     "text": [
      "96.044 :    7925 [L-RC]Start landing. rc vib!\n",
      "113.274 :    8752 [L-RC]rc cmd:STD_EXIT_GOHOME_OR_LANDING\n",
      "391.950 :   22123 [L-RC]Start landing. rc vib!\n",
      "409.242 :   22953 [L-FLYMODE]rc2wm220 sets force landing!\n",
      "409.242 :   22953 [L-FLYMODE]Recv force landing cmd!(0,0,1)\n",
      "409.242 :   22953 [L-FLYMODE]Req force landing!\n",
      "409.242 :   22953 [L-FLYMODE]reset all force landing cmd\n"
     ]
    }
   ],
   "source": [
    "for line in lines:\n",
    "    if 'landing' in line.lower():\n",
    "        print(line)"
   ]
  },
  {
   "cell_type": "markdown",
   "id": "5c5683fd",
   "metadata": {},
   "source": [
    "# Process audio recording\n",
    "\n",
    "![](audacity.png)"
   ]
  },
  {
   "cell_type": "code",
   "execution_count": 21,
   "id": "bd74d1bd",
   "metadata": {},
   "outputs": [
    {
     "name": "stdout",
     "output_type": "stream",
     "text": [
      "rate=48000, datapoints=10632576, seconds=221\n"
     ]
    },
    {
     "name": "stderr",
     "output_type": "stream",
     "text": [
      "/usr/lib/python3/dist-packages/scipy/io/wavfile.py:272: WavFileWarning:\n",
      "\n",
      "Chunk (non-data) not understood, skipping it.\n",
      "\n"
     ]
    },
    {
     "data": {
      "text/html": [
       "<div>\n",
       "<style scoped>\n",
       "    .dataframe tbody tr th:only-of-type {\n",
       "        vertical-align: middle;\n",
       "    }\n",
       "\n",
       "    .dataframe tbody tr th {\n",
       "        vertical-align: top;\n",
       "    }\n",
       "\n",
       "    .dataframe thead th {\n",
       "        text-align: right;\n",
       "    }\n",
       "</style>\n",
       "<table border=\"1\" class=\"dataframe\">\n",
       "  <thead>\n",
       "    <tr style=\"text-align: right;\">\n",
       "      <th></th>\n",
       "      <th>sec</th>\n",
       "      <th>timestamp</th>\n",
       "      <th>maa</th>\n",
       "    </tr>\n",
       "  </thead>\n",
       "  <tbody>\n",
       "    <tr>\n",
       "      <th>0</th>\n",
       "      <td>1</td>\n",
       "      <td>2022-06-09 09:40:01</td>\n",
       "      <td>0.000375</td>\n",
       "    </tr>\n",
       "    <tr>\n",
       "      <th>1</th>\n",
       "      <td>2</td>\n",
       "      <td>2022-06-09 09:40:02</td>\n",
       "      <td>0.000374</td>\n",
       "    </tr>\n",
       "    <tr>\n",
       "      <th>2</th>\n",
       "      <td>3</td>\n",
       "      <td>2022-06-09 09:40:03</td>\n",
       "      <td>0.000374</td>\n",
       "    </tr>\n",
       "    <tr>\n",
       "      <th>3</th>\n",
       "      <td>4</td>\n",
       "      <td>2022-06-09 09:40:04</td>\n",
       "      <td>0.000297</td>\n",
       "    </tr>\n",
       "    <tr>\n",
       "      <th>4</th>\n",
       "      <td>5</td>\n",
       "      <td>2022-06-09 09:40:05</td>\n",
       "      <td>0.000320</td>\n",
       "    </tr>\n",
       "    <tr>\n",
       "      <th>...</th>\n",
       "      <td>...</td>\n",
       "      <td>...</td>\n",
       "      <td>...</td>\n",
       "    </tr>\n",
       "    <tr>\n",
       "      <th>215</th>\n",
       "      <td>216</td>\n",
       "      <td>2022-06-09 09:43:36</td>\n",
       "      <td>0.000029</td>\n",
       "    </tr>\n",
       "    <tr>\n",
       "      <th>216</th>\n",
       "      <td>217</td>\n",
       "      <td>2022-06-09 09:43:37</td>\n",
       "      <td>0.000030</td>\n",
       "    </tr>\n",
       "    <tr>\n",
       "      <th>217</th>\n",
       "      <td>218</td>\n",
       "      <td>2022-06-09 09:43:38</td>\n",
       "      <td>0.000027</td>\n",
       "    </tr>\n",
       "    <tr>\n",
       "      <th>218</th>\n",
       "      <td>219</td>\n",
       "      <td>2022-06-09 09:43:39</td>\n",
       "      <td>0.000030</td>\n",
       "    </tr>\n",
       "    <tr>\n",
       "      <th>219</th>\n",
       "      <td>220</td>\n",
       "      <td>2022-06-09 09:43:40</td>\n",
       "      <td>0.000028</td>\n",
       "    </tr>\n",
       "  </tbody>\n",
       "</table>\n",
       "<p>220 rows × 3 columns</p>\n",
       "</div>"
      ],
      "text/plain": [
       "     sec           timestamp       maa\n",
       "0      1 2022-06-09 09:40:01  0.000375\n",
       "1      2 2022-06-09 09:40:02  0.000374\n",
       "2      3 2022-06-09 09:40:03  0.000374\n",
       "3      4 2022-06-09 09:40:04  0.000297\n",
       "4      5 2022-06-09 09:40:05  0.000320\n",
       "..   ...                 ...       ...\n",
       "215  216 2022-06-09 09:43:36  0.000029\n",
       "216  217 2022-06-09 09:43:37  0.000030\n",
       "217  218 2022-06-09 09:43:38  0.000027\n",
       "218  219 2022-06-09 09:43:39  0.000030\n",
       "219  220 2022-06-09 09:43:40  0.000028\n",
       "\n",
       "[220 rows x 3 columns]"
      ]
     },
     "execution_count": 21,
     "metadata": {},
     "output_type": "execute_result"
    }
   ],
   "source": [
    "# Read WAV file\n",
    "\n",
    "rate, data = scipy.io.wavfile.read('220609_001.WAV')\n",
    "datapoints = len(data)\n",
    "seconds = int(datapoints/rate)\n",
    "print(f'{rate=}, {datapoints=}, {seconds=}')\n",
    "\n",
    "# Create some timestamps\n",
    "\n",
    "fmt = \"%Y-%m-%dT%H:%M:%S\"\n",
    "begin_audio_record = datetime.datetime.strptime('2022-06-09T09:40:00', fmt)\n",
    "takeoff = datetime.datetime.strptime('2022-06-09T09:40:37', fmt)\n",
    "landing = datetime.datetime.strptime('2022-06-09T09:42:31', fmt)\n",
    "end_audio_record = begin_audio_record + datetime.timedelta(seconds=int(len(data)/48000))\n",
    "\n",
    "mylist = []\n",
    "for sec in range(1, seconds):\n",
    "    mydict = {}\n",
    "    mydict['sec'] = sec\n",
    "    \n",
    "    ts = begin_audio_record + datetime.timedelta(seconds=sec)\n",
    "    mydict['timestamp'] = ts \n",
    "    \n",
    "    i = 48000 * sec\n",
    "    i1 = i - 24000\n",
    "    i2 = i + 24000\n",
    "    maa = np.mean(np.abs(data[i1:i2]))\n",
    "    mydict['maa'] = maa\n",
    "    \n",
    "    mylist.append(mydict)\n",
    "    \n",
    "df_audio = pd.DataFrame(mylist) \n",
    "df_audio"
   ]
  },
  {
   "cell_type": "code",
   "execution_count": 22,
   "id": "268c06f0",
   "metadata": {},
   "outputs": [
    {
     "data": {
      "application/vnd.plotly.v1+json": {
       "config": {
        "plotlyServerURL": "https://plot.ly"
       },
       "data": [
        {
         "alignmentgroup": "True",
         "hoverlabel": {
          "namelength": 0
         },
         "hovertemplate": "timestamp=%{x}<br>maa=%{y}",
         "legendgroup": "",
         "marker": {
          "color": "#636efa"
         },
         "name": "",
         "offsetgroup": "",
         "orientation": "v",
         "showlegend": false,
         "textposition": "auto",
         "type": "bar",
         "x": [
          "2022-06-09T09:40:01",
          "2022-06-09T09:40:02",
          "2022-06-09T09:40:03",
          "2022-06-09T09:40:04",
          "2022-06-09T09:40:05",
          "2022-06-09T09:40:06",
          "2022-06-09T09:40:07",
          "2022-06-09T09:40:08",
          "2022-06-09T09:40:09",
          "2022-06-09T09:40:10",
          "2022-06-09T09:40:11",
          "2022-06-09T09:40:12",
          "2022-06-09T09:40:13",
          "2022-06-09T09:40:14",
          "2022-06-09T09:40:15",
          "2022-06-09T09:40:16",
          "2022-06-09T09:40:17",
          "2022-06-09T09:40:18",
          "2022-06-09T09:40:19",
          "2022-06-09T09:40:20",
          "2022-06-09T09:40:21",
          "2022-06-09T09:40:22",
          "2022-06-09T09:40:23",
          "2022-06-09T09:40:24",
          "2022-06-09T09:40:25",
          "2022-06-09T09:40:26",
          "2022-06-09T09:40:27",
          "2022-06-09T09:40:28",
          "2022-06-09T09:40:29",
          "2022-06-09T09:40:30",
          "2022-06-09T09:40:31",
          "2022-06-09T09:40:32",
          "2022-06-09T09:40:33",
          "2022-06-09T09:40:34",
          "2022-06-09T09:40:35",
          "2022-06-09T09:40:36",
          "2022-06-09T09:40:37",
          "2022-06-09T09:40:38",
          "2022-06-09T09:40:39",
          "2022-06-09T09:40:40",
          "2022-06-09T09:40:41",
          "2022-06-09T09:40:42",
          "2022-06-09T09:40:43",
          "2022-06-09T09:40:44",
          "2022-06-09T09:40:45",
          "2022-06-09T09:40:46",
          "2022-06-09T09:40:47",
          "2022-06-09T09:40:48",
          "2022-06-09T09:40:49",
          "2022-06-09T09:40:50",
          "2022-06-09T09:40:51",
          "2022-06-09T09:40:52",
          "2022-06-09T09:40:53",
          "2022-06-09T09:40:54",
          "2022-06-09T09:40:55",
          "2022-06-09T09:40:56",
          "2022-06-09T09:40:57",
          "2022-06-09T09:40:58",
          "2022-06-09T09:40:59",
          "2022-06-09T09:41:00",
          "2022-06-09T09:41:01",
          "2022-06-09T09:41:02",
          "2022-06-09T09:41:03",
          "2022-06-09T09:41:04",
          "2022-06-09T09:41:05",
          "2022-06-09T09:41:06",
          "2022-06-09T09:41:07",
          "2022-06-09T09:41:08",
          "2022-06-09T09:41:09",
          "2022-06-09T09:41:10",
          "2022-06-09T09:41:11",
          "2022-06-09T09:41:12",
          "2022-06-09T09:41:13",
          "2022-06-09T09:41:14",
          "2022-06-09T09:41:15",
          "2022-06-09T09:41:16",
          "2022-06-09T09:41:17",
          "2022-06-09T09:41:18",
          "2022-06-09T09:41:19",
          "2022-06-09T09:41:20",
          "2022-06-09T09:41:21",
          "2022-06-09T09:41:22",
          "2022-06-09T09:41:23",
          "2022-06-09T09:41:24",
          "2022-06-09T09:41:25",
          "2022-06-09T09:41:26",
          "2022-06-09T09:41:27",
          "2022-06-09T09:41:28",
          "2022-06-09T09:41:29",
          "2022-06-09T09:41:30",
          "2022-06-09T09:41:31",
          "2022-06-09T09:41:32",
          "2022-06-09T09:41:33",
          "2022-06-09T09:41:34",
          "2022-06-09T09:41:35",
          "2022-06-09T09:41:36",
          "2022-06-09T09:41:37",
          "2022-06-09T09:41:38",
          "2022-06-09T09:41:39",
          "2022-06-09T09:41:40",
          "2022-06-09T09:41:41",
          "2022-06-09T09:41:42",
          "2022-06-09T09:41:43",
          "2022-06-09T09:41:44",
          "2022-06-09T09:41:45",
          "2022-06-09T09:41:46",
          "2022-06-09T09:41:47",
          "2022-06-09T09:41:48",
          "2022-06-09T09:41:49",
          "2022-06-09T09:41:50",
          "2022-06-09T09:41:51",
          "2022-06-09T09:41:52",
          "2022-06-09T09:41:53",
          "2022-06-09T09:41:54",
          "2022-06-09T09:41:55",
          "2022-06-09T09:41:56",
          "2022-06-09T09:41:57",
          "2022-06-09T09:41:58",
          "2022-06-09T09:41:59",
          "2022-06-09T09:42:00",
          "2022-06-09T09:42:01",
          "2022-06-09T09:42:02",
          "2022-06-09T09:42:03",
          "2022-06-09T09:42:04",
          "2022-06-09T09:42:05",
          "2022-06-09T09:42:06",
          "2022-06-09T09:42:07",
          "2022-06-09T09:42:08",
          "2022-06-09T09:42:09",
          "2022-06-09T09:42:10",
          "2022-06-09T09:42:11",
          "2022-06-09T09:42:12",
          "2022-06-09T09:42:13",
          "2022-06-09T09:42:14",
          "2022-06-09T09:42:15",
          "2022-06-09T09:42:16",
          "2022-06-09T09:42:17",
          "2022-06-09T09:42:18",
          "2022-06-09T09:42:19",
          "2022-06-09T09:42:20",
          "2022-06-09T09:42:21",
          "2022-06-09T09:42:22",
          "2022-06-09T09:42:23",
          "2022-06-09T09:42:24",
          "2022-06-09T09:42:25",
          "2022-06-09T09:42:26",
          "2022-06-09T09:42:27",
          "2022-06-09T09:42:28",
          "2022-06-09T09:42:29",
          "2022-06-09T09:42:30",
          "2022-06-09T09:42:31",
          "2022-06-09T09:42:32",
          "2022-06-09T09:42:33",
          "2022-06-09T09:42:34",
          "2022-06-09T09:42:35",
          "2022-06-09T09:42:36",
          "2022-06-09T09:42:37",
          "2022-06-09T09:42:38",
          "2022-06-09T09:42:39",
          "2022-06-09T09:42:40",
          "2022-06-09T09:42:41",
          "2022-06-09T09:42:42",
          "2022-06-09T09:42:43",
          "2022-06-09T09:42:44",
          "2022-06-09T09:42:45",
          "2022-06-09T09:42:46",
          "2022-06-09T09:42:47",
          "2022-06-09T09:42:48",
          "2022-06-09T09:42:49",
          "2022-06-09T09:42:50",
          "2022-06-09T09:42:51",
          "2022-06-09T09:42:52",
          "2022-06-09T09:42:53",
          "2022-06-09T09:42:54",
          "2022-06-09T09:42:55",
          "2022-06-09T09:42:56",
          "2022-06-09T09:42:57",
          "2022-06-09T09:42:58",
          "2022-06-09T09:42:59",
          "2022-06-09T09:43:00",
          "2022-06-09T09:43:01",
          "2022-06-09T09:43:02",
          "2022-06-09T09:43:03",
          "2022-06-09T09:43:04",
          "2022-06-09T09:43:05",
          "2022-06-09T09:43:06",
          "2022-06-09T09:43:07",
          "2022-06-09T09:43:08",
          "2022-06-09T09:43:09",
          "2022-06-09T09:43:10",
          "2022-06-09T09:43:11",
          "2022-06-09T09:43:12",
          "2022-06-09T09:43:13",
          "2022-06-09T09:43:14",
          "2022-06-09T09:43:15",
          "2022-06-09T09:43:16",
          "2022-06-09T09:43:17",
          "2022-06-09T09:43:18",
          "2022-06-09T09:43:19",
          "2022-06-09T09:43:20",
          "2022-06-09T09:43:21",
          "2022-06-09T09:43:22",
          "2022-06-09T09:43:23",
          "2022-06-09T09:43:24",
          "2022-06-09T09:43:25",
          "2022-06-09T09:43:26",
          "2022-06-09T09:43:27",
          "2022-06-09T09:43:28",
          "2022-06-09T09:43:29",
          "2022-06-09T09:43:30",
          "2022-06-09T09:43:31",
          "2022-06-09T09:43:32",
          "2022-06-09T09:43:33",
          "2022-06-09T09:43:34",
          "2022-06-09T09:43:35",
          "2022-06-09T09:43:36",
          "2022-06-09T09:43:37",
          "2022-06-09T09:43:38",
          "2022-06-09T09:43:39",
          "2022-06-09T09:43:40"
         ],
         "xaxis": "x",
         "y": [
          0.0003750819305423647,
          0.00037405072362162173,
          0.0003741749096661806,
          0.0002965522580780089,
          0.0003201072395313531,
          0.00032957555959001184,
          0.0003239669313188642,
          0.0003205573302693665,
          0.0003217622870579362,
          0.0003237406490370631,
          0.0003249125147704035,
          0.0003276705974712968,
          0.0003312226617708802,
          0.0003292725305072963,
          0.0003251321613788605,
          0.00032518961234018207,
          0.00032006882247515023,
          0.00032162657589651644,
          0.0003243376559112221,
          0.00032384623773396015,
          0.00032101775286719203,
          0.00032339306198991835,
          0.00032322591869160533,
          0.0003226804838050157,
          0.00032174435909837484,
          0.000324043445289135,
          0.0003201059007551521,
          0.00031738862162455916,
          0.00031742476858198643,
          0.00031535085872747004,
          0.0003101570182479918,
          0.0002996909897774458,
          0.0003095375723205507,
          0.00030919519485905766,
          0.0002947557077277452,
          0.00012015489483019337,
          6.483386096078902e-05,
          5.156702900421806e-05,
          5.238042285782285e-05,
          5.086257078801282e-05,
          5.047559170634486e-05,
          5.070658880867995e-05,
          5.141536894370802e-05,
          4.773581531480886e-05,
          4.931260264129378e-05,
          4.854822691413574e-05,
          4.877354149357416e-05,
          5.028157829656266e-05,
          4.766453639604151e-05,
          4.7460860514547676e-05,
          4.8008805606514215e-05,
          6.949018279556185e-05,
          4.81584356748499e-05,
          4.3508603994268924e-05,
          4.599007297656499e-05,
          4.580993117997423e-05,
          4.304834146751091e-05,
          4.471362626645714e-05,
          4.296788029023446e-05,
          4.4340838940115646e-05,
          4.3359945266274735e-05,
          4.479061681195162e-05,
          4.512088344199583e-05,
          4.469765553949401e-05,
          4.3732052290579304e-05,
          4.365378481452353e-05,
          4.5115422835806385e-05,
          4.423123027663678e-05,
          4.489532147999853e-05,
          4.45404730271548e-05,
          4.300297223380767e-05,
          4.331717354943976e-05,
          4.34091743954923e-05,
          4.44343349954579e-05,
          4.309062205720693e-05,
          4.246551179676317e-05,
          4.264687959221192e-05,
          4.190376785118133e-05,
          4.2689502151915804e-05,
          4.2767242121044546e-05,
          4.453916335478425e-05,
          4.199654722469859e-05,
          4.279118365957402e-05,
          4.182255361229181e-05,
          4.2371120798634365e-05,
          4.088843343197368e-05,
          4.058381819049828e-05,
          4.194180291960947e-05,
          4.290822471375577e-05,
          4.369445741758682e-05,
          4.126809290028177e-05,
          4.117540447623469e-05,
          4.336268830229528e-05,
          4.1063904063776135e-05,
          4.048834671266377e-05,
          4.189550963928923e-05,
          4.0728486055741087e-05,
          4.000426997663453e-05,
          4.250317215337418e-05,
          4.046975664095953e-05,
          4.0563532820669934e-05,
          4.120847734156996e-05,
          3.954611747758463e-05,
          4.066038673045114e-05,
          4.0476868889527395e-05,
          4.111291127628647e-05,
          4.1284525650553405e-05,
          4.064792665303685e-05,
          4.098692079423927e-05,
          4.0369592170463875e-05,
          4.066055407747626e-05,
          4.211803388898261e-05,
          4.145642014918849e-05,
          4.131394962314516e-05,
          4.2187049984931946e-05,
          4.167808219790459e-05,
          4.2683182982727885e-05,
          4.1104322008322924e-05,
          4.198694659862667e-05,
          4.284115129848942e-05,
          4.169974272372201e-05,
          4.077102857991122e-05,
          4.058214835822582e-05,
          4.068712951266207e-05,
          4.004496440757066e-05,
          4.0592502045910805e-05,
          4.090472430107184e-05,
          4.1583178244763985e-05,
          4.0514598367735744e-05,
          4.006745803053491e-05,
          4.115038609597832e-05,
          4.114879993721843e-05,
          4.0814149542711675e-05,
          4.156247086939402e-05,
          4.123431790503673e-05,
          3.990713958046399e-05,
          4.0445898775942624e-05,
          4.140063174418174e-05,
          4.071913645020686e-05,
          4.140526652918197e-05,
          4.2010800825664774e-05,
          4.146924402448349e-05,
          4.152159453951754e-05,
          0.0001069249992724508,
          0.00013701047282665968,
          4.00694043491967e-05,
          4.164439451415092e-05,
          4.005554728792049e-05,
          4.186509977444075e-05,
          4.108741268282756e-05,
          4.069603528478183e-05,
          4.26859078288544e-05,
          4.243826697347686e-05,
          4.056680700159632e-05,
          4.185406942269765e-05,
          4.3985797674395144e-05,
          4.25232901761774e-05,
          0.00021153259149286896,
          0.00036952929804101586,
          0.00019180786330252886,
          5.131579382577911e-05,
          4.764214827446267e-05,
          4.8191726818913594e-05,
          4.6227723942138255e-05,
          0.00015254889149218798,
          9.038698772201315e-05,
          4.0874117985367775e-05,
          4.087148408871144e-05,
          4.094870018889196e-05,
          3.99952768930234e-05,
          4.252920189173892e-05,
          4.4871823774883524e-05,
          4.72968713438604e-05,
          4.8714588047005236e-05,
          5.302339923218824e-05,
          5.316854367265478e-05,
          4.846373849431984e-05,
          5.0959744839929044e-05,
          4.923183223581873e-05,
          5.287658132147044e-05,
          5.273797069094144e-05,
          5.1472801715135574e-05,
          4.904589513898827e-05,
          4.82317445857916e-05,
          4.709994391305372e-05,
          4.614641875377856e-05,
          4.448837717063725e-05,
          4.7034642193466425e-05,
          4.5008193410467356e-05,
          4.7235713282134384e-05,
          4.908724076813087e-05,
          4.66012024844531e-05,
          4.920851279166527e-05,
          4.769435690832324e-05,
          4.889585034106858e-05,
          4.928697308059782e-05,
          4.794484266312793e-05,
          4.486893521971069e-05,
          4.6117955207591876e-05,
          4.603093839250505e-05,
          4.458198600332253e-05,
          5.0990493036806583e-05,
          7.015508163021877e-05,
          5.104178126202896e-05,
          5.0133538024965674e-05,
          6.585816299775615e-05,
          4.202326454105787e-05,
          4.388667002785951e-05,
          4.42212367488537e-05,
          4.3103209463879466e-05,
          4.291349250706844e-05,
          4.305789479985833e-05,
          4.26225560659077e-05,
          3.5840443160850555e-05,
          2.8032123736920767e-05,
          2.9291453756741248e-05,
          3.0499066269840114e-05,
          2.73714613285847e-05,
          3.0397031878237613e-05,
          2.77848284895299e-05
         ],
         "yaxis": "y"
        }
       ],
       "layout": {
        "barmode": "relative",
        "legend": {
         "tracegroupgap": 0
        },
        "margin": {
         "t": 60
        },
        "template": {
         "data": {
          "bar": [
           {
            "error_x": {
             "color": "#2a3f5f"
            },
            "error_y": {
             "color": "#2a3f5f"
            },
            "marker": {
             "line": {
              "color": "#E5ECF6",
              "width": 0.5
             }
            },
            "type": "bar"
           }
          ],
          "barpolar": [
           {
            "marker": {
             "line": {
              "color": "#E5ECF6",
              "width": 0.5
             }
            },
            "type": "barpolar"
           }
          ],
          "carpet": [
           {
            "aaxis": {
             "endlinecolor": "#2a3f5f",
             "gridcolor": "white",
             "linecolor": "white",
             "minorgridcolor": "white",
             "startlinecolor": "#2a3f5f"
            },
            "baxis": {
             "endlinecolor": "#2a3f5f",
             "gridcolor": "white",
             "linecolor": "white",
             "minorgridcolor": "white",
             "startlinecolor": "#2a3f5f"
            },
            "type": "carpet"
           }
          ],
          "choropleth": [
           {
            "colorbar": {
             "outlinewidth": 0,
             "ticks": ""
            },
            "type": "choropleth"
           }
          ],
          "contour": [
           {
            "colorbar": {
             "outlinewidth": 0,
             "ticks": ""
            },
            "colorscale": [
             [
              0,
              "#0d0887"
             ],
             [
              0.1111111111111111,
              "#46039f"
             ],
             [
              0.2222222222222222,
              "#7201a8"
             ],
             [
              0.3333333333333333,
              "#9c179e"
             ],
             [
              0.4444444444444444,
              "#bd3786"
             ],
             [
              0.5555555555555556,
              "#d8576b"
             ],
             [
              0.6666666666666666,
              "#ed7953"
             ],
             [
              0.7777777777777778,
              "#fb9f3a"
             ],
             [
              0.8888888888888888,
              "#fdca26"
             ],
             [
              1,
              "#f0f921"
             ]
            ],
            "type": "contour"
           }
          ],
          "contourcarpet": [
           {
            "colorbar": {
             "outlinewidth": 0,
             "ticks": ""
            },
            "type": "contourcarpet"
           }
          ],
          "heatmap": [
           {
            "colorbar": {
             "outlinewidth": 0,
             "ticks": ""
            },
            "colorscale": [
             [
              0,
              "#0d0887"
             ],
             [
              0.1111111111111111,
              "#46039f"
             ],
             [
              0.2222222222222222,
              "#7201a8"
             ],
             [
              0.3333333333333333,
              "#9c179e"
             ],
             [
              0.4444444444444444,
              "#bd3786"
             ],
             [
              0.5555555555555556,
              "#d8576b"
             ],
             [
              0.6666666666666666,
              "#ed7953"
             ],
             [
              0.7777777777777778,
              "#fb9f3a"
             ],
             [
              0.8888888888888888,
              "#fdca26"
             ],
             [
              1,
              "#f0f921"
             ]
            ],
            "type": "heatmap"
           }
          ],
          "heatmapgl": [
           {
            "colorbar": {
             "outlinewidth": 0,
             "ticks": ""
            },
            "colorscale": [
             [
              0,
              "#0d0887"
             ],
             [
              0.1111111111111111,
              "#46039f"
             ],
             [
              0.2222222222222222,
              "#7201a8"
             ],
             [
              0.3333333333333333,
              "#9c179e"
             ],
             [
              0.4444444444444444,
              "#bd3786"
             ],
             [
              0.5555555555555556,
              "#d8576b"
             ],
             [
              0.6666666666666666,
              "#ed7953"
             ],
             [
              0.7777777777777778,
              "#fb9f3a"
             ],
             [
              0.8888888888888888,
              "#fdca26"
             ],
             [
              1,
              "#f0f921"
             ]
            ],
            "type": "heatmapgl"
           }
          ],
          "histogram": [
           {
            "marker": {
             "colorbar": {
              "outlinewidth": 0,
              "ticks": ""
             }
            },
            "type": "histogram"
           }
          ],
          "histogram2d": [
           {
            "colorbar": {
             "outlinewidth": 0,
             "ticks": ""
            },
            "colorscale": [
             [
              0,
              "#0d0887"
             ],
             [
              0.1111111111111111,
              "#46039f"
             ],
             [
              0.2222222222222222,
              "#7201a8"
             ],
             [
              0.3333333333333333,
              "#9c179e"
             ],
             [
              0.4444444444444444,
              "#bd3786"
             ],
             [
              0.5555555555555556,
              "#d8576b"
             ],
             [
              0.6666666666666666,
              "#ed7953"
             ],
             [
              0.7777777777777778,
              "#fb9f3a"
             ],
             [
              0.8888888888888888,
              "#fdca26"
             ],
             [
              1,
              "#f0f921"
             ]
            ],
            "type": "histogram2d"
           }
          ],
          "histogram2dcontour": [
           {
            "colorbar": {
             "outlinewidth": 0,
             "ticks": ""
            },
            "colorscale": [
             [
              0,
              "#0d0887"
             ],
             [
              0.1111111111111111,
              "#46039f"
             ],
             [
              0.2222222222222222,
              "#7201a8"
             ],
             [
              0.3333333333333333,
              "#9c179e"
             ],
             [
              0.4444444444444444,
              "#bd3786"
             ],
             [
              0.5555555555555556,
              "#d8576b"
             ],
             [
              0.6666666666666666,
              "#ed7953"
             ],
             [
              0.7777777777777778,
              "#fb9f3a"
             ],
             [
              0.8888888888888888,
              "#fdca26"
             ],
             [
              1,
              "#f0f921"
             ]
            ],
            "type": "histogram2dcontour"
           }
          ],
          "mesh3d": [
           {
            "colorbar": {
             "outlinewidth": 0,
             "ticks": ""
            },
            "type": "mesh3d"
           }
          ],
          "parcoords": [
           {
            "line": {
             "colorbar": {
              "outlinewidth": 0,
              "ticks": ""
             }
            },
            "type": "parcoords"
           }
          ],
          "pie": [
           {
            "automargin": true,
            "type": "pie"
           }
          ],
          "scatter": [
           {
            "marker": {
             "colorbar": {
              "outlinewidth": 0,
              "ticks": ""
             }
            },
            "type": "scatter"
           }
          ],
          "scatter3d": [
           {
            "line": {
             "colorbar": {
              "outlinewidth": 0,
              "ticks": ""
             }
            },
            "marker": {
             "colorbar": {
              "outlinewidth": 0,
              "ticks": ""
             }
            },
            "type": "scatter3d"
           }
          ],
          "scattercarpet": [
           {
            "marker": {
             "colorbar": {
              "outlinewidth": 0,
              "ticks": ""
             }
            },
            "type": "scattercarpet"
           }
          ],
          "scattergeo": [
           {
            "marker": {
             "colorbar": {
              "outlinewidth": 0,
              "ticks": ""
             }
            },
            "type": "scattergeo"
           }
          ],
          "scattergl": [
           {
            "marker": {
             "colorbar": {
              "outlinewidth": 0,
              "ticks": ""
             }
            },
            "type": "scattergl"
           }
          ],
          "scattermapbox": [
           {
            "marker": {
             "colorbar": {
              "outlinewidth": 0,
              "ticks": ""
             }
            },
            "type": "scattermapbox"
           }
          ],
          "scatterpolar": [
           {
            "marker": {
             "colorbar": {
              "outlinewidth": 0,
              "ticks": ""
             }
            },
            "type": "scatterpolar"
           }
          ],
          "scatterpolargl": [
           {
            "marker": {
             "colorbar": {
              "outlinewidth": 0,
              "ticks": ""
             }
            },
            "type": "scatterpolargl"
           }
          ],
          "scatterternary": [
           {
            "marker": {
             "colorbar": {
              "outlinewidth": 0,
              "ticks": ""
             }
            },
            "type": "scatterternary"
           }
          ],
          "surface": [
           {
            "colorbar": {
             "outlinewidth": 0,
             "ticks": ""
            },
            "colorscale": [
             [
              0,
              "#0d0887"
             ],
             [
              0.1111111111111111,
              "#46039f"
             ],
             [
              0.2222222222222222,
              "#7201a8"
             ],
             [
              0.3333333333333333,
              "#9c179e"
             ],
             [
              0.4444444444444444,
              "#bd3786"
             ],
             [
              0.5555555555555556,
              "#d8576b"
             ],
             [
              0.6666666666666666,
              "#ed7953"
             ],
             [
              0.7777777777777778,
              "#fb9f3a"
             ],
             [
              0.8888888888888888,
              "#fdca26"
             ],
             [
              1,
              "#f0f921"
             ]
            ],
            "type": "surface"
           }
          ],
          "table": [
           {
            "cells": {
             "fill": {
              "color": "#EBF0F8"
             },
             "line": {
              "color": "white"
             }
            },
            "header": {
             "fill": {
              "color": "#C8D4E3"
             },
             "line": {
              "color": "white"
             }
            },
            "type": "table"
           }
          ]
         },
         "layout": {
          "annotationdefaults": {
           "arrowcolor": "#2a3f5f",
           "arrowhead": 0,
           "arrowwidth": 1
          },
          "coloraxis": {
           "colorbar": {
            "outlinewidth": 0,
            "ticks": ""
           }
          },
          "colorscale": {
           "diverging": [
            [
             0,
             "#8e0152"
            ],
            [
             0.1,
             "#c51b7d"
            ],
            [
             0.2,
             "#de77ae"
            ],
            [
             0.3,
             "#f1b6da"
            ],
            [
             0.4,
             "#fde0ef"
            ],
            [
             0.5,
             "#f7f7f7"
            ],
            [
             0.6,
             "#e6f5d0"
            ],
            [
             0.7,
             "#b8e186"
            ],
            [
             0.8,
             "#7fbc41"
            ],
            [
             0.9,
             "#4d9221"
            ],
            [
             1,
             "#276419"
            ]
           ],
           "sequential": [
            [
             0,
             "#0d0887"
            ],
            [
             0.1111111111111111,
             "#46039f"
            ],
            [
             0.2222222222222222,
             "#7201a8"
            ],
            [
             0.3333333333333333,
             "#9c179e"
            ],
            [
             0.4444444444444444,
             "#bd3786"
            ],
            [
             0.5555555555555556,
             "#d8576b"
            ],
            [
             0.6666666666666666,
             "#ed7953"
            ],
            [
             0.7777777777777778,
             "#fb9f3a"
            ],
            [
             0.8888888888888888,
             "#fdca26"
            ],
            [
             1,
             "#f0f921"
            ]
           ],
           "sequentialminus": [
            [
             0,
             "#0d0887"
            ],
            [
             0.1111111111111111,
             "#46039f"
            ],
            [
             0.2222222222222222,
             "#7201a8"
            ],
            [
             0.3333333333333333,
             "#9c179e"
            ],
            [
             0.4444444444444444,
             "#bd3786"
            ],
            [
             0.5555555555555556,
             "#d8576b"
            ],
            [
             0.6666666666666666,
             "#ed7953"
            ],
            [
             0.7777777777777778,
             "#fb9f3a"
            ],
            [
             0.8888888888888888,
             "#fdca26"
            ],
            [
             1,
             "#f0f921"
            ]
           ]
          },
          "colorway": [
           "#636efa",
           "#EF553B",
           "#00cc96",
           "#ab63fa",
           "#FFA15A",
           "#19d3f3",
           "#FF6692",
           "#B6E880",
           "#FF97FF",
           "#FECB52"
          ],
          "font": {
           "color": "#2a3f5f"
          },
          "geo": {
           "bgcolor": "white",
           "lakecolor": "white",
           "landcolor": "#E5ECF6",
           "showlakes": true,
           "showland": true,
           "subunitcolor": "white"
          },
          "hoverlabel": {
           "align": "left"
          },
          "hovermode": "closest",
          "mapbox": {
           "style": "light"
          },
          "paper_bgcolor": "white",
          "plot_bgcolor": "#E5ECF6",
          "polar": {
           "angularaxis": {
            "gridcolor": "white",
            "linecolor": "white",
            "ticks": ""
           },
           "bgcolor": "#E5ECF6",
           "radialaxis": {
            "gridcolor": "white",
            "linecolor": "white",
            "ticks": ""
           }
          },
          "scene": {
           "xaxis": {
            "backgroundcolor": "#E5ECF6",
            "gridcolor": "white",
            "gridwidth": 2,
            "linecolor": "white",
            "showbackground": true,
            "ticks": "",
            "zerolinecolor": "white"
           },
           "yaxis": {
            "backgroundcolor": "#E5ECF6",
            "gridcolor": "white",
            "gridwidth": 2,
            "linecolor": "white",
            "showbackground": true,
            "ticks": "",
            "zerolinecolor": "white"
           },
           "zaxis": {
            "backgroundcolor": "#E5ECF6",
            "gridcolor": "white",
            "gridwidth": 2,
            "linecolor": "white",
            "showbackground": true,
            "ticks": "",
            "zerolinecolor": "white"
           }
          },
          "shapedefaults": {
           "line": {
            "color": "#2a3f5f"
           }
          },
          "ternary": {
           "aaxis": {
            "gridcolor": "white",
            "linecolor": "white",
            "ticks": ""
           },
           "baxis": {
            "gridcolor": "white",
            "linecolor": "white",
            "ticks": ""
           },
           "bgcolor": "#E5ECF6",
           "caxis": {
            "gridcolor": "white",
            "linecolor": "white",
            "ticks": ""
           }
          },
          "title": {
           "x": 0.05
          },
          "xaxis": {
           "automargin": true,
           "gridcolor": "white",
           "linecolor": "white",
           "ticks": "",
           "title": {
            "standoff": 15
           },
           "zerolinecolor": "white",
           "zerolinewidth": 2
          },
          "yaxis": {
           "automargin": true,
           "gridcolor": "white",
           "linecolor": "white",
           "ticks": "",
           "title": {
            "standoff": 15
           },
           "zerolinecolor": "white",
           "zerolinewidth": 2
          }
         }
        },
        "xaxis": {
         "anchor": "y",
         "domain": [
          0,
          1
         ],
         "title": {
          "text": "timestamp"
         }
        },
        "yaxis": {
         "anchor": "x",
         "domain": [
          0,
          1
         ],
         "title": {
          "text": "maa"
         }
        }
       }
      },
      "text/html": [
       "<div>\n",
       "        \n",
       "        \n",
       "            <div id=\"c2a1f8ef-cab2-4712-9373-1ee86ca950f9\" class=\"plotly-graph-div\" style=\"height:525px; width:100%;\"></div>\n",
       "            <script type=\"text/javascript\">\n",
       "                require([\"plotly\"], function(Plotly) {\n",
       "                    window.PLOTLYENV=window.PLOTLYENV || {};\n",
       "                    \n",
       "                if (document.getElementById(\"c2a1f8ef-cab2-4712-9373-1ee86ca950f9\")) {\n",
       "                    Plotly.newPlot(\n",
       "                        'c2a1f8ef-cab2-4712-9373-1ee86ca950f9',\n",
       "                        [{\"alignmentgroup\": \"True\", \"hoverlabel\": {\"namelength\": 0}, \"hovertemplate\": \"timestamp=%{x}<br>maa=%{y}\", \"legendgroup\": \"\", \"marker\": {\"color\": \"#636efa\"}, \"name\": \"\", \"offsetgroup\": \"\", \"orientation\": \"v\", \"showlegend\": false, \"textposition\": \"auto\", \"type\": \"bar\", \"x\": [\"2022-06-09T09:40:01\", \"2022-06-09T09:40:02\", \"2022-06-09T09:40:03\", \"2022-06-09T09:40:04\", \"2022-06-09T09:40:05\", \"2022-06-09T09:40:06\", \"2022-06-09T09:40:07\", \"2022-06-09T09:40:08\", \"2022-06-09T09:40:09\", \"2022-06-09T09:40:10\", \"2022-06-09T09:40:11\", \"2022-06-09T09:40:12\", \"2022-06-09T09:40:13\", \"2022-06-09T09:40:14\", \"2022-06-09T09:40:15\", \"2022-06-09T09:40:16\", \"2022-06-09T09:40:17\", \"2022-06-09T09:40:18\", \"2022-06-09T09:40:19\", \"2022-06-09T09:40:20\", \"2022-06-09T09:40:21\", \"2022-06-09T09:40:22\", \"2022-06-09T09:40:23\", \"2022-06-09T09:40:24\", \"2022-06-09T09:40:25\", \"2022-06-09T09:40:26\", \"2022-06-09T09:40:27\", \"2022-06-09T09:40:28\", \"2022-06-09T09:40:29\", \"2022-06-09T09:40:30\", \"2022-06-09T09:40:31\", \"2022-06-09T09:40:32\", \"2022-06-09T09:40:33\", \"2022-06-09T09:40:34\", \"2022-06-09T09:40:35\", \"2022-06-09T09:40:36\", \"2022-06-09T09:40:37\", \"2022-06-09T09:40:38\", \"2022-06-09T09:40:39\", \"2022-06-09T09:40:40\", \"2022-06-09T09:40:41\", \"2022-06-09T09:40:42\", \"2022-06-09T09:40:43\", \"2022-06-09T09:40:44\", \"2022-06-09T09:40:45\", \"2022-06-09T09:40:46\", \"2022-06-09T09:40:47\", \"2022-06-09T09:40:48\", \"2022-06-09T09:40:49\", \"2022-06-09T09:40:50\", \"2022-06-09T09:40:51\", \"2022-06-09T09:40:52\", \"2022-06-09T09:40:53\", \"2022-06-09T09:40:54\", \"2022-06-09T09:40:55\", \"2022-06-09T09:40:56\", \"2022-06-09T09:40:57\", \"2022-06-09T09:40:58\", \"2022-06-09T09:40:59\", \"2022-06-09T09:41:00\", \"2022-06-09T09:41:01\", \"2022-06-09T09:41:02\", \"2022-06-09T09:41:03\", \"2022-06-09T09:41:04\", \"2022-06-09T09:41:05\", \"2022-06-09T09:41:06\", \"2022-06-09T09:41:07\", \"2022-06-09T09:41:08\", \"2022-06-09T09:41:09\", \"2022-06-09T09:41:10\", \"2022-06-09T09:41:11\", \"2022-06-09T09:41:12\", \"2022-06-09T09:41:13\", \"2022-06-09T09:41:14\", \"2022-06-09T09:41:15\", \"2022-06-09T09:41:16\", \"2022-06-09T09:41:17\", \"2022-06-09T09:41:18\", \"2022-06-09T09:41:19\", \"2022-06-09T09:41:20\", \"2022-06-09T09:41:21\", \"2022-06-09T09:41:22\", \"2022-06-09T09:41:23\", \"2022-06-09T09:41:24\", \"2022-06-09T09:41:25\", \"2022-06-09T09:41:26\", \"2022-06-09T09:41:27\", \"2022-06-09T09:41:28\", \"2022-06-09T09:41:29\", \"2022-06-09T09:41:30\", \"2022-06-09T09:41:31\", \"2022-06-09T09:41:32\", \"2022-06-09T09:41:33\", \"2022-06-09T09:41:34\", \"2022-06-09T09:41:35\", \"2022-06-09T09:41:36\", \"2022-06-09T09:41:37\", \"2022-06-09T09:41:38\", \"2022-06-09T09:41:39\", \"2022-06-09T09:41:40\", \"2022-06-09T09:41:41\", \"2022-06-09T09:41:42\", \"2022-06-09T09:41:43\", \"2022-06-09T09:41:44\", \"2022-06-09T09:41:45\", \"2022-06-09T09:41:46\", \"2022-06-09T09:41:47\", \"2022-06-09T09:41:48\", \"2022-06-09T09:41:49\", \"2022-06-09T09:41:50\", \"2022-06-09T09:41:51\", \"2022-06-09T09:41:52\", \"2022-06-09T09:41:53\", \"2022-06-09T09:41:54\", \"2022-06-09T09:41:55\", \"2022-06-09T09:41:56\", \"2022-06-09T09:41:57\", \"2022-06-09T09:41:58\", \"2022-06-09T09:41:59\", \"2022-06-09T09:42:00\", \"2022-06-09T09:42:01\", \"2022-06-09T09:42:02\", \"2022-06-09T09:42:03\", \"2022-06-09T09:42:04\", \"2022-06-09T09:42:05\", \"2022-06-09T09:42:06\", \"2022-06-09T09:42:07\", \"2022-06-09T09:42:08\", \"2022-06-09T09:42:09\", \"2022-06-09T09:42:10\", \"2022-06-09T09:42:11\", \"2022-06-09T09:42:12\", \"2022-06-09T09:42:13\", \"2022-06-09T09:42:14\", \"2022-06-09T09:42:15\", \"2022-06-09T09:42:16\", \"2022-06-09T09:42:17\", \"2022-06-09T09:42:18\", \"2022-06-09T09:42:19\", \"2022-06-09T09:42:20\", \"2022-06-09T09:42:21\", \"2022-06-09T09:42:22\", \"2022-06-09T09:42:23\", \"2022-06-09T09:42:24\", \"2022-06-09T09:42:25\", \"2022-06-09T09:42:26\", \"2022-06-09T09:42:27\", \"2022-06-09T09:42:28\", \"2022-06-09T09:42:29\", \"2022-06-09T09:42:30\", \"2022-06-09T09:42:31\", \"2022-06-09T09:42:32\", \"2022-06-09T09:42:33\", \"2022-06-09T09:42:34\", \"2022-06-09T09:42:35\", \"2022-06-09T09:42:36\", \"2022-06-09T09:42:37\", \"2022-06-09T09:42:38\", \"2022-06-09T09:42:39\", \"2022-06-09T09:42:40\", \"2022-06-09T09:42:41\", \"2022-06-09T09:42:42\", \"2022-06-09T09:42:43\", \"2022-06-09T09:42:44\", \"2022-06-09T09:42:45\", \"2022-06-09T09:42:46\", \"2022-06-09T09:42:47\", \"2022-06-09T09:42:48\", \"2022-06-09T09:42:49\", \"2022-06-09T09:42:50\", \"2022-06-09T09:42:51\", \"2022-06-09T09:42:52\", \"2022-06-09T09:42:53\", \"2022-06-09T09:42:54\", \"2022-06-09T09:42:55\", \"2022-06-09T09:42:56\", \"2022-06-09T09:42:57\", \"2022-06-09T09:42:58\", \"2022-06-09T09:42:59\", \"2022-06-09T09:43:00\", \"2022-06-09T09:43:01\", \"2022-06-09T09:43:02\", \"2022-06-09T09:43:03\", \"2022-06-09T09:43:04\", \"2022-06-09T09:43:05\", \"2022-06-09T09:43:06\", \"2022-06-09T09:43:07\", \"2022-06-09T09:43:08\", \"2022-06-09T09:43:09\", \"2022-06-09T09:43:10\", \"2022-06-09T09:43:11\", \"2022-06-09T09:43:12\", \"2022-06-09T09:43:13\", \"2022-06-09T09:43:14\", \"2022-06-09T09:43:15\", \"2022-06-09T09:43:16\", \"2022-06-09T09:43:17\", \"2022-06-09T09:43:18\", \"2022-06-09T09:43:19\", \"2022-06-09T09:43:20\", \"2022-06-09T09:43:21\", \"2022-06-09T09:43:22\", \"2022-06-09T09:43:23\", \"2022-06-09T09:43:24\", \"2022-06-09T09:43:25\", \"2022-06-09T09:43:26\", \"2022-06-09T09:43:27\", \"2022-06-09T09:43:28\", \"2022-06-09T09:43:29\", \"2022-06-09T09:43:30\", \"2022-06-09T09:43:31\", \"2022-06-09T09:43:32\", \"2022-06-09T09:43:33\", \"2022-06-09T09:43:34\", \"2022-06-09T09:43:35\", \"2022-06-09T09:43:36\", \"2022-06-09T09:43:37\", \"2022-06-09T09:43:38\", \"2022-06-09T09:43:39\", \"2022-06-09T09:43:40\"], \"xaxis\": \"x\", \"y\": [0.0003750819305423647, 0.00037405072362162173, 0.0003741749096661806, 0.0002965522580780089, 0.0003201072395313531, 0.00032957555959001184, 0.0003239669313188642, 0.0003205573302693665, 0.0003217622870579362, 0.0003237406490370631, 0.0003249125147704035, 0.0003276705974712968, 0.0003312226617708802, 0.0003292725305072963, 0.0003251321613788605, 0.00032518961234018207, 0.00032006882247515023, 0.00032162657589651644, 0.0003243376559112221, 0.00032384623773396015, 0.00032101775286719203, 0.00032339306198991835, 0.00032322591869160533, 0.0003226804838050157, 0.00032174435909837484, 0.000324043445289135, 0.0003201059007551521, 0.00031738862162455916, 0.00031742476858198643, 0.00031535085872747004, 0.0003101570182479918, 0.0002996909897774458, 0.0003095375723205507, 0.00030919519485905766, 0.0002947557077277452, 0.00012015489483019337, 6.483386096078902e-05, 5.156702900421806e-05, 5.238042285782285e-05, 5.086257078801282e-05, 5.047559170634486e-05, 5.070658880867995e-05, 5.141536894370802e-05, 4.773581531480886e-05, 4.931260264129378e-05, 4.854822691413574e-05, 4.877354149357416e-05, 5.028157829656266e-05, 4.766453639604151e-05, 4.7460860514547676e-05, 4.8008805606514215e-05, 6.949018279556185e-05, 4.81584356748499e-05, 4.3508603994268924e-05, 4.599007297656499e-05, 4.580993117997423e-05, 4.304834146751091e-05, 4.471362626645714e-05, 4.296788029023446e-05, 4.4340838940115646e-05, 4.3359945266274735e-05, 4.479061681195162e-05, 4.512088344199583e-05, 4.469765553949401e-05, 4.3732052290579304e-05, 4.365378481452353e-05, 4.5115422835806385e-05, 4.423123027663678e-05, 4.489532147999853e-05, 4.45404730271548e-05, 4.300297223380767e-05, 4.331717354943976e-05, 4.34091743954923e-05, 4.44343349954579e-05, 4.309062205720693e-05, 4.246551179676317e-05, 4.264687959221192e-05, 4.190376785118133e-05, 4.2689502151915804e-05, 4.2767242121044546e-05, 4.453916335478425e-05, 4.199654722469859e-05, 4.279118365957402e-05, 4.182255361229181e-05, 4.2371120798634365e-05, 4.088843343197368e-05, 4.058381819049828e-05, 4.194180291960947e-05, 4.290822471375577e-05, 4.369445741758682e-05, 4.126809290028177e-05, 4.117540447623469e-05, 4.336268830229528e-05, 4.1063904063776135e-05, 4.048834671266377e-05, 4.189550963928923e-05, 4.0728486055741087e-05, 4.000426997663453e-05, 4.250317215337418e-05, 4.046975664095953e-05, 4.0563532820669934e-05, 4.120847734156996e-05, 3.954611747758463e-05, 4.066038673045114e-05, 4.0476868889527395e-05, 4.111291127628647e-05, 4.1284525650553405e-05, 4.064792665303685e-05, 4.098692079423927e-05, 4.0369592170463875e-05, 4.066055407747626e-05, 4.211803388898261e-05, 4.145642014918849e-05, 4.131394962314516e-05, 4.2187049984931946e-05, 4.167808219790459e-05, 4.2683182982727885e-05, 4.1104322008322924e-05, 4.198694659862667e-05, 4.284115129848942e-05, 4.169974272372201e-05, 4.077102857991122e-05, 4.058214835822582e-05, 4.068712951266207e-05, 4.004496440757066e-05, 4.0592502045910805e-05, 4.090472430107184e-05, 4.1583178244763985e-05, 4.0514598367735744e-05, 4.006745803053491e-05, 4.115038609597832e-05, 4.114879993721843e-05, 4.0814149542711675e-05, 4.156247086939402e-05, 4.123431790503673e-05, 3.990713958046399e-05, 4.0445898775942624e-05, 4.140063174418174e-05, 4.071913645020686e-05, 4.140526652918197e-05, 4.2010800825664774e-05, 4.146924402448349e-05, 4.152159453951754e-05, 0.0001069249992724508, 0.00013701047282665968, 4.00694043491967e-05, 4.164439451415092e-05, 4.005554728792049e-05, 4.186509977444075e-05, 4.108741268282756e-05, 4.069603528478183e-05, 4.26859078288544e-05, 4.243826697347686e-05, 4.056680700159632e-05, 4.185406942269765e-05, 4.3985797674395144e-05, 4.25232901761774e-05, 0.00021153259149286896, 0.00036952929804101586, 0.00019180786330252886, 5.131579382577911e-05, 4.764214827446267e-05, 4.8191726818913594e-05, 4.6227723942138255e-05, 0.00015254889149218798, 9.038698772201315e-05, 4.0874117985367775e-05, 4.087148408871144e-05, 4.094870018889196e-05, 3.99952768930234e-05, 4.252920189173892e-05, 4.4871823774883524e-05, 4.72968713438604e-05, 4.8714588047005236e-05, 5.302339923218824e-05, 5.316854367265478e-05, 4.846373849431984e-05, 5.0959744839929044e-05, 4.923183223581873e-05, 5.287658132147044e-05, 5.273797069094144e-05, 5.1472801715135574e-05, 4.904589513898827e-05, 4.82317445857916e-05, 4.709994391305372e-05, 4.614641875377856e-05, 4.448837717063725e-05, 4.7034642193466425e-05, 4.5008193410467356e-05, 4.7235713282134384e-05, 4.908724076813087e-05, 4.66012024844531e-05, 4.920851279166527e-05, 4.769435690832324e-05, 4.889585034106858e-05, 4.928697308059782e-05, 4.794484266312793e-05, 4.486893521971069e-05, 4.6117955207591876e-05, 4.603093839250505e-05, 4.458198600332253e-05, 5.0990493036806583e-05, 7.015508163021877e-05, 5.104178126202896e-05, 5.0133538024965674e-05, 6.585816299775615e-05, 4.202326454105787e-05, 4.388667002785951e-05, 4.42212367488537e-05, 4.3103209463879466e-05, 4.291349250706844e-05, 4.305789479985833e-05, 4.26225560659077e-05, 3.5840443160850555e-05, 2.8032123736920767e-05, 2.9291453756741248e-05, 3.0499066269840114e-05, 2.73714613285847e-05, 3.0397031878237613e-05, 2.77848284895299e-05], \"yaxis\": \"y\"}],\n",
       "                        {\"barmode\": \"relative\", \"legend\": {\"tracegroupgap\": 0}, \"margin\": {\"t\": 60}, \"template\": {\"data\": {\"bar\": [{\"error_x\": {\"color\": \"#2a3f5f\"}, \"error_y\": {\"color\": \"#2a3f5f\"}, \"marker\": {\"line\": {\"color\": \"#E5ECF6\", \"width\": 0.5}}, \"type\": \"bar\"}], \"barpolar\": [{\"marker\": {\"line\": {\"color\": \"#E5ECF6\", \"width\": 0.5}}, \"type\": \"barpolar\"}], \"carpet\": [{\"aaxis\": {\"endlinecolor\": \"#2a3f5f\", \"gridcolor\": \"white\", \"linecolor\": \"white\", \"minorgridcolor\": \"white\", \"startlinecolor\": \"#2a3f5f\"}, \"baxis\": {\"endlinecolor\": \"#2a3f5f\", \"gridcolor\": \"white\", \"linecolor\": \"white\", \"minorgridcolor\": \"white\", \"startlinecolor\": \"#2a3f5f\"}, \"type\": \"carpet\"}], \"choropleth\": [{\"colorbar\": {\"outlinewidth\": 0, \"ticks\": \"\"}, \"type\": \"choropleth\"}], \"contour\": [{\"colorbar\": {\"outlinewidth\": 0, \"ticks\": \"\"}, \"colorscale\": [[0.0, \"#0d0887\"], [0.1111111111111111, \"#46039f\"], [0.2222222222222222, \"#7201a8\"], [0.3333333333333333, \"#9c179e\"], [0.4444444444444444, \"#bd3786\"], [0.5555555555555556, \"#d8576b\"], [0.6666666666666666, \"#ed7953\"], [0.7777777777777778, \"#fb9f3a\"], [0.8888888888888888, \"#fdca26\"], [1.0, \"#f0f921\"]], \"type\": \"contour\"}], \"contourcarpet\": [{\"colorbar\": {\"outlinewidth\": 0, \"ticks\": \"\"}, \"type\": \"contourcarpet\"}], \"heatmap\": [{\"colorbar\": {\"outlinewidth\": 0, \"ticks\": \"\"}, \"colorscale\": [[0.0, \"#0d0887\"], [0.1111111111111111, \"#46039f\"], [0.2222222222222222, \"#7201a8\"], [0.3333333333333333, \"#9c179e\"], [0.4444444444444444, \"#bd3786\"], [0.5555555555555556, \"#d8576b\"], [0.6666666666666666, \"#ed7953\"], [0.7777777777777778, \"#fb9f3a\"], [0.8888888888888888, \"#fdca26\"], [1.0, \"#f0f921\"]], \"type\": \"heatmap\"}], \"heatmapgl\": [{\"colorbar\": {\"outlinewidth\": 0, \"ticks\": \"\"}, \"colorscale\": [[0.0, \"#0d0887\"], [0.1111111111111111, \"#46039f\"], [0.2222222222222222, \"#7201a8\"], [0.3333333333333333, \"#9c179e\"], [0.4444444444444444, \"#bd3786\"], [0.5555555555555556, \"#d8576b\"], [0.6666666666666666, \"#ed7953\"], [0.7777777777777778, \"#fb9f3a\"], [0.8888888888888888, \"#fdca26\"], [1.0, \"#f0f921\"]], \"type\": \"heatmapgl\"}], \"histogram\": [{\"marker\": {\"colorbar\": {\"outlinewidth\": 0, \"ticks\": \"\"}}, \"type\": \"histogram\"}], \"histogram2d\": [{\"colorbar\": {\"outlinewidth\": 0, \"ticks\": \"\"}, \"colorscale\": [[0.0, \"#0d0887\"], [0.1111111111111111, \"#46039f\"], [0.2222222222222222, \"#7201a8\"], [0.3333333333333333, \"#9c179e\"], [0.4444444444444444, \"#bd3786\"], [0.5555555555555556, \"#d8576b\"], [0.6666666666666666, \"#ed7953\"], [0.7777777777777778, \"#fb9f3a\"], [0.8888888888888888, \"#fdca26\"], [1.0, \"#f0f921\"]], \"type\": \"histogram2d\"}], \"histogram2dcontour\": [{\"colorbar\": {\"outlinewidth\": 0, \"ticks\": \"\"}, \"colorscale\": [[0.0, \"#0d0887\"], [0.1111111111111111, \"#46039f\"], [0.2222222222222222, \"#7201a8\"], [0.3333333333333333, \"#9c179e\"], [0.4444444444444444, \"#bd3786\"], [0.5555555555555556, \"#d8576b\"], [0.6666666666666666, \"#ed7953\"], [0.7777777777777778, \"#fb9f3a\"], [0.8888888888888888, \"#fdca26\"], [1.0, \"#f0f921\"]], \"type\": \"histogram2dcontour\"}], \"mesh3d\": [{\"colorbar\": {\"outlinewidth\": 0, \"ticks\": \"\"}, \"type\": \"mesh3d\"}], \"parcoords\": [{\"line\": {\"colorbar\": {\"outlinewidth\": 0, \"ticks\": \"\"}}, \"type\": \"parcoords\"}], \"pie\": [{\"automargin\": true, \"type\": \"pie\"}], \"scatter\": [{\"marker\": {\"colorbar\": {\"outlinewidth\": 0, \"ticks\": \"\"}}, \"type\": \"scatter\"}], \"scatter3d\": [{\"line\": {\"colorbar\": {\"outlinewidth\": 0, \"ticks\": \"\"}}, \"marker\": {\"colorbar\": {\"outlinewidth\": 0, \"ticks\": \"\"}}, \"type\": \"scatter3d\"}], \"scattercarpet\": [{\"marker\": {\"colorbar\": {\"outlinewidth\": 0, \"ticks\": \"\"}}, \"type\": \"scattercarpet\"}], \"scattergeo\": [{\"marker\": {\"colorbar\": {\"outlinewidth\": 0, \"ticks\": \"\"}}, \"type\": \"scattergeo\"}], \"scattergl\": [{\"marker\": {\"colorbar\": {\"outlinewidth\": 0, \"ticks\": \"\"}}, \"type\": \"scattergl\"}], \"scattermapbox\": [{\"marker\": {\"colorbar\": {\"outlinewidth\": 0, \"ticks\": \"\"}}, \"type\": \"scattermapbox\"}], \"scatterpolar\": [{\"marker\": {\"colorbar\": {\"outlinewidth\": 0, \"ticks\": \"\"}}, \"type\": \"scatterpolar\"}], \"scatterpolargl\": [{\"marker\": {\"colorbar\": {\"outlinewidth\": 0, \"ticks\": \"\"}}, \"type\": \"scatterpolargl\"}], \"scatterternary\": [{\"marker\": {\"colorbar\": {\"outlinewidth\": 0, \"ticks\": \"\"}}, \"type\": \"scatterternary\"}], \"surface\": [{\"colorbar\": {\"outlinewidth\": 0, \"ticks\": \"\"}, \"colorscale\": [[0.0, \"#0d0887\"], [0.1111111111111111, \"#46039f\"], [0.2222222222222222, \"#7201a8\"], [0.3333333333333333, \"#9c179e\"], [0.4444444444444444, \"#bd3786\"], [0.5555555555555556, \"#d8576b\"], [0.6666666666666666, \"#ed7953\"], [0.7777777777777778, \"#fb9f3a\"], [0.8888888888888888, \"#fdca26\"], [1.0, \"#f0f921\"]], \"type\": \"surface\"}], \"table\": [{\"cells\": {\"fill\": {\"color\": \"#EBF0F8\"}, \"line\": {\"color\": \"white\"}}, \"header\": {\"fill\": {\"color\": \"#C8D4E3\"}, \"line\": {\"color\": \"white\"}}, \"type\": \"table\"}]}, \"layout\": {\"annotationdefaults\": {\"arrowcolor\": \"#2a3f5f\", \"arrowhead\": 0, \"arrowwidth\": 1}, \"coloraxis\": {\"colorbar\": {\"outlinewidth\": 0, \"ticks\": \"\"}}, \"colorscale\": {\"diverging\": [[0, \"#8e0152\"], [0.1, \"#c51b7d\"], [0.2, \"#de77ae\"], [0.3, \"#f1b6da\"], [0.4, \"#fde0ef\"], [0.5, \"#f7f7f7\"], [0.6, \"#e6f5d0\"], [0.7, \"#b8e186\"], [0.8, \"#7fbc41\"], [0.9, \"#4d9221\"], [1, \"#276419\"]], \"sequential\": [[0.0, \"#0d0887\"], [0.1111111111111111, \"#46039f\"], [0.2222222222222222, \"#7201a8\"], [0.3333333333333333, \"#9c179e\"], [0.4444444444444444, \"#bd3786\"], [0.5555555555555556, \"#d8576b\"], [0.6666666666666666, \"#ed7953\"], [0.7777777777777778, \"#fb9f3a\"], [0.8888888888888888, \"#fdca26\"], [1.0, \"#f0f921\"]], \"sequentialminus\": [[0.0, \"#0d0887\"], [0.1111111111111111, \"#46039f\"], [0.2222222222222222, \"#7201a8\"], [0.3333333333333333, \"#9c179e\"], [0.4444444444444444, \"#bd3786\"], [0.5555555555555556, \"#d8576b\"], [0.6666666666666666, \"#ed7953\"], [0.7777777777777778, \"#fb9f3a\"], [0.8888888888888888, \"#fdca26\"], [1.0, \"#f0f921\"]]}, \"colorway\": [\"#636efa\", \"#EF553B\", \"#00cc96\", \"#ab63fa\", \"#FFA15A\", \"#19d3f3\", \"#FF6692\", \"#B6E880\", \"#FF97FF\", \"#FECB52\"], \"font\": {\"color\": \"#2a3f5f\"}, \"geo\": {\"bgcolor\": \"white\", \"lakecolor\": \"white\", \"landcolor\": \"#E5ECF6\", \"showlakes\": true, \"showland\": true, \"subunitcolor\": \"white\"}, \"hoverlabel\": {\"align\": \"left\"}, \"hovermode\": \"closest\", \"mapbox\": {\"style\": \"light\"}, \"paper_bgcolor\": \"white\", \"plot_bgcolor\": \"#E5ECF6\", \"polar\": {\"angularaxis\": {\"gridcolor\": \"white\", \"linecolor\": \"white\", \"ticks\": \"\"}, \"bgcolor\": \"#E5ECF6\", \"radialaxis\": {\"gridcolor\": \"white\", \"linecolor\": \"white\", \"ticks\": \"\"}}, \"scene\": {\"xaxis\": {\"backgroundcolor\": \"#E5ECF6\", \"gridcolor\": \"white\", \"gridwidth\": 2, \"linecolor\": \"white\", \"showbackground\": true, \"ticks\": \"\", \"zerolinecolor\": \"white\"}, \"yaxis\": {\"backgroundcolor\": \"#E5ECF6\", \"gridcolor\": \"white\", \"gridwidth\": 2, \"linecolor\": \"white\", \"showbackground\": true, \"ticks\": \"\", \"zerolinecolor\": \"white\"}, \"zaxis\": {\"backgroundcolor\": \"#E5ECF6\", \"gridcolor\": \"white\", \"gridwidth\": 2, \"linecolor\": \"white\", \"showbackground\": true, \"ticks\": \"\", \"zerolinecolor\": \"white\"}}, \"shapedefaults\": {\"line\": {\"color\": \"#2a3f5f\"}}, \"ternary\": {\"aaxis\": {\"gridcolor\": \"white\", \"linecolor\": \"white\", \"ticks\": \"\"}, \"baxis\": {\"gridcolor\": \"white\", \"linecolor\": \"white\", \"ticks\": \"\"}, \"bgcolor\": \"#E5ECF6\", \"caxis\": {\"gridcolor\": \"white\", \"linecolor\": \"white\", \"ticks\": \"\"}}, \"title\": {\"x\": 0.05}, \"xaxis\": {\"automargin\": true, \"gridcolor\": \"white\", \"linecolor\": \"white\", \"ticks\": \"\", \"title\": {\"standoff\": 15}, \"zerolinecolor\": \"white\", \"zerolinewidth\": 2}, \"yaxis\": {\"automargin\": true, \"gridcolor\": \"white\", \"linecolor\": \"white\", \"ticks\": \"\", \"title\": {\"standoff\": 15}, \"zerolinecolor\": \"white\", \"zerolinewidth\": 2}}}, \"xaxis\": {\"anchor\": \"y\", \"domain\": [0.0, 1.0], \"title\": {\"text\": \"timestamp\"}}, \"yaxis\": {\"anchor\": \"x\", \"domain\": [0.0, 1.0], \"title\": {\"text\": \"maa\"}}},\n",
       "                        {\"responsive\": true}\n",
       "                    ).then(function(){\n",
       "                            \n",
       "var gd = document.getElementById('c2a1f8ef-cab2-4712-9373-1ee86ca950f9');\n",
       "var x = new MutationObserver(function (mutations, observer) {{\n",
       "        var display = window.getComputedStyle(gd).display;\n",
       "        if (!display || display === 'none') {{\n",
       "            console.log([gd, 'removed!']);\n",
       "            Plotly.purge(gd);\n",
       "            observer.disconnect();\n",
       "        }}\n",
       "}});\n",
       "\n",
       "// Listen for the removal of the full notebook cells\n",
       "var notebookContainer = gd.closest('#notebook-container');\n",
       "if (notebookContainer) {{\n",
       "    x.observe(notebookContainer, {childList: true});\n",
       "}}\n",
       "\n",
       "// Listen for the clearing of the current output cell\n",
       "var outputEl = gd.closest('.output');\n",
       "if (outputEl) {{\n",
       "    x.observe(outputEl, {childList: true});\n",
       "}}\n",
       "\n",
       "                        })\n",
       "                };\n",
       "                });\n",
       "            </script>\n",
       "        </div>"
      ]
     },
     "metadata": {},
     "output_type": "display_data"
    }
   ],
   "source": [
    "px.bar(df_audio, x='timestamp', y='maa')"
   ]
  },
  {
   "cell_type": "markdown",
   "id": "fe4bc84e",
   "metadata": {},
   "source": [
    "# Merge data frames"
   ]
  },
  {
   "cell_type": "code",
   "execution_count": 25,
   "id": "c094af7e",
   "metadata": {},
   "outputs": [],
   "source": [
    "df_merged = df_audio.merge(df_flight)\n",
    "df_merged.to_csv('merged.csv', index=False)"
   ]
  },
  {
   "cell_type": "code",
   "execution_count": 13,
   "id": "152bb200",
   "metadata": {},
   "outputs": [
    {
     "data": {
      "text/plain": [
       "221.512"
      ]
     },
     "execution_count": 13,
     "metadata": {},
     "output_type": "execute_result"
    }
   ],
   "source": [
    "len(data)/48000"
   ]
  },
  {
   "cell_type": "code",
   "execution_count": 14,
   "id": "c579511d",
   "metadata": {},
   "outputs": [
    {
     "data": {
      "text/plain": [
       "'2022-06-11T05:30:40+10:00'"
      ]
     },
     "execution_count": 14,
     "metadata": {},
     "output_type": "execute_result"
    }
   ],
   "source": [
    "datetime.datetime.now().astimezone().replace(microsecond=0).isoformat()"
   ]
  },
  {
   "cell_type": "code",
   "execution_count": 15,
   "id": "eeb1b5ee",
   "metadata": {},
   "outputs": [
    {
     "data": {
      "text/plain": [
       "datetime.datetime(2022, 6, 9, 9, 40, tzinfo=datetime.timezone(datetime.timedelta(seconds=36000)))"
      ]
     },
     "execution_count": 15,
     "metadata": {},
     "output_type": "execute_result"
    }
   ],
   "source": [
    "ts_string = '2022-06-09T09:40:00+10:00'\n",
    "start = datetime.datetime.strptime(ts_string, \"%Y-%m-%dT%H:%M:%S%z\")\n",
    "start"
   ]
  },
  {
   "cell_type": "code",
   "execution_count": 16,
   "id": "94074fe6",
   "metadata": {},
   "outputs": [
    {
     "data": {
      "text/plain": [
       "datetime.datetime(2022, 6, 9, 9, 40, 1, tzinfo=datetime.timezone(datetime.timedelta(seconds=36000)))"
      ]
     },
     "execution_count": 16,
     "metadata": {},
     "output_type": "execute_result"
    }
   ],
   "source": [
    "start+datetime.timedelta(seconds=1)"
   ]
  },
  {
   "cell_type": "code",
   "execution_count": 17,
   "id": "79887acf",
   "metadata": {},
   "outputs": [],
   "source": [
    "fmt = \"%Y-%m-%dT%H:%M:%S%z\"\n",
    "begin_audio_record = datetime.datetime.strptime('2022-06-09T09:40:00+10:00', fmt)\n",
    "takeoff = datetime.datetime.strptime('2022-06-09T09:40:37+10:00', fmt)\n",
    "landing = datetime.datetime.strptime('2022-06-09T09:42:31+10:00', fmt)\n",
    "end_audio_record = begin_audio_record + datetime.timedelta(seconds=int(len(data)/48000))"
   ]
  },
  {
   "cell_type": "code",
   "execution_count": 18,
   "id": "a1f0ec6e",
   "metadata": {},
   "outputs": [],
   "source": [
    "n = int(len(data)/48000)\n"
   ]
  },
  {
   "cell_type": "code",
   "execution_count": null,
   "id": "0b48b112",
   "metadata": {},
   "outputs": [],
   "source": []
  }
 ],
 "metadata": {
  "kernelspec": {
   "display_name": "Python 3",
   "language": "python",
   "name": "python3"
  },
  "language_info": {
   "codemirror_mode": {
    "name": "ipython",
    "version": 3
   },
   "file_extension": ".py",
   "mimetype": "text/x-python",
   "name": "python",
   "nbconvert_exporter": "python",
   "pygments_lexer": "ipython3",
   "version": "3.8.10"
  }
 },
 "nbformat": 4,
 "nbformat_minor": 5
}
