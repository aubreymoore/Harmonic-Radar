{
 "cells": [
  {
   "cell_type": "code",
   "execution_count": 1,
   "id": "83f34f44-615a-4715-9272-ce9a059025f0",
   "metadata": {},
   "outputs": [
    {
     "name": "stdout",
     "output_type": "stream",
     "text": [
      "Collecting noisereduce\n",
      "  Downloading noisereduce-2.0.1-py3-none-any.whl (15 kB)\n",
      "Requirement already satisfied: numpy in /home/aubrey/.local/lib/python3.8/site-packages (from noisereduce) (1.20.3)\n",
      "Requirement already satisfied: scipy in /home/aubrey/anaconda3/lib/python3.8/site-packages (from noisereduce) (1.6.2)\n",
      "Requirement already satisfied: librosa in /home/aubrey/.local/lib/python3.8/site-packages (from noisereduce) (0.8.1)\n",
      "Requirement already satisfied: tqdm in /home/aubrey/.local/lib/python3.8/site-packages (from noisereduce) (4.62.2)\n",
      "Requirement already satisfied: matplotlib in /home/aubrey/anaconda3/lib/python3.8/site-packages (from noisereduce) (3.3.4)\n",
      "Requirement already satisfied: scikit-learn!=0.19.0,>=0.14.0 in /home/aubrey/anaconda3/lib/python3.8/site-packages (from librosa->noisereduce) (0.24.1)\n",
      "Requirement already satisfied: joblib>=0.14 in /home/aubrey/anaconda3/lib/python3.8/site-packages (from librosa->noisereduce) (1.0.1)\n",
      "Requirement already satisfied: pooch>=1.0 in /home/aubrey/.local/lib/python3.8/site-packages (from librosa->noisereduce) (1.5.2)\n",
      "Requirement already satisfied: decorator>=3.0.0 in /home/aubrey/anaconda3/lib/python3.8/site-packages (from librosa->noisereduce) (5.0.6)\n",
      "Requirement already satisfied: resampy>=0.2.2 in /home/aubrey/.local/lib/python3.8/site-packages (from librosa->noisereduce) (0.2.2)\n",
      "Requirement already satisfied: numba>=0.43.0 in /home/aubrey/.local/lib/python3.8/site-packages (from librosa->noisereduce) (0.54.1)\n",
      "Requirement already satisfied: audioread>=2.0.0 in /home/aubrey/.local/lib/python3.8/site-packages (from librosa->noisereduce) (2.1.9)\n",
      "Requirement already satisfied: packaging>=20.0 in /home/aubrey/anaconda3/lib/python3.8/site-packages (from librosa->noisereduce) (20.9)\n",
      "Requirement already satisfied: soundfile>=0.10.2 in /home/aubrey/.local/lib/python3.8/site-packages (from librosa->noisereduce) (0.10.3.post1)\n",
      "Requirement already satisfied: setuptools in /home/aubrey/anaconda3/lib/python3.8/site-packages (from numba>=0.43.0->librosa->noisereduce) (52.0.0.post20210125)\n",
      "Requirement already satisfied: llvmlite<0.38,>=0.37.0rc1 in /home/aubrey/.local/lib/python3.8/site-packages (from numba>=0.43.0->librosa->noisereduce) (0.37.0)\n",
      "Requirement already satisfied: pyparsing>=2.0.2 in /home/aubrey/anaconda3/lib/python3.8/site-packages (from packaging>=20.0->librosa->noisereduce) (2.4.7)\n",
      "Requirement already satisfied: requests in /home/aubrey/anaconda3/lib/python3.8/site-packages (from pooch>=1.0->librosa->noisereduce) (2.25.1)\n",
      "Requirement already satisfied: appdirs in /home/aubrey/anaconda3/lib/python3.8/site-packages (from pooch>=1.0->librosa->noisereduce) (1.4.4)\n",
      "Requirement already satisfied: six>=1.3 in /home/aubrey/anaconda3/lib/python3.8/site-packages (from resampy>=0.2.2->librosa->noisereduce) (1.15.0)\n",
      "Requirement already satisfied: threadpoolctl>=2.0.0 in /home/aubrey/anaconda3/lib/python3.8/site-packages (from scikit-learn!=0.19.0,>=0.14.0->librosa->noisereduce) (2.1.0)\n",
      "Requirement already satisfied: cffi>=1.0 in /home/aubrey/.local/lib/python3.8/site-packages (from soundfile>=0.10.2->librosa->noisereduce) (1.14.6)\n",
      "Requirement already satisfied: pycparser in /home/aubrey/.local/lib/python3.8/site-packages (from cffi>=1.0->soundfile>=0.10.2->librosa->noisereduce) (2.20)\n",
      "Requirement already satisfied: pillow>=6.2.0 in /home/aubrey/.local/lib/python3.8/site-packages (from matplotlib->noisereduce) (9.0.1)\n",
      "Requirement already satisfied: kiwisolver>=1.0.1 in /home/aubrey/anaconda3/lib/python3.8/site-packages (from matplotlib->noisereduce) (1.3.1)\n",
      "Requirement already satisfied: python-dateutil>=2.1 in /home/aubrey/.local/lib/python3.8/site-packages (from matplotlib->noisereduce) (2.8.2)\n",
      "Requirement already satisfied: cycler>=0.10 in /home/aubrey/anaconda3/lib/python3.8/site-packages (from matplotlib->noisereduce) (0.10.0)\n",
      "Requirement already satisfied: urllib3<1.27,>=1.21.1 in /home/aubrey/anaconda3/lib/python3.8/site-packages (from requests->pooch>=1.0->librosa->noisereduce) (1.26.4)\n",
      "Requirement already satisfied: certifi>=2017.4.17 in /home/aubrey/anaconda3/lib/python3.8/site-packages (from requests->pooch>=1.0->librosa->noisereduce) (2020.12.5)\n",
      "Requirement already satisfied: chardet<5,>=3.0.2 in /home/aubrey/anaconda3/lib/python3.8/site-packages (from requests->pooch>=1.0->librosa->noisereduce) (4.0.0)\n",
      "Requirement already satisfied: idna<3,>=2.5 in /home/aubrey/anaconda3/lib/python3.8/site-packages (from requests->pooch>=1.0->librosa->noisereduce) (2.10)\n",
      "Installing collected packages: noisereduce\n",
      "Successfully installed noisereduce-2.0.1\n",
      "\u001b[33mWARNING: You are using pip version 21.2.4; however, version 22.1.2 is available.\n",
      "You should consider upgrading via the '/home/aubrey/anaconda3/bin/python -m pip install --upgrade pip' command.\u001b[0m\n"
     ]
    }
   ],
   "source": [
    "!pip3 install noisereduce"
   ]
  },
  {
   "cell_type": "code",
   "execution_count": 4,
   "id": "ca88aeed-554d-4a46-bfe8-9ee3c7c3ba5b",
   "metadata": {},
   "outputs": [
    {
     "name": "stderr",
     "output_type": "stream",
     "text": [
      "<ipython-input-4-586ac783dba5>:4: WavFileWarning: Chunk (non-data) not understood, skipping it.\n",
      "  rate, data = wavfile.read(\"220609_001.WAV\")\n",
      "<ipython-input-4-586ac783dba5>:5: WavFileWarning: Chunk (non-data) not understood, skipping it.\n",
      "  noise_rate, noise_data = wavfile.read(\"220609_001_noise.wav\")\n"
     ]
    }
   ],
   "source": [
    "from scipy.io import wavfile\n",
    "import noisereduce as nr\n",
    "# load data\n",
    "rate, data = wavfile.read(\"220609_001.WAV\")\n",
    "noise_rate, noise_data = wavfile.read(\"220609_001_noise.wav\")\n",
    "# perform noise reduction\n",
    "reduced_noise = nr.reduce_noise(y=data, sr=rate, stationary=True, y_noise=noise_data)\n",
    "wavfile.write(\"220609_001_reduced_noise.wav\", rate, reduced_noise)"
   ]
  },
  {
   "cell_type": "code",
   "execution_count": null,
   "id": "a179ca98-a573-4e7e-a2d9-c2db0b4b0748",
   "metadata": {},
   "outputs": [],
   "source": []
  }
 ],
 "metadata": {
  "kernelspec": {
   "display_name": "Python 3",
   "language": "python",
   "name": "python3"
  },
  "language_info": {
   "codemirror_mode": {
    "name": "ipython",
    "version": 3
   },
   "file_extension": ".py",
   "mimetype": "text/x-python",
   "name": "python",
   "nbconvert_exporter": "python",
   "pygments_lexer": "ipython3",
   "version": "3.8.8"
  }
 },
 "nbformat": 4,
 "nbformat_minor": 5
}
