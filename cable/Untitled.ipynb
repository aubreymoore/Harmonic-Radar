{
 "cells": [
  {
   "cell_type": "markdown",
   "id": "ddab976f-08a0-4170-802b-f7d60a7b8823",
   "metadata": {},
   "source": [
    "# Building an audio cable to connect the RECCO headphone output to the microphone input of a ZOOM F2 field recorder\n",
    "\n",
    "The ZOOM F2 recorder is designed for use with a powered lavalier microphone. The microphone jack accepts a 3.5 mm TRS phono plug:\n",
    "* **Tip:** +2.5 volts (microphone power supply)\n",
    "* **Ring:** audio signal\n",
    "* **Sleeve:** ground\n",
    "\n",
    "To prevent possible problems from applying 2.5 volts to the RECCO output jack, I built a cable by cutting one end off a cable equipped with two 3.5 mm TRS phono plugs. Wires attached to the ring and shield were identified with multimeter and these were soldered to header pin connectors. The wire connected to the tip was unused. Heat shrink tubing was used to insulate the connections."
   ]
  },
  {
   "cell_type": "code",
   "execution_count": 15,
   "id": "5be75636-4a8e-4fa9-a36b-5a589bf2c5a1",
   "metadata": {},
   "outputs": [],
   "source": [
    "from scipy.io import wavfile\n",
    "import numpy as np\n",
    "import matplotlib.pyplot as plt"
   ]
  },
  {
   "cell_type": "code",
   "execution_count": 16,
   "id": "6608da4b-d466-4119-a132-d8c7a61275fd",
   "metadata": {},
   "outputs": [
    {
     "name": "stderr",
     "output_type": "stream",
     "text": [
      "<ipython-input-16-a3fba68f960f>:1: WavFileWarning: Chunk (non-data) not understood, skipping it.\n",
      "  samplerate, data = wavfile.read('220522_001.WAV')\n"
     ]
    }
   ],
   "source": [
    "samplerate, data = wavfile.read('220522_001.WAV')"
   ]
  },
  {
   "cell_type": "code",
   "execution_count": 17,
   "id": "9d6235dc-02f2-421f-83df-3473e1a19536",
   "metadata": {},
   "outputs": [
    {
     "name": "stderr",
     "output_type": "stream",
     "text": [
      "No handles with labels found to put in legend.\n"
     ]
    },
    {
     "data": {
      "image/png": "[encoded data removed]",
      "text/plain": [
       "<Figure size 432x288 with 1 Axes>"
      ]
     },
     "metadata": {
      "needs_background": "light"
     },
     "output_type": "display_data"
    }
   ],
   "source": [
    "length = data.shape[0] / samplerate\n",
    "time = np.linspace(0., length, data.shape[0])\n",
    "plt.plot(time, data)\n",
    "plt.legend()\n",
    "plt.xlabel(\"Time [s]\")\n",
    "plt.ylabel(\"Amplitude\")\n",
    "plt.show()"
   ]
  },
  {
   "cell_type": "code",
   "execution_count": 18,
   "id": "8d9a0e84-2395-408b-85c4-517d4f8e3a77",
   "metadata": {},
   "outputs": [
    {
     "data": {
      "text/plain": [
       "array([ 0.0000000e+00,  4.7974890e-08,  4.3436469e-08, ...,\n",
       "       -3.1750051e-07, -2.1287303e-07, -1.2685703e-07], dtype=float32)"
      ]
     },
     "execution_count": 18,
     "metadata": {},
     "output_type": "execute_result"
    }
   ],
   "source": [
    "data"
   ]
  }
 ],
 "metadata": {
  "kernelspec": {
   "display_name": "Python 3",
   "language": "python",
   "name": "python3"
  },
  "language_info": {
   "codemirror_mode": {
    "name": "ipython",
    "version": 3
   },
   "file_extension": ".py",
   "mimetype": "text/x-python",
   "name": "python",
   "nbconvert_exporter": "python",
   "pygments_lexer": "ipython3",
   "version": "3.8.8"
  }
 },
 "nbformat": 4,
 "nbformat_minor": 5
}
