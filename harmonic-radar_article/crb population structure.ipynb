{
 "cells": [
  {
   "cell_type": "markdown",
   "id": "d77805ad",
   "metadata": {},
   "source": [
    "Abidin et al. 2014"
   ]
  },
  {
   "cell_type": "code",
   "execution_count": null,
   "id": "2cd4676a",
   "metadata": {},
   "outputs": [],
   "source": [
    "pop_structure = {'egggs':25,'instar1':48,''}"
   ]
  }
 ],
 "metadata": {
  "kernelspec": {
   "display_name": "Python 3",
   "language": "python",
   "name": "python3"
  },
  "language_info": {
   "codemirror_mode": {
    "name": "ipython",
    "version": 3
   },
   "file_extension": ".py",
   "mimetype": "text/x-python",
   "name": "python",
   "nbconvert_exporter": "python",
   "pygments_lexer": "ipython3",
   "version": "3.8.8"
  }
 },
 "nbformat": 4,
 "nbformat_minor": 5
}
